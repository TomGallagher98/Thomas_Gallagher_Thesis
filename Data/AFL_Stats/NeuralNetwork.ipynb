{
 "cells": [
  {
   "cell_type": "code",
   "execution_count": 6,
   "metadata": {},
   "outputs": [],
   "source": [
    "import pandas as pd\n",
    "import numpy as np\n",
    "import sklearn\n",
    "from sklearn.model_selection import train_test_split\n",
    "from sklearn.metrics import classification_report,roc_auc_score,confusion_matrix,accuracy_score,f1_score,roc_curve\n",
    "from sklearn.preprocessing import LabelEncoder, OneHotEncoder, MinMaxScaler\n",
    "from keras.models import Sequential\n",
    "from keras.callbacks import ReduceLROnPlateau, EarlyStopping\n",
    "from keras.layers import Activation, Dense, Dropout, Embedding, LSTM\n",
    "import re\n",
    "from IPython.display import display\n",
    "import os\n",
    "import string\n",
    "import time\n",
    "import random\n",
    "import matplotlib.pyplot as plt\n",
    "random.seed(10)"
   ]
  },
  {
   "cell_type": "code",
   "execution_count": 108,
   "metadata": {},
   "outputs": [],
   "source": [
    "# Import Data\n",
    "games_folder_path = \"C:/Users/Craig/Documents/Thesis/Thomas_Gallagher_Thesis/Data/AFL_Stats_sorted/Year/Games/\"\n",
    "games_2012 = pd.read_csv(games_folder_path + '2012.csv', index_col=False, parse_dates=['date'])\n",
    "all_games = pd.read_csv(games_folder_path + 'games_sorted.csv', index_col=False, parse_dates=['date'])"
   ]
  },
  {
   "cell_type": "code",
   "execution_count": 109,
   "metadata": {},
   "outputs": [],
   "source": [
    "# One Hot Encoding Teams\n",
    "encoding = LabelEncoder()\n",
    "encoding.fit(all_games[\"homeTeam\"].values)\n",
    "\n",
    "def OHE_Teams(games):\n",
    "    home_teams = encoding.transform(games[\"homeTeam\"].values)\n",
    "    away_teams = encoding.transform(games[\"awayTeam\"].values)\n",
    "\n",
    "    all_teams = np.vstack([home_teams, away_teams]).T\n",
    " \n",
    "    oneHot = OneHotEncoder()\n",
    "    X_teams = oneHot.fit_transform(all_teams).todense()\n",
    "    X_teams = pd.DataFrame(X_teams)\n",
    "    games = pd.concat([games, pd.DataFrame(X_teams)],axis=1)\n",
    "    return games\n",
    "\n",
    "games_2012 = OHE_Teams(games_2012)\n",
    "# games_2013 = OHE_Teams(games_2013)\n",
    "# games_2014 = OHE_Teams(games_2014)\n",
    "# games_2015 = OHE_Teams(games_2015)\n",
    "# games_2016 = OHE_Teams(games_2016)\n",
    "# games_2017 = OHE_Teams(games_2017)\n",
    "# games_2018 = OHE_Teams(games_2018)\n",
    "# games_2019 = OHE_Teams(games_2019)\n",
    "# games_2020 = OHE_Teams(games_2020)\n",
    "# games_2021 = OHE_Teams(games_2021)"
   ]
  },
  {
   "cell_type": "code",
   "execution_count": 110,
   "metadata": {},
   "outputs": [],
   "source": [
    "# One Hot Encoding Venues\n",
    "encoding = LabelEncoder()\n",
    "encoding.fit(all_games[\"venue\"].values)\n",
    "all_venues = all_games[\"venue\"].values\n",
    "\n",
    "all_venues = all_venues.reshape(-1,1)\n",
    "\n",
    "def OHE_Venues(games):\n",
    "    venues = games['venue'].values\n",
    "    # all_venues = all_venues.reshape(-1,1)\n",
    "    \n",
    "    venues = venues.reshape(-1,1)\n",
    "\n",
    "    oneHot = OneHotEncoder()\n",
    "\n",
    "    oneHot.fit(all_venues)\n",
    "    X_venues = oneHot.transform(venues).toarray()\n",
    "    X_venues = pd.DataFrame(X_venues, columns=oneHot.categories_[0])\n",
    "    games = pd.concat([games, X_venues], axis=1)\n",
    "    return games\n",
    "\n",
    "games_2012 = OHE_Venues(games_2012)\n",
    "# games_2013 = OHE_Venues(games_2013)\n",
    "# games_2014 = OHE_Venues(games_2014)\n",
    "# games_2015 = OHE_Venues(games_2015)\n",
    "# games_2016 = OHE_Venues(games_2016)\n",
    "# games_2017 = OHE_Venues(games_2017)\n",
    "# games_2018 = OHE_Venues(games_2018)\n",
    "# games_2019 = OHE_Venues(games_2019)\n",
    "# games_2020 = OHE_Venues(games_2020)\n",
    "# games_2021 = OHE_Venues(games_2021)"
   ]
  },
  {
   "cell_type": "code",
   "execution_count": 111,
   "metadata": {},
   "outputs": [],
   "source": [
    "y_true_2012 = games_2012['homeWin']\n",
    "# games_2012['value'] = games_2012['homeWin']\n",
    "drop_values = ['gameId', 'venue', 'homeWin', 'homeTeam', 'awayTeam', 'year','date','startTime', 'attendance', 'homeTeamScore', 'awayTeamScore', 'round']\n",
    "games_2012 = games_2012.drop(drop_values,axis=1)\n",
    "games_2012.columns = games_2012.columns.astype(str) "
   ]
  },
  {
   "cell_type": "code",
   "execution_count": 112,
   "metadata": {},
   "outputs": [],
   "source": [
    "# normalize the dataset\n",
    "scaler = MinMaxScaler(feature_range=(0, 1))\n",
    "games_2012 = scaler.fit_transform(games_2012)"
   ]
  },
  {
   "cell_type": "code",
   "execution_count": 167,
   "metadata": {},
   "outputs": [],
   "source": [
    "x_train_2012 = games_2012[:171]\n",
    "y_train_2012 = y_true_2012[:171]\n",
    "x_valid_2012 = games_2012[171:]\n",
    "y_valid_2012 = y_true_2012[171:]"
   ]
  },
  {
   "cell_type": "code",
   "execution_count": 160,
   "metadata": {},
   "outputs": [],
   "source": [
    "\n",
    "x_train_2012 = pd.DataFrame(x_train_2012)\n",
    "x_train_2012['value'] = y_train_2012\n",
    "x_valid_2012 = pd.DataFrame(x_valid_2012)\n",
    "x_valid_2012['value'] = y_valid_2012\n",
    "\n",
    "\n",
    "# for v in range (len(y_train_2012)):\n",
    "#     if str(y_train_2012[v]) == '2':\n",
    "#         y_train_2012[v] = True\n",
    "#     else:\n",
    "#         y_train_2012[v] = False\n",
    "\n",
    "# for v in range (len(y_valid_2012)):\n",
    "#     v += 171\n",
    "#     print (y_valid_2012)\n",
    "#     if str(y_valid_2012[v]) == '2':\n",
    "#         y_valid_2012[v] = True\n",
    "#     else:\n",
    "#         y_valid_2012[v] = False\n"
   ]
  },
  {
   "cell_type": "code",
   "execution_count": 169,
   "metadata": {},
   "outputs": [],
   "source": [
    "e = Embedding(50, 2, input_length= 78)"
   ]
  },
  {
   "cell_type": "code",
   "execution_count": 181,
   "metadata": {},
   "outputs": [
    {
     "name": "stdout",
     "output_type": "stream",
     "text": [
      "Model: \"sequential_38\"\n",
      "_________________________________________________________________\n",
      " Layer (type)                Output Shape              Param #   \n",
      "=================================================================\n",
      " embedding_31 (Embedding)    (None, 78, 2)             100       \n",
      "                                                                 \n",
      " lstm_101 (LSTM)             (None, 128)               67072     \n",
      "                                                                 \n",
      " dense_97 (Dense)            (None, 1)                 129       \n",
      "                                                                 \n",
      "=================================================================\n",
      "Total params: 67,301\n",
      "Trainable params: 67,301\n",
      "Non-trainable params: 0\n",
      "_________________________________________________________________\n",
      "Epoch 1/10\n",
      "5/5 [==============================] - 5s 246ms/step - loss: 1.2934e-07 - accuracy: 0.4575 - val_loss: 1.5895e-07 - val_accuracy: 0.3333 - lr: 0.0010\n",
      "Epoch 2/10\n",
      "5/5 [==============================] - 1s 122ms/step - loss: 1.2934e-07 - accuracy: 0.4575 - val_loss: 1.5895e-07 - val_accuracy: 0.3333 - lr: 0.0010\n",
      "Epoch 3/10\n",
      "5/5 [==============================] - 1s 124ms/step - loss: 1.2934e-07 - accuracy: 0.4575 - val_loss: 1.5895e-07 - val_accuracy: 0.3333 - lr: 0.0010\n",
      "Epoch 4/10\n",
      "5/5 [==============================] - 1s 132ms/step - loss: 1.2934e-07 - accuracy: 0.4575 - val_loss: 1.5895e-07 - val_accuracy: 0.3333 - lr: 1.0000e-04\n",
      "2/2 [==============================] - 0s 22ms/step - loss: 1.3577e-07 - accuracy: 0.4167\n",
      "Accuracy: 0.4167\n",
      "Loss: 1.357661574274971e-07\n"
     ]
    }
   ],
   "source": [
    "model = Sequential()\n",
    "model.add(e)\n",
    "model.add(LSTM( 128 , dropout = 0.25, recurrent_dropout = 0.25))\n",
    "model.add(Dense(1, activation = 'tanh' ))\n",
    "model.build()\n",
    "model.summary()\n",
    "model.compile( optimizer = \"adam\" , loss = 'categorical_crossentropy' , metrics = ['accuracy'] )\n",
    "early_stopper = EarlyStopping( monitor = 'val_accuracy' , min_delta = 0.0005, patience = 3 )\n",
    "reduce_lr = ReduceLROnPlateau( monitor = 'val_loss' , patience = 2 , cooldown = 0)\n",
    "callbacks = [ reduce_lr , early_stopper]\n",
    "train_history = model.fit( x_train_2012 , y_train_2012 , epochs = 10, validation_split = 0.1 , verbose = 1 , callbacks = callbacks)\n",
    "# train_history = model.fit( x_train_2012 , y_train_2012 , epochs = 10, validation_split = 0.1 , verbose = 1 )\n",
    "score = model.evaluate( x_valid_2012 , y_valid_2012 )\n",
    "print( \"Accuracy: {:0.4}\".format( score[1] ))\n",
    "print( \"Loss:\", score[0] )\n"
   ]
  },
  {
   "cell_type": "code",
   "execution_count": 83,
   "metadata": {},
   "outputs": [
    {
     "data": {
      "image/png": "[encoded data removed]",
      "text/plain": [
       "<Figure size 1850x550 with 2 Axes>"
      ]
     },
     "metadata": {},
     "output_type": "display_data"
    }
   ],
   "source": [
    "loss = train_history.history['loss']\n",
    "validation_loss = train_history.history['val_loss']\n",
    "accuracy = train_history.history['accuracy']\n",
    "val_accuracy = train_history.history['val_accuracy']\n",
    "fig = plt.gcf()\n",
    "fig.set_size_inches(18.5, 5.5)\n",
    "plt.subplot(1,2,1)\n",
    "plt.plot(loss)\n",
    "plt.plot(validation_loss)\n",
    "plt.legend(['loss', 'validation_loss'])\n",
    "plt.subplot(1,2,2)\n",
    "plt.plot(accuracy)\n",
    "plt.plot(val_accuracy)\n",
    "plt.legend(['accuracy', 'validation_accuracy'])\n",
    "plt.show()"
   ]
  },
  {
   "cell_type": "code",
   "execution_count": 84,
   "metadata": {},
   "outputs": [],
   "source": [
    "from tensorflow import keras\n",
    "# from tensorflow.keras import layers\n",
    "\n",
    "layers = keras.layers\n",
    "def get_lstm_model(featureSize):\n",
    "\t# input for variable-length sequences of integers\n",
    "\tinputs = keras.Input(shape=(None,), dtype=\"int32\")\n",
    "\t# embed the tokens in a 128-dimensional vector with masking\n",
    "\t# applied and apply dropout\n",
    "\tx = layers.Embedding(featureSize, 128, mask_zero=True)(inputs)\n",
    "\tx = layers.Dropout(0.2)(x)\n",
    "\t# add 3 LSTMs\n",
    "\tx = layers.LSTM(64, return_sequences=True)(x)\n",
    "\tx = layers.LSTM(64, return_sequences=True)(x)\n",
    "\tx = layers.LSTM(64)(x)\n",
    "\t# add a classifier head\n",
    "\tx = layers.Dense(units=64, activation=\"relu\")(x)\n",
    "\tx = layers.Dense(units=32, activation=\"relu\")(x)\n",
    "\tx = layers.Dropout(0.2)(x)\n",
    "\toutputs = layers.Dense(1, activation=\"sigmoid\")(x)\n",
    "\t\n",
    "\t# build the LSTM model\n",
    "\tmodel = keras.Model(inputs, outputs, name=\"LSTM\")\n",
    "\t\n",
    "\t# return the LSTM model\n",
    "\treturn model"
   ]
  },
  {
   "cell_type": "code",
   "execution_count": 163,
   "metadata": {},
   "outputs": [
    {
     "name": "stdout",
     "output_type": "stream",
     "text": [
      "[INFO] building the LSTM model...\n",
      "[INFO] training the LSTM model...\n"
     ]
    },
    {
     "ename": "ValueError",
     "evalue": "The truth value of a Series is ambiguous. Use a.empty, a.bool(), a.item(), a.any() or a.all().",
     "output_type": "error",
     "traceback": [
      "\u001b[1;31m---------------------------------------------------------------------------\u001b[0m",
      "\u001b[1;31mValueError\u001b[0m                                Traceback (most recent call last)",
      "Cell \u001b[1;32mIn[163], line 10\u001b[0m\n\u001b[0;32m      8\u001b[0m \u001b[39m# train the LSTM model\u001b[39;00m\n\u001b[0;32m      9\u001b[0m \u001b[39mprint\u001b[39m(\u001b[39m\"\u001b[39m\u001b[39m[INFO] training the LSTM model...\u001b[39m\u001b[39m\"\u001b[39m)\n\u001b[1;32m---> 10\u001b[0m historyLSTM \u001b[39m=\u001b[39m modelLSTM\u001b[39m.\u001b[39;49mfit(x_train_2012[\u001b[39m'\u001b[39;49m\u001b[39mvalue\u001b[39;49m\u001b[39m'\u001b[39;49m] , epochs\u001b[39m=\u001b[39;49m\u001b[39m5\u001b[39;49m,\n\u001b[0;32m     11\u001b[0m \tvalidation_data\u001b[39m=\u001b[39;49mx_valid_2012[\u001b[39m'\u001b[39;49m\u001b[39mvalue\u001b[39;49m\u001b[39m'\u001b[39;49m] , \n\u001b[0;32m     12\u001b[0m )\n",
      "File \u001b[1;32mc:\\Users\\Craig\\Documents\\Thesis\\venv\\lib\\site-packages\\keras\\utils\\traceback_utils.py:70\u001b[0m, in \u001b[0;36mfilter_traceback.<locals>.error_handler\u001b[1;34m(*args, **kwargs)\u001b[0m\n\u001b[0;32m     67\u001b[0m     filtered_tb \u001b[39m=\u001b[39m _process_traceback_frames(e\u001b[39m.\u001b[39m__traceback__)\n\u001b[0;32m     68\u001b[0m     \u001b[39m# To get the full stack trace, call:\u001b[39;00m\n\u001b[0;32m     69\u001b[0m     \u001b[39m# `tf.debugging.disable_traceback_filtering()`\u001b[39;00m\n\u001b[1;32m---> 70\u001b[0m     \u001b[39mraise\u001b[39;00m e\u001b[39m.\u001b[39mwith_traceback(filtered_tb) \u001b[39mfrom\u001b[39;00m \u001b[39mNone\u001b[39m\n\u001b[0;32m     71\u001b[0m \u001b[39mfinally\u001b[39;00m:\n\u001b[0;32m     72\u001b[0m     \u001b[39mdel\u001b[39;00m filtered_tb\n",
      "File \u001b[1;32mc:\\Users\\Craig\\Documents\\Thesis\\venv\\lib\\site-packages\\pandas\\core\\generic.py:1527\u001b[0m, in \u001b[0;36mNDFrame.__nonzero__\u001b[1;34m(self)\u001b[0m\n\u001b[0;32m   1525\u001b[0m \u001b[39m@final\u001b[39m\n\u001b[0;32m   1526\u001b[0m \u001b[39mdef\u001b[39;00m \u001b[39m__nonzero__\u001b[39m(\u001b[39mself\u001b[39m) \u001b[39m-\u001b[39m\u001b[39m>\u001b[39m NoReturn:\n\u001b[1;32m-> 1527\u001b[0m     \u001b[39mraise\u001b[39;00m \u001b[39mValueError\u001b[39;00m(\n\u001b[0;32m   1528\u001b[0m         \u001b[39mf\u001b[39m\u001b[39m\"\u001b[39m\u001b[39mThe truth value of a \u001b[39m\u001b[39m{\u001b[39;00m\u001b[39mtype\u001b[39m(\u001b[39mself\u001b[39m)\u001b[39m.\u001b[39m\u001b[39m__name__\u001b[39m\u001b[39m}\u001b[39;00m\u001b[39m is ambiguous. \u001b[39m\u001b[39m\"\u001b[39m\n\u001b[0;32m   1529\u001b[0m         \u001b[39m\"\u001b[39m\u001b[39mUse a.empty, a.bool(), a.item(), a.any() or a.all().\u001b[39m\u001b[39m\"\u001b[39m\n\u001b[0;32m   1530\u001b[0m     )\n",
      "\u001b[1;31mValueError\u001b[0m: The truth value of a Series is ambiguous. Use a.empty, a.bool(), a.item(), a.any() or a.all()."
     ]
    }
   ],
   "source": [
    "# get the LSTM model and compile it\n",
    "print(\"[INFO] building the LSTM model...\")\n",
    "modelLSTM = get_lstm_model(featureSize=55)\n",
    "modelLSTM.compile(metrics=[\"accuracy\"],\n",
    "\toptimizer=keras.optimizers.Adam(learning_rate=0.001),\n",
    "\tloss=keras.losses.CategoricalCrossentropy(from_logits=False),\n",
    ")\n",
    "# train the LSTM model\n",
    "print(\"[INFO] training the LSTM model...\")\n",
    "historyLSTM = modelLSTM.fit(x_train_2012['value'] , epochs=5,\n",
    "\tvalidation_data=x_valid_2012['value'] , \n",
    ")"
   ]
  },
  {
   "cell_type": "code",
   "execution_count": 184,
   "metadata": {},
   "outputs": [
    {
     "name": "stdout",
     "output_type": "stream",
     "text": [
      "Larger: 64.93% (12.25%)\n"
     ]
    }
   ],
   "source": [
    "from pandas import read_csv\n",
    "from tensorflow.keras.models import Sequential\n",
    "from tensorflow.keras.layers import Dense\n",
    "from scikeras.wrappers import KerasClassifier\n",
    "from sklearn.model_selection import cross_val_score\n",
    "from sklearn.preprocessing import LabelEncoder\n",
    "from sklearn.model_selection import StratifiedKFold\n",
    "from sklearn.preprocessing import StandardScaler\n",
    "from sklearn.pipeline import Pipeline\n",
    "\n",
    "def create_larger():\n",
    " # create model\n",
    " model = Sequential()\n",
    " model.add(Dense(60, input_shape=(78,), activation='relu'))\n",
    " model.add(Dense(30, activation='relu'))\n",
    " model.add(Dense(1, activation='sigmoid'))\n",
    " # Compile model\n",
    " model.compile(loss='binary_crossentropy', optimizer='adam', metrics=['accuracy'])\n",
    " return model\n",
    "estimators = []\n",
    "estimators.append(('standardize', StandardScaler()))\n",
    "estimators.append(('mlp', KerasClassifier(model=create_larger, epochs=100, batch_size=5, verbose=0)))\n",
    "pipeline = Pipeline(estimators)\n",
    "kfold = StratifiedKFold(n_splits=10, shuffle=True)\n",
    "results = cross_val_score(pipeline, x_train_2012, y_train_2012, cv=kfold)\n",
    "print(\"Larger: %.2f%% (%.2f%%)\" % (results.mean()*100, results.std()*100))"
   ]
  }
 ],
 "metadata": {
  "kernelspec": {
   "display_name": "venv",
   "language": "python",
   "name": "python3"
  },
  "language_info": {
   "codemirror_mode": {
    "name": "ipython",
    "version": 3
   },
   "file_extension": ".py",
   "mimetype": "text/x-python",
   "name": "python",
   "nbconvert_exporter": "python",
   "pygments_lexer": "ipython3",
   "version": "3.9.13"
  },
  "orig_nbformat": 4,
  "vscode": {
   "interpreter": {
    "hash": "afd8bbf76cc8f66cb6213c8ab916f8a134e63b6f70cbd0f147b7ecd8cc749dd8"
   }
  }
 },
 "nbformat": 4,
 "nbformat_minor": 2
}
