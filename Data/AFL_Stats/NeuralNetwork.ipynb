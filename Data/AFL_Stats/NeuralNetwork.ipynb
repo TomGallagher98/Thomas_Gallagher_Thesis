{
 "cells": [
  {
   "cell_type": "code",
   "execution_count": 4,
   "metadata": {},
   "outputs": [],
   "source": [
    "import pandas as pd\n",
    "import numpy as np\n",
    "import sklearn\n",
    "from sklearn.model_selection import train_test_split\n",
    "from sklearn.metrics import classification_report,roc_auc_score,confusion_matrix,accuracy_score,f1_score,roc_curve\n",
    "from sklearn.preprocessing import LabelEncoder\n",
    "from keras.models import Sequential\n",
    "from keras.callbacks import ReduceLROnPlateau, EarlyStopping\n",
    "from keras.layers import Activation, Dense, Dropout, Embedding, LSTM\n",
    "import re\n",
    "from IPython.display import display\n",
    "import os\n",
    "import string\n",
    "import time\n",
    "import random\n",
    "import matplotlib.pyplot as plt\n",
    "random.seed(10)"
   ]
  },
  {
   "cell_type": "code",
   "execution_count": 5,
   "metadata": {},
   "outputs": [
    {
     "name": "stderr",
     "output_type": "stream",
     "text": [
      "C:\\Users\\Craig\\AppData\\Local\\Temp\\ipykernel_3556\\3115556472.py:3: UserWarning: Parsing dates in DD/MM/YYYY format when dayfirst=False (the default) was specified. This may lead to inconsistently parsed dates! Specify a format to ensure consistent parsing.\n",
      "  games_2012 = pd.read_csv(games_folder_path + '2012.csv', index_col=False, parse_dates=['date'])\n"
     ]
    }
   ],
   "source": [
    "# Import Data\n",
    "games_folder_path = \"C:/Users/Craig/Documents/Thesis/Thomas_Gallagher_Thesis/Data/AFL_Stats_sorted/Year/Games/\"\n",
    "games_2012 = pd.read_csv(games_folder_path + '2012.csv', index_col=False, parse_dates=['date'])"
   ]
  },
  {
   "cell_type": "code",
   "execution_count": 10,
   "metadata": {},
   "outputs": [
    {
     "ename": "ValueError",
     "evalue": "You must provide an `input_shape` argument.",
     "output_type": "error",
     "traceback": [
      "\u001b[1;31m---------------------------------------------------------------------------\u001b[0m",
      "\u001b[1;31mValueError\u001b[0m                                Traceback (most recent call last)",
      "Cell \u001b[1;32mIn[10], line 5\u001b[0m\n\u001b[0;32m      3\u001b[0m model\u001b[39m.\u001b[39madd(LSTM( \u001b[39m128\u001b[39m , dropout \u001b[39m=\u001b[39m \u001b[39m0.25\u001b[39m, recurrent_dropout \u001b[39m=\u001b[39m \u001b[39m0.25\u001b[39m))\n\u001b[0;32m      4\u001b[0m model\u001b[39m.\u001b[39madd(Dense(\u001b[39m1\u001b[39m, activation \u001b[39m=\u001b[39m \u001b[39m'\u001b[39m\u001b[39msigmoid\u001b[39m\u001b[39m'\u001b[39m ))\n\u001b[1;32m----> 5\u001b[0m model\u001b[39m.\u001b[39;49mbuild()\n\u001b[0;32m      6\u001b[0m model\u001b[39m.\u001b[39msummary()\n\u001b[0;32m      7\u001b[0m model\u001b[39m.\u001b[39mcompile( optimizer \u001b[39m=\u001b[39m \u001b[39m\"\u001b[39m\u001b[39madam\u001b[39m\u001b[39m\"\u001b[39m , loss \u001b[39m=\u001b[39m \u001b[39m'\u001b[39m\u001b[39mbinary_crossentropy\u001b[39m\u001b[39m'\u001b[39m , metrics \u001b[39m=\u001b[39m [\u001b[39m'\u001b[39m\u001b[39maccuracy\u001b[39m\u001b[39m'\u001b[39m] )\n",
      "File \u001b[1;32mc:\\Users\\Craig\\Documents\\Thesis\\venv\\lib\\site-packages\\keras\\engine\\sequential.py:379\u001b[0m, in \u001b[0;36mSequential.build\u001b[1;34m(self, input_shape)\u001b[0m\n\u001b[0;32m    377\u001b[0m \u001b[39melse\u001b[39;00m:\n\u001b[0;32m    378\u001b[0m     \u001b[39mif\u001b[39;00m input_shape \u001b[39mis\u001b[39;00m \u001b[39mNone\u001b[39;00m:\n\u001b[1;32m--> 379\u001b[0m         \u001b[39mraise\u001b[39;00m \u001b[39mValueError\u001b[39;00m(\u001b[39m\"\u001b[39m\u001b[39mYou must provide an `input_shape` argument.\u001b[39m\u001b[39m\"\u001b[39m)\n\u001b[0;32m    380\u001b[0m     \u001b[39mself\u001b[39m\u001b[39m.\u001b[39m_build_graph_network_for_inferred_shape(input_shape)\n\u001b[0;32m    381\u001b[0m     \u001b[39mif\u001b[39;00m \u001b[39mnot\u001b[39;00m \u001b[39mself\u001b[39m\u001b[39m.\u001b[39mbuilt:\n",
      "\u001b[1;31mValueError\u001b[0m: You must provide an `input_shape` argument."
     ]
    }
   ],
   "source": [
    "model = Sequential()\n",
    "# model.add(e)\n",
    "model.add(LSTM( 128 , dropout = 0.25, recurrent_dropout = 0.25))\n",
    "model.add(Dense(1, activation = 'sigmoid' ))\n",
    "model.build()\n",
    "model.summary()\n",
    "model.compile( optimizer = \"adam\" , loss = 'binary_crossentropy' , metrics = ['accuracy'] )\n",
    "early_stopper = EarlyStopping( monitor = 'val_acc' , min_delta = 0.0005, patience = 3 )\n",
    "reduce_lr = ReduceLROnPlateau( monitor = 'val_loss' , patience = 2 , cooldown = 0)\n",
    "callbacks = [ reduce_lr , early_stopper]\n",
    "train_history = model.fit( X_train_seq , y_train_transformed , batch_size = batch_size, epochs = 5,validation_split = 0.1 , verbose = 1 , callbacks = callbacks)\n",
    "score = model.evaluate( X_test_seq , y_test_transformed , batch_size = batch_size)\n",
    "print( \"Accuracy: {:0.4}\".format( score[1] ))\n",
    "print( \"Loss:\", score[0] )\n"
   ]
  },
  {
   "cell_type": "code",
   "execution_count": null,
   "metadata": {},
   "outputs": [],
   "source": [
    "loss = train_history.history['loss']\n",
    "validation_loss = train_history.history['val_loss']\n",
    "accuracy = train_history.history['acc']\n",
    "val_accuracy = train_history.history['val_acc']\n",
    "fig = plt.gcf()\n",
    "fig.set_size_inches(18.5, 5.5)\n",
    "plt.subplot(1,2,1)\n",
    "plt.plot(loss)\n",
    "plt.plot(validation_loss)\n",
    "plt.legend(['loss', 'validation_loss'])\n",
    "plt.subplot(1,2,2)\n",
    "plt.plot(accuracy)\n",
    "plt.plot(val_accuracy)\n",
    "plt.legend(['accuracy', 'validation_accuracy'])\n",
    "plt.show()"
   ]
  }
 ],
 "metadata": {
  "kernelspec": {
   "display_name": "venv",
   "language": "python",
   "name": "python3"
  },
  "language_info": {
   "codemirror_mode": {
    "name": "ipython",
    "version": 3
   },
   "file_extension": ".py",
   "mimetype": "text/x-python",
   "name": "python",
   "nbconvert_exporter": "python",
   "pygments_lexer": "ipython3",
   "version": "3.9.13"
  },
  "orig_nbformat": 4,
  "vscode": {
   "interpreter": {
    "hash": "afd8bbf76cc8f66cb6213c8ab916f8a134e63b6f70cbd0f147b7ecd8cc749dd8"
   }
  }
 },
 "nbformat": 4,
 "nbformat_minor": 2
}
