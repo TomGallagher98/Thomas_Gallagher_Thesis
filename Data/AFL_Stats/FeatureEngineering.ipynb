{
 "cells": [
  {
   "cell_type": "code",
   "execution_count": 26,
   "metadata": {},
   "outputs": [
    {
     "name": "stdout",
     "output_type": "stream",
     "text": [
      "Activating ipynb\n",
      "Importing libs\n"
     ]
    }
   ],
   "source": [
    "print(\"Activating ipynb\")\n",
    "print (\"Importing libs\")\n",
    "import warnings\n",
    "warnings.simplefilter(action='ignore', category=FutureWarning)\n",
    "\n",
    "import os \n",
    "import numpy as np\n",
    "import pandas as pd\n",
    "import matplotlib.pyplot as plt\n",
    "from sklearn.preprocessing import LabelEncoder, OneHotEncoder"
   ]
  },
  {
   "cell_type": "code",
   "execution_count": 27,
   "metadata": {},
   "outputs": [],
   "source": [
    "# Global\n",
    "years = [x for x in range (2012, 2022)]"
   ]
  },
  {
   "cell_type": "code",
   "execution_count": 28,
   "metadata": {},
   "outputs": [
    {
     "name": "stderr",
     "output_type": "stream",
     "text": [
      "C:\\Users\\Craig\\AppData\\Local\\Temp\\ipykernel_2776\\431392878.py:15: DtypeWarning: Columns (30) have mixed types. Specify dtype option on import or set low_memory=False.\n",
      "  all_stats_raw = pd.read_csv(all_stats, index_col=False)\n"
     ]
    }
   ],
   "source": [
    "# Load Stats\n",
    "stats_folder_path = \"C:/Users/Craig/Documents/Thesis/Thomas_Gallagher_Thesis/Data/AFL_Stats_sorted/Year/Players/\"\n",
    "stats_2012 = pd.read_csv(stats_folder_path + '2012.csv', index_col=False)\n",
    "stats_2013 = pd.read_csv(stats_folder_path + '2013.csv', index_col=False)\n",
    "stats_2014 = pd.read_csv(stats_folder_path + '2014.csv', index_col=False)\n",
    "stats_2015 = pd.read_csv(stats_folder_path + '2015.csv', index_col=False)\n",
    "stats_2016 = pd.read_csv(stats_folder_path + '2016.csv', index_col=False)\n",
    "stats_2017 = pd.read_csv(stats_folder_path + '2017.csv', index_col=False)\n",
    "stats_2018 = pd.read_csv(stats_folder_path + '2018.csv', index_col=False)\n",
    "stats_2019 = pd.read_csv(stats_folder_path + '2019.csv', index_col=False)\n",
    "stats_2020 = pd.read_csv(stats_folder_path + '2020.csv', index_col=False)\n",
    "stats_2021 = pd.read_csv(stats_folder_path + '2021.csv', index_col=False)\n",
    "\n",
    "all_stats = \"C:/Users/Craig/Documents/Thesis/Thomas_Gallagher_Thesis/Data/AFL_Stats_sorted/Year/Players/stats_sorted.csv\"\n",
    "all_stats_raw = pd.read_csv(all_stats, index_col=False)"
   ]
  },
  {
   "cell_type": "code",
   "execution_count": 31,
   "metadata": {},
   "outputs": [
    {
     "name": "stdout",
     "output_type": "stream",
     "text": [
      "Loading Initial Game Data\n"
     ]
    },
    {
     "name": "stderr",
     "output_type": "stream",
     "text": [
      "C:\\Users\\Craig\\AppData\\Local\\Temp\\ipykernel_2776\\638154051.py:6: UserWarning: Parsing dates in DD/MM/YYYY format when dayfirst=False (the default) was specified. This may lead to inconsistently parsed dates! Specify a format to ensure consistent parsing.\n",
      "  games_2014 = pd.read_csv(games_folder_path + '2014.csv', index_col=False, parse_dates=['date'])\n"
     ]
    }
   ],
   "source": [
    "# Load Initial Data\n",
    "print(\"Loading Initial Game Data\")\n",
    "games_folder_path = \"C:/Users/Craig/Documents/Thesis/Thomas_Gallagher_Thesis/Data/AFL_Stats_sorted/Year/Games/\"\n",
    "games_2012 = pd.read_csv(games_folder_path + '2012.csv', index_col=False, parse_dates=['date'])\n",
    "games_2013 = pd.read_csv(games_folder_path + '2013.csv', index_col=False, parse_dates=['date'])\n",
    "games_2014 = pd.read_csv(games_folder_path + '2014.csv', index_col=False, parse_dates=['date'])\n",
    "games_2015 = pd.read_csv(games_folder_path + '2015.csv', index_col=False, parse_dates=['date'])\n",
    "games_2016 = pd.read_csv(games_folder_path + '2016.csv', index_col=False, parse_dates=['date'])\n",
    "games_2017 = pd.read_csv(games_folder_path + '2017.csv', index_col=False, parse_dates=['date'])\n",
    "games_2018 = pd.read_csv(games_folder_path + '2018.csv', index_col=False, parse_dates=['date'])\n",
    "games_2019 = pd.read_csv(games_folder_path + '2019.csv', index_col=False, parse_dates=['date'])\n",
    "games_2020 = pd.read_csv(games_folder_path + '2020.csv', index_col=False, parse_dates=['date'])\n",
    "games_2021 = pd.read_csv(games_folder_path + '2021.csv', index_col=False, parse_dates=['date'])\n",
    "\n",
    "all_games_path = os.path.join(games_folder_path + \"games_sorted.csv\")\n",
    "# all_g = pd.concat([games_2012, games_2013, games_2014, games_2015, games_2016, games_2017, games_2018, games_2019, games_2020, games_2021])\n",
    "# all_g.to_csv(all_games_path, index=False)\n",
    "all_games = pd.read_csv(all_games_path, index_col=False, parse_dates=['date'])"
   ]
  },
  {
   "cell_type": "code",
   "execution_count": 32,
   "metadata": {},
   "outputs": [],
   "source": [
    "games_list_year = [games_2012, games_2013, games_2014, games_2015, games_2016, games_2017, games_2018, games_2019, games_2020, games_2021]\n",
    "stats_list_year = [stats_2012, stats_2013, stats_2014, stats_2015, stats_2016, stats_2017, stats_2018, stats_2019, stats_2020, stats_2021]"
   ]
  },
  {
   "attachments": {},
   "cell_type": "markdown",
   "metadata": {},
   "source": [
    "## Build Y value \n",
    "Result of game based on Home Team (Win = 2, Draw = 1, Lose = 0)"
   ]
  },
  {
   "cell_type": "code",
   "execution_count": 33,
   "metadata": {},
   "outputs": [],
   "source": [
    "y_true_2012 = games_2012['homeWin']\n",
    "y_true_2013 = games_2013['homeWin']\n",
    "y_true_2014 = games_2014['homeWin']\n",
    "y_true_2015 = games_2015['homeWin']\n",
    "y_true_2016 = games_2016['homeWin']\n",
    "y_true_2017 = games_2017['homeWin']\n",
    "y_true_2018 = games_2018['homeWin']\n",
    "y_true_2019 = games_2019['homeWin']\n",
    "y_true_2020 = games_2020['homeWin']\n",
    "y_true_2021 = games_2021['homeWin']\n",
    "y_true_all = all_games['homeWin']"
   ]
  },
  {
   "cell_type": "code",
   "execution_count": 34,
   "metadata": {},
   "outputs": [
    {
     "name": "stdout",
     "output_type": "stream",
     "text": [
      "{'2012': 55.79710144927537, '2013': 55.79710144927537, '2014': 56.763285024154584, '2015': 52.9126213592233, '2016': 59.42028985507246, '2017': 59.17874396135265, '2018': 54.830917874396135, '2019': 57.00483091787439, '2020': 56.79012345679012, '2021': 52.41545893719807}\n"
     ]
    }
   ],
   "source": [
    "baseline = {}\n",
    "\n",
    "def get_baseline(y, year):\n",
    "    # print(y.count())\n",
    "    baseline[year] = (y.sum() / (y.count()*2)) * 100\n",
    "\n",
    "get_baseline(y_true_2012, '2012')\n",
    "get_baseline(y_true_2013, '2013')\n",
    "get_baseline(y_true_2014, '2014')\n",
    "get_baseline(y_true_2015, '2015')\n",
    "get_baseline(y_true_2016, '2016')\n",
    "get_baseline(y_true_2017, '2017')\n",
    "get_baseline(y_true_2018, '2018')\n",
    "get_baseline(y_true_2019, '2019')\n",
    "get_baseline(y_true_2020, '2020')\n",
    "get_baseline(y_true_2021, '2021')\n",
    "\n",
    "print(baseline)"
   ]
  },
  {
   "attachments": {},
   "cell_type": "markdown",
   "metadata": {},
   "source": [
    "## Add Previous Game Result\n",
    "Set default dict to store results for each team\n",
    "Only a boolean value, draws only account for ~1% of all games \n",
    "Default to false\n",
    "If the last game was a win set to true\n",
    "# TODO \n",
    "add draws in and see if there is a difference"
   ]
  },
  {
   "attachments": {},
   "cell_type": "markdown",
   "metadata": {},
   "source": [
    "## Computed Variables\n",
    "These variables did not appear in the original data set but were added later\n",
    "\n",
    "Travel Data: Used to determine the impact of travel on teams\n",
    "             Determined by comparing the venue of the upcoming match to the teams home location\n",
    "\n",
    "Break: Finds the break between a teams last and next game\n",
    "\n",
    "Team Changes: The number of players that are different in the from the previous match\n",
    "              The number of games lost/gained from these changes\n",
    "              The expected score lost/gained from the incoming players\n",
    "              Split games out and games in into separate variables\n",
    "\n",
    "Team Composition: The average/total score of all the selected players\n",
    "                  Done this way to reduce number of features\n",
    "\n",
    "TODO   \n",
    "Previous 5 games result: Totals each teams previous games results\n",
    "\n",
    "             "
   ]
  },
  {
   "attachments": {},
   "cell_type": "markdown",
   "metadata": {},
   "source": [
    "## One Hot Encoding\n",
    "The tree models used for feature engineering cannot take in string inputs\n",
    "Value encoding can be used to change teams to int values, but then the model will read this as distance i.e. the team with value 1 will be read as being closer to the team with value 2 than the team with value 18. \n",
    "One Hot Encoding creates a bool variable for each team which is 1 when the team is playing.\n",
    "\n",
    "# TODO\n",
    "See if the model performs better with the simple label encoding. \n",
    "One hot encoding creates an issue with decision trees as it creates lots of \"empty\" splits, there will now be 34 variables which the model will split on 0, which can skew the model."
   ]
  },
  {
   "cell_type": "code",
   "execution_count": 35,
   "metadata": {},
   "outputs": [],
   "source": [
    "# One Hot Encoding Teams\n",
    "encoding = LabelEncoder()\n",
    "encoding.fit(all_games[\"homeTeam\"].values)\n",
    "\n",
    "def OHE_Teams(games):\n",
    "    home_teams = encoding.transform(games[\"homeTeam\"].values)\n",
    "    away_teams = encoding.transform(games[\"awayTeam\"].values)\n",
    "    \n",
    "    ##\n",
    "    games[\"homeTeam\"] = home_teams\n",
    "    games[\"awayTeam\"] = away_teams\n",
    "    ##\n",
    "    all_teams = np.vstack([home_teams, away_teams]).T\n",
    "    \n",
    "    # oneHot = OneHotEncoder()\n",
    "    # X_teams = oneHot.fit_transform(all_teams).todense()\n",
    "    # X_teams = pd.DataFrame(all_teams)\n",
    "    # games = pd.concat([games, pd.DataFrame(X_teams)],axis=1)\n",
    "    return games\n",
    "\n",
    "games_2012 = OHE_Teams(games_2012)\n",
    "games_2013 = OHE_Teams(games_2013)\n",
    "games_2014 = OHE_Teams(games_2014)\n",
    "games_2015 = OHE_Teams(games_2015)\n",
    "games_2016 = OHE_Teams(games_2016)\n",
    "games_2017 = OHE_Teams(games_2017)\n",
    "games_2018 = OHE_Teams(games_2018)\n",
    "games_2019 = OHE_Teams(games_2019)\n",
    "games_2020 = OHE_Teams(games_2020)\n",
    "games_2021 = OHE_Teams(games_2021)"
   ]
  },
  {
   "cell_type": "markdown",
   "metadata": {},
   "source": [
    "## One Hot Encoding Venues\n",
    "Same issues as above, but simplified slightly as there are only 23 stadiums"
   ]
  },
  {
   "cell_type": "code",
   "execution_count": 36,
   "metadata": {},
   "outputs": [],
   "source": [
    "# One Hot Encoding Venues\n",
    "encoding = LabelEncoder()\n",
    "encoding.fit(all_games[\"venue\"].values)\n",
    "all_venues = all_games[\"venue\"].values\n",
    "\n",
    "all_venues = all_venues.reshape(-1,1)\n",
    "\n",
    "def OHE_Venues(games):\n",
    "    venues = games['venue'].values\n",
    "    # all_venues = all_venues.reshape(-1,1)\n",
    "    \n",
    "    venues = venues.reshape(-1,1)\n",
    "\n",
    "    oneHot = OneHotEncoder()\n",
    "\n",
    "    oneHot.fit(all_venues)\n",
    "    X_venues = oneHot.transform(venues).toarray()\n",
    "    X_venues = pd.DataFrame(X_venues, columns=oneHot.categories_[0])\n",
    "    games = pd.concat([games, X_venues], axis=1)\n",
    "    return games\n",
    "\n",
    "games_2012 = OHE_Venues(games_2012)\n",
    "games_2013 = OHE_Venues(games_2013)\n",
    "games_2014 = OHE_Venues(games_2014)\n",
    "games_2015 = OHE_Venues(games_2015)\n",
    "games_2016 = OHE_Venues(games_2016)\n",
    "games_2017 = OHE_Venues(games_2017)\n",
    "games_2018 = OHE_Venues(games_2018)\n",
    "games_2019 = OHE_Venues(games_2019)\n",
    "games_2020 = OHE_Venues(games_2020)\n",
    "games_2021 = OHE_Venues(games_2021)"
   ]
  },
  {
   "cell_type": "code",
   "execution_count": 37,
   "metadata": {},
   "outputs": [],
   "source": [
    "def show_dtypes(df):\n",
    "    for index in range(len(df.dtypes)):\n",
    "        print(f'{df.columns[index]} -> {df.dtypes[index]}' )"
   ]
  },
  {
   "cell_type": "code",
   "execution_count": 38,
   "metadata": {},
   "outputs": [],
   "source": [
    "# Remove Variables\n",
    "drop_values = ['gameId', 'venue', 'homeWin', 'year','date','startTime', 'attendance', 'homeTeamScore', 'awayTeamScore', 'round']\n",
    "X_2012 = games_2012.drop(drop_values,axis=1)\n",
    "X_2013 = games_2013.drop(drop_values,axis=1)\n",
    "X_2014 = games_2014.drop(drop_values,axis=1)\n",
    "X_2015 = games_2015.drop(drop_values,axis=1)\n",
    "X_2016 = games_2016.drop(drop_values,axis=1)\n",
    "X_2017 = games_2017.drop(drop_values,axis=1)\n",
    "X_2018 = games_2018.drop(drop_values,axis=1)\n",
    "X_2019 = games_2019.drop(drop_values,axis=1)\n",
    "X_2020 = games_2020.drop(drop_values,axis=1)\n",
    "X_2021 = games_2021.drop(drop_values,axis=1)"
   ]
  },
  {
   "cell_type": "code",
   "execution_count": 39,
   "metadata": {},
   "outputs": [],
   "source": [
    "X_2012.columns = X_2012.columns.astype(str) \n",
    "X_2013.columns = X_2013.columns.astype(str) \n",
    "X_2014.columns = X_2014.columns.astype(str) \n",
    "X_2015.columns = X_2015.columns.astype(str) \n",
    "X_2016.columns = X_2016.columns.astype(str) \n",
    "X_2017.columns = X_2017.columns.astype(str) \n",
    "X_2018.columns = X_2018.columns.astype(str) \n",
    "X_2019.columns = X_2019.columns.astype(str) \n",
    "X_2020.columns = X_2020.columns.astype(str) \n",
    "X_2021.columns = X_2021.columns.astype(str) "
   ]
  },
  {
   "attachments": {},
   "cell_type": "markdown",
   "metadata": {},
   "source": [
    "## Decision Tree Classifier\n",
    "\n",
    "For each season I will create a different classifier, so that each season can be assessed individually\n",
    "These models will not include the 2021 season, even though the final model will be separate to the models created here the feature engineering means that information will possibly be extracted from the data. As such I will leave the final season out of feature engineering "
   ]
  },
  {
   "cell_type": "code",
   "execution_count": 40,
   "metadata": {},
   "outputs": [
    {
     "name": "stdout",
     "output_type": "stream",
     "text": [
      "0 0 0 0 0 0 0 0 0 0\n"
     ]
    }
   ],
   "source": [
    "print(X_2012.isnull().sum().sum(),\n",
    "X_2013.isnull().sum().sum(),\n",
    "X_2014.isnull().sum().sum(),\n",
    "X_2015.isnull().sum().sum(),\n",
    "X_2016.isnull().sum().sum(),\n",
    "X_2017.isnull().sum().sum(),\n",
    "X_2018.isnull().sum().sum(),\n",
    "X_2019.isnull().sum().sum(),\n",
    "X_2020.isnull().sum().sum(),\n",
    "X_2021.isnull().sum().sum() )"
   ]
  },
  {
   "cell_type": "code",
   "execution_count": 41,
   "metadata": {},
   "outputs": [
    {
     "name": "stderr",
     "output_type": "stream",
     "text": [
      "c:\\Users\\Craig\\Documents\\Thesis\\venv\\lib\\site-packages\\sklearn\\model_selection\\_split.py:700: UserWarning: The least populated class in y has only 1 members, which is less than n_splits=5.\n",
      "  warnings.warn(\n",
      "c:\\Users\\Craig\\Documents\\Thesis\\venv\\lib\\site-packages\\sklearn\\model_selection\\_split.py:700: UserWarning: The least populated class in y has only 1 members, which is less than n_splits=5.\n",
      "  warnings.warn(\n",
      "c:\\Users\\Craig\\Documents\\Thesis\\venv\\lib\\site-packages\\sklearn\\model_selection\\_split.py:700: UserWarning: The least populated class in y has only 1 members, which is less than n_splits=5.\n",
      "  warnings.warn(\n",
      "c:\\Users\\Craig\\Documents\\Thesis\\venv\\lib\\site-packages\\sklearn\\model_selection\\_split.py:700: UserWarning: The least populated class in y has only 1 members, which is less than n_splits=5.\n",
      "  warnings.warn(\n",
      "c:\\Users\\Craig\\Documents\\Thesis\\venv\\lib\\site-packages\\sklearn\\model_selection\\_split.py:700: UserWarning: The least populated class in y has only 1 members, which is less than n_splits=5.\n",
      "  warnings.warn(\n",
      "c:\\Users\\Craig\\Documents\\Thesis\\venv\\lib\\site-packages\\sklearn\\model_selection\\_split.py:700: UserWarning: The least populated class in y has only 1 members, which is less than n_splits=5.\n",
      "  warnings.warn(\n",
      "c:\\Users\\Craig\\Documents\\Thesis\\venv\\lib\\site-packages\\sklearn\\model_selection\\_split.py:700: UserWarning: The least populated class in y has only 1 members, which is less than n_splits=5.\n",
      "  warnings.warn(\n",
      "c:\\Users\\Craig\\Documents\\Thesis\\venv\\lib\\site-packages\\sklearn\\model_selection\\_split.py:700: UserWarning: The least populated class in y has only 1 members, which is less than n_splits=5.\n",
      "  warnings.warn(\n",
      "c:\\Users\\Craig\\Documents\\Thesis\\venv\\lib\\site-packages\\sklearn\\model_selection\\_split.py:700: UserWarning: The least populated class in y has only 1 members, which is less than n_splits=5.\n",
      "  warnings.warn(\n",
      "c:\\Users\\Craig\\Documents\\Thesis\\venv\\lib\\site-packages\\sklearn\\model_selection\\_split.py:700: UserWarning: The least populated class in y has only 1 members, which is less than n_splits=5.\n",
      "  warnings.warn(\n"
     ]
    },
    {
     "name": "stdout",
     "output_type": "stream",
     "text": [
      "{'2012': 0.6137049941927991, '2013': 0.6234610917537748, '2014': 0.6137049941927991, '2015': 0.6234610917537748, '2016': 0.6137049941927991, '2017': 0.6234610917537748, '2018': 0.6137049941927991, '2019': 0.6234610917537748, '2020': 0.6137049941927991, '2021': 0.6234610917537748}\n"
     ]
    }
   ],
   "source": [
    "from sklearn.tree import DecisionTreeClassifier\n",
    "from sklearn.model_selection import cross_val_score\n",
    "\n",
    "scores = {}\n",
    "def build_dec_tree_scores(X, y, year):\n",
    "    clf = DecisionTreeClassifier(random_state=26)\n",
    "    scores_raw = clf.fit(X, y)\n",
    "    scores_raw = cross_val_score(clf, X, y)\n",
    "    scores[year] = np.mean(scores_raw)\n",
    "\n",
    "build_dec_tree_scores(X_2012, y_true_2012, '2012')\n",
    "build_dec_tree_scores(X_2013, y_true_2013, '2013')\n",
    "build_dec_tree_scores(X_2012, y_true_2012, '2014')\n",
    "build_dec_tree_scores(X_2013, y_true_2013, '2015')\n",
    "build_dec_tree_scores(X_2012, y_true_2012, '2016')\n",
    "build_dec_tree_scores(X_2013, y_true_2013, '2017')\n",
    "build_dec_tree_scores(X_2012, y_true_2012, '2018')\n",
    "build_dec_tree_scores(X_2013, y_true_2013, '2019')\n",
    "build_dec_tree_scores(X_2012, y_true_2012, '2020')\n",
    "build_dec_tree_scores(X_2013, y_true_2013, '2021')\n",
    "\n",
    "print(scores)\n",
    "# print(\"F1: {0:0.4f}\".format(np.mean(scores)))"
   ]
  },
  {
   "cell_type": "code",
   "execution_count": 44,
   "metadata": {},
   "outputs": [
    {
     "data": {
      "text/plain": [
       "0.9951690821256038"
      ]
     },
     "execution_count": 44,
     "metadata": {},
     "output_type": "execute_result"
    }
   ],
   "source": [
    "# Exploratory classifier on the original training set\n",
    "from sklearn.ensemble import RandomForestClassifier\n",
    "from sklearn.metrics import confusion_matrix, ConfusionMatrixDisplay\n",
    "m = RandomForestClassifier(n_estimators=10, n_jobs=-1)\n",
    "m.fit(X_2012, y_true_2012)\n",
    "m.score(X_2012, y_true_2012)\n",
    "\n",
    "# m.score(X_train_orig, y_train_orig)"
   ]
  },
  {
   "cell_type": "code",
   "execution_count": 45,
   "metadata": {},
   "outputs": [],
   "source": [
    "x_train_2012 = X_2012[:171]\n",
    "y_train_2012 = y_true_2012[:171]\n",
    "x_valid_2012 = X_2012[171:]\n",
    "y_valid_2012 = y_true_2012[171:]\n",
    "\n",
    "x_train_2013 = X_2013[:171]\n",
    "y_train_2013 = y_true_2013[:171]\n",
    "x_valid_2013 = X_2013[171:]\n",
    "y_valid_2013 = y_true_2013[171:]\n",
    "\n",
    "x_train_2014 = X_2014[:171]\n",
    "y_train_2014 = y_true_2014[:171]\n",
    "x_valid_2014 = X_2014[171:]\n",
    "y_valid_2014 = y_true_2014[171:]\n",
    "\n",
    "x_train_2015 = X_2015[:170]\n",
    "y_train_2015 = y_true_2015[:170]\n",
    "x_valid_2015 = X_2015[170:]\n",
    "y_valid_2015 = y_true_2015[170:]\n",
    "\n",
    "x_train_2016 = X_2016[:171]\n",
    "y_train_2016 = y_true_2016[:171]\n",
    "x_valid_2016 = X_2016[171:]\n",
    "y_valid_2016 = y_true_2016[171:]\n",
    "\n",
    "x_train_2017 = X_2017[:171]\n",
    "y_train_2017 = y_true_2017[:171]\n",
    "x_valid_2017 = X_2017[171:]\n",
    "y_valid_2017 = y_true_2017[171:]\n",
    "\n",
    "x_train_2018 = X_2018[:171]\n",
    "y_train_2018 = y_true_2018[:171]\n",
    "x_valid_2018 = X_2018[171:]\n",
    "y_valid_2018 = y_true_2018[171:]\n",
    "\n",
    "x_train_2019 = X_2019[:171]\n",
    "y_train_2019 = y_true_2019[:171]\n",
    "x_valid_2019 = X_2019[171:]\n",
    "y_valid_2019 = y_true_2019[171:]\n",
    "\n",
    "x_train_2020 = X_2020[:127]\n",
    "y_train_2020 = y_true_2020[:127]\n",
    "x_valid_2020 = X_2020[127:]\n",
    "y_valid_2020 = y_true_2020[127:]\n",
    "\n",
    "x_train_2021 = X_2021[:171]\n",
    "y_train_2021 = y_true_2021[:171]\n",
    "x_valid_2021 = X_2021[171:]\n",
    "y_valid_2021 = y_true_2021[171:]"
   ]
  },
  {
   "cell_type": "code",
   "execution_count": 46,
   "metadata": {},
   "outputs": [],
   "source": [
    "def print_score(m, train, y_train, valid, y_valid, test=None):\n",
    "    # if test == None:\n",
    "        print([m.score(train, y_train), m.score(valid, y_valid)])\n",
    "        pred = m.predict(valid)\n",
    "        c_train = confusion_matrix(y_valid, pred)\n",
    "        disp = ConfusionMatrixDisplay(c_train)\n",
    "        return disp\n",
    "        # plt.show()\n",
    "        # ConfusionMatrixDisplay(m, valid, y_valid_2012)\n",
    "        \n",
    "    # else:\n",
    "    #     print(m.score(X_test, y_test))\n",
    "    #     plot_confusion_matrix(m, X_test, y_test)"
   ]
  },
  {
   "cell_type": "code",
   "execution_count": 69,
   "metadata": {},
   "outputs": [
    {
     "name": "stderr",
     "output_type": "stream",
     "text": [
      "c:\\Users\\Craig\\Documents\\Thesis\\venv\\lib\\site-packages\\sklearn\\model_selection\\_split.py:700: UserWarning: The least populated class in y has only 1 members, which is less than n_splits=5.\n",
      "  warnings.warn(\n",
      "c:\\Users\\Craig\\Documents\\Thesis\\venv\\lib\\site-packages\\sklearn\\model_selection\\_split.py:700: UserWarning: The least populated class in y has only 1 members, which is less than n_splits=5.\n",
      "  warnings.warn(\n",
      "c:\\Users\\Craig\\Documents\\Thesis\\venv\\lib\\site-packages\\sklearn\\model_selection\\_split.py:700: UserWarning: The least populated class in y has only 1 members, which is less than n_splits=5.\n",
      "  warnings.warn(\n"
     ]
    },
    {
     "name": "stdout",
     "output_type": "stream",
     "text": [
      "[1.0, 0.6944444444444444]\n",
      "[1.0, 0.5555555555555556]\n",
      "[1.0, 0.5555555555555556]\n",
      "[1.0, 0.5833333333333334]\n",
      "[1.0, 0.5555555555555556]\n",
      "[1.0, 0.5]\n",
      "[1.0, 0.5555555555555556]\n",
      "[1.0, 0.4166666666666667]\n",
      "[1.0, 0.5142857142857142]\n",
      "{'2012': 0.4428571428571428, '2013': 0.5785714285714286, '2014': 0.5571428571428572, '2015': 0.6642857142857143, '2016': 0.5785714285714285, '2017': 0.5535714285714286, '2018': 0.5035714285714286, '2019': 0.7178571428571429, '2020': 0.42857142857142855}\n"
     ]
    }
   ],
   "source": [
    "from sklearn.tree import DecisionTreeClassifier\n",
    "from sklearn.model_selection import cross_val_score\n",
    "\n",
    "scores = {}\n",
    "def build_dec_tree_scores(X, y, x_valid, y_valid, year):\n",
    "    clf = DecisionTreeClassifier(random_state=26)\n",
    "    scores_raw = clf.fit(X, y)\n",
    "    pred = clf.predict(x_valid)\n",
    "    scores_pred = cross_val_score(clf, x_valid, y_valid)\n",
    "    scores[year] = np.mean(scores_pred)\n",
    "    return print_score(clf, X, y, x_valid, y_valid)\n",
    "\n",
    "n_2012 = build_dec_tree_scores(x_train_2012, y_train_2012, x_valid_2012, y_valid_2012, '2012')\n",
    "n_2013 = build_dec_tree_scores(x_train_2013, y_train_2013, x_valid_2013, y_valid_2013, '2013')\n",
    "n_2014 = build_dec_tree_scores(x_train_2014, y_train_2014, x_valid_2014, y_valid_2014, '2014')\n",
    "n_2015 = build_dec_tree_scores(x_train_2015, y_train_2015, x_valid_2015, y_valid_2015, '2015')\n",
    "n_2016 = build_dec_tree_scores(x_train_2016, y_train_2016, x_valid_2016, y_valid_2016, '2016')\n",
    "n_2017 = build_dec_tree_scores(x_train_2017, y_train_2017, x_valid_2017, y_valid_2017, '2017')\n",
    "n_2018 = build_dec_tree_scores(x_train_2018, y_train_2018, x_valid_2018, y_valid_2018, '2018')\n",
    "n_2019 = build_dec_tree_scores(x_train_2019, y_train_2019, x_valid_2019, y_valid_2019, '2019')\n",
    "n_2020 = build_dec_tree_scores(x_train_2020, y_train_2020, x_valid_2020, y_valid_2020, '2020')\n",
    "\n",
    "print(scores)"
   ]
  },
  {
   "cell_type": "code",
   "execution_count": 48,
   "metadata": {},
   "outputs": [
    {
     "data": {
      "text/plain": [
       "(<sklearn.metrics._plot.confusion_matrix.ConfusionMatrixDisplay at 0x1c797859ee0>,\n",
       " <sklearn.metrics._plot.confusion_matrix.ConfusionMatrixDisplay at 0x1c7976d3220>,\n",
       " <sklearn.metrics._plot.confusion_matrix.ConfusionMatrixDisplay at 0x1c7976d3c40>)"
      ]
     },
     "execution_count": 48,
     "metadata": {},
     "output_type": "execute_result"
    },
    {
     "data": {
      "image/png": "[encoded data removed]",
      "text/plain": [
       "<Figure size 640x480 with 18 Axes>"
      ]
     },
     "metadata": {},
     "output_type": "display_data"
    }
   ],
   "source": [
    "fig, ax = plt.subplots(3,3)\n",
    "\n",
    "n_2012.plot(ax=ax[0][0]), n_2013.plot(ax=ax[0][1]), n_2014.plot(ax=ax[0][2])\n",
    "n_2015.plot(ax=ax[1][0]), n_2016.plot(ax=ax[1][1]), n_2017.plot(ax=ax[1][2])\n",
    "n_2018.plot(ax=ax[2][0]), n_2019.plot(ax=ax[2][1]), n_2020.plot(ax=ax[2][2])"
   ]
  },
  {
   "cell_type": "code",
   "execution_count": 49,
   "metadata": {},
   "outputs": [
    {
     "name": "stdout",
     "output_type": "stream",
     "text": [
      "[1.0, 0.5833333333333334]\n",
      "[1.0, 0.6388888888888888]\n",
      "[1.0, 0.6111111111111112]\n",
      "[1.0, 0.6666666666666666]\n",
      "[1.0, 0.5]\n",
      "[1.0, 0.5833333333333334]\n",
      "[1.0, 0.6111111111111112]\n",
      "[1.0, 0.6388888888888888]\n",
      "[1.0, 0.6571428571428571]\n"
     ]
    }
   ],
   "source": [
    "model_1_2012 = RandomForestClassifier(n_estimators=100, n_jobs=-1)\n",
    "model_1_2012.fit(x_train_2012, y_train_2012)\n",
    "m_2012 = print_score(model_1_2012, x_train_2012, y_train_2012, x_valid_2012, y_valid_2012)\n",
    "\n",
    "model_1_2013 = RandomForestClassifier(n_estimators=100, n_jobs=-1)\n",
    "model_1_2013.fit(x_train_2013, y_train_2013)\n",
    "m_2013 = print_score(model_1_2013, x_train_2013, y_train_2013, x_valid_2013, y_valid_2013)\n",
    "\n",
    "model_1_2014 = RandomForestClassifier(n_estimators=100, n_jobs=-1)\n",
    "model_1_2014.fit(x_train_2014, y_train_2014)\n",
    "m_2014 = print_score(model_1_2014, x_train_2014, y_train_2014, x_valid_2014, y_valid_2014)\n",
    "\n",
    "model_1_2015 = RandomForestClassifier(n_estimators=100, n_jobs=-1)\n",
    "model_1_2015.fit(x_train_2015, y_train_2015)\n",
    "m_2015 = print_score(model_1_2015, x_train_2015, y_train_2015, x_valid_2015, y_valid_2015)\n",
    "\n",
    "model_1_2016 = RandomForestClassifier(n_estimators=100, n_jobs=-1)\n",
    "model_1_2016.fit(x_train_2016, y_train_2016)\n",
    "m_2016 = print_score(model_1_2016, x_train_2016, y_train_2016, x_valid_2016, y_valid_2016)\n",
    "\n",
    "model_1_2017 = RandomForestClassifier(n_estimators=100, n_jobs=-1)\n",
    "model_1_2017.fit(x_train_2017, y_train_2017)\n",
    "m_2017 = print_score(model_1_2017, x_train_2017, y_train_2017, x_valid_2017, y_valid_2017)\n",
    "\n",
    "model_1_2018 = RandomForestClassifier(n_estimators=100, n_jobs=-1)\n",
    "model_1_2018.fit(x_train_2018, y_train_2018)\n",
    "m_2018 = print_score(model_1_2018, x_train_2018, y_train_2018, x_valid_2018, y_valid_2018)\n",
    "\n",
    "model_1_2019 = RandomForestClassifier(n_estimators=100, n_jobs=-1)\n",
    "model_1_2019.fit(x_train_2019, y_train_2019)\n",
    "m_2019 = print_score(model_1_2019, x_train_2019, y_train_2019, x_valid_2019, y_valid_2019)\n",
    "\n",
    "model_1_2020 = RandomForestClassifier(n_estimators=100, n_jobs=-1)\n",
    "model_1_2020.fit(x_train_2020, y_train_2020)\n",
    "m_2020 = print_score(model_1_2020, x_train_2020, y_train_2020, x_valid_2020, y_valid_2020)\n",
    "\n"
   ]
  },
  {
   "cell_type": "code",
   "execution_count": 50,
   "metadata": {},
   "outputs": [
    {
     "data": {
      "text/plain": [
       "(<sklearn.metrics._plot.confusion_matrix.ConfusionMatrixDisplay at 0x1c797dac070>,\n",
       " <sklearn.metrics._plot.confusion_matrix.ConfusionMatrixDisplay at 0x1c797850fa0>,\n",
       " <sklearn.metrics._plot.confusion_matrix.ConfusionMatrixDisplay at 0x1c797f070a0>)"
      ]
     },
     "execution_count": 50,
     "metadata": {},
     "output_type": "execute_result"
    },
    {
     "data": {
      "image/png": "[encoded data removed]",
      "text/plain": [
       "<Figure size 640x480 with 18 Axes>"
      ]
     },
     "metadata": {},
     "output_type": "display_data"
    }
   ],
   "source": [
    "fig, ax = plt.subplots(3,3)\n",
    "\n",
    "m_2012.plot(ax=ax[0][0]), m_2013.plot(ax=ax[0][1]), m_2014.plot(ax=ax[0][2])\n",
    "m_2015.plot(ax=ax[1][0]), m_2016.plot(ax=ax[1][1]), m_2017.plot(ax=ax[1][2])\n",
    "m_2018.plot(ax=ax[2][0]), m_2019.plot(ax=ax[2][1]), m_2020.plot(ax=ax[2][2])"
   ]
  },
  {
   "cell_type": "code",
   "execution_count": 51,
   "metadata": {},
   "outputs": [
    {
     "name": "stdout",
     "output_type": "stream",
     "text": [
      "Fitting 4 folds for each of 100 candidates, totalling 400 fits\n",
      "[1.0, 0.5833333333333334]\n",
      "Fitting 4 folds for each of 100 candidates, totalling 400 fits\n"
     ]
    },
    {
     "name": "stderr",
     "output_type": "stream",
     "text": [
      "c:\\Users\\Craig\\Documents\\Thesis\\venv\\lib\\site-packages\\sklearn\\model_selection\\_split.py:700: UserWarning: The least populated class in y has only 1 members, which is less than n_splits=4.\n",
      "  warnings.warn(\n"
     ]
    },
    {
     "name": "stdout",
     "output_type": "stream",
     "text": [
      "[1.0, 0.6388888888888888]\n",
      "Fitting 4 folds for each of 100 candidates, totalling 400 fits\n",
      "[1.0, 0.6111111111111112]\n",
      "Fitting 4 folds for each of 100 candidates, totalling 400 fits\n"
     ]
    },
    {
     "name": "stderr",
     "output_type": "stream",
     "text": [
      "c:\\Users\\Craig\\Documents\\Thesis\\venv\\lib\\site-packages\\sklearn\\model_selection\\_split.py:700: UserWarning: The least populated class in y has only 1 members, which is less than n_splits=4.\n",
      "  warnings.warn(\n"
     ]
    },
    {
     "name": "stdout",
     "output_type": "stream",
     "text": [
      "[1.0, 0.6666666666666666]\n",
      "Fitting 4 folds for each of 100 candidates, totalling 400 fits\n",
      "[1.0, 0.5]\n",
      "Fitting 4 folds for each of 100 candidates, totalling 400 fits\n"
     ]
    },
    {
     "name": "stderr",
     "output_type": "stream",
     "text": [
      "c:\\Users\\Craig\\Documents\\Thesis\\venv\\lib\\site-packages\\sklearn\\model_selection\\_split.py:700: UserWarning: The least populated class in y has only 3 members, which is less than n_splits=4.\n",
      "  warnings.warn(\n"
     ]
    },
    {
     "name": "stdout",
     "output_type": "stream",
     "text": [
      "[1.0, 0.5833333333333334]\n",
      "Fitting 4 folds for each of 100 candidates, totalling 400 fits\n"
     ]
    },
    {
     "name": "stderr",
     "output_type": "stream",
     "text": [
      "c:\\Users\\Craig\\Documents\\Thesis\\venv\\lib\\site-packages\\sklearn\\model_selection\\_split.py:700: UserWarning: The least populated class in y has only 1 members, which is less than n_splits=4.\n",
      "  warnings.warn(\n"
     ]
    },
    {
     "name": "stdout",
     "output_type": "stream",
     "text": [
      "[1.0, 0.6111111111111112]\n",
      "Fitting 4 folds for each of 100 candidates, totalling 400 fits\n",
      "[1.0, 0.6388888888888888]\n",
      "Fitting 4 folds for each of 100 candidates, totalling 400 fits\n"
     ]
    },
    {
     "name": "stderr",
     "output_type": "stream",
     "text": [
      "c:\\Users\\Craig\\Documents\\Thesis\\venv\\lib\\site-packages\\sklearn\\model_selection\\_split.py:700: UserWarning: The least populated class in y has only 2 members, which is less than n_splits=4.\n",
      "  warnings.warn(\n"
     ]
    },
    {
     "name": "stdout",
     "output_type": "stream",
     "text": [
      "[1.0, 0.6571428571428571]\n"
     ]
    }
   ],
   "source": [
    "from sklearn.model_selection import RandomizedSearchCV\n",
    "grid={\n",
    "    'criterion':        ['entropy','gini'],\n",
    "    'min_samples_split':[3, 5, 7, 9, 10],\n",
    "    'min_samples_leaf': [8, 9, 10, 11, 12],\n",
    "    'max_features':     [0.5, \"sqrt\", \"log2\", 0.8],\n",
    "    'n_estimators':     [10, 20, 40],\n",
    "}\n",
    "\n",
    "model_2 = RandomizedSearchCV(estimator=RandomForestClassifier(),\n",
    "                       param_distributions=grid,\n",
    "                       n_iter=100,\n",
    "                       cv=4,\n",
    "                       verbose=1,\n",
    "                       n_jobs=-1,\n",
    "                       random_state=42)\n",
    "\n",
    "model_2.fit(x_train_2012, y_train_2012)\n",
    "m2_2012 = print_score(model_1_2012, x_train_2012, y_train_2012, x_valid_2012, y_valid_2012)\n",
    "model_2.fit(x_train_2013, y_train_2013)\n",
    "m2_2013 = print_score(model_1_2013, x_train_2013, y_train_2013, x_valid_2013, y_valid_2013)\n",
    "model_2.fit(x_train_2014, y_train_2014)\n",
    "m2_2014 = print_score(model_1_2014, x_train_2014, y_train_2014, x_valid_2014, y_valid_2014)\n",
    "model_2.fit(x_train_2015, y_train_2015)\n",
    "m2_2015 = print_score(model_1_2015, x_train_2015, y_train_2015, x_valid_2015, y_valid_2015)\n",
    "model_2.fit(x_train_2016, y_train_2016)\n",
    "m2_2016 = print_score(model_1_2016, x_train_2016, y_train_2016, x_valid_2016, y_valid_2016)\n",
    "model_2.fit(x_train_2017, y_train_2017)\n",
    "m2_2017 = print_score(model_1_2017, x_train_2017, y_train_2017, x_valid_2017, y_valid_2017)\n",
    "model_2.fit(x_train_2018, y_train_2018)\n",
    "m2_2018 = print_score(model_1_2018, x_train_2018, y_train_2018, x_valid_2018, y_valid_2018)\n",
    "model_2.fit(x_train_2019, y_train_2019)\n",
    "m2_2019 = print_score(model_1_2019, x_train_2019, y_train_2019, x_valid_2019, y_valid_2019)\n",
    "model_2.fit(x_train_2020, y_train_2020)\n",
    "m2_2020 = print_score(model_1_2020, x_train_2020, y_train_2020, x_valid_2020, y_valid_2020)\n"
   ]
  },
  {
   "cell_type": "code",
   "execution_count": 58,
   "metadata": {},
   "outputs": [
    {
     "name": "stdout",
     "output_type": "stream",
     "text": [
      "CPU times: total: 46.9 ms\n",
      "Wall time: 38 ms\n",
      "[0.8128654970760234, 0.6666666666666666]\n"
     ]
    }
   ],
   "source": [
    "model_2.best_estimator_\n",
    "\n",
    "bag_model_2012 = model_2.best_estimator_\n",
    "%time bag_model_2012.fit(x_train_2012, y_train_2012)\n",
    "m2_2012 = print_score(bag_model_2012, x_train_2012, y_train_2012, x_valid_2012, y_valid_2012)\n",
    "\n",
    "bag_model_2012 = model_2.best_estimator_\n",
    "%time bag_model_2012.fit(x_train_2012, y_train_2012)\n",
    "m2_2012 = print_score(bag_model_2012, x_train_2012, y_train_2012, x_valid_2012, y_valid_2012)\n"
   ]
  },
  {
   "cell_type": "code",
   "execution_count": 168,
   "metadata": {},
   "outputs": [
    {
     "ename": "ValueError",
     "evalue": "X has 45 features, but DecisionTreeClassifier is expecting 15 features as input.",
     "output_type": "error",
     "traceback": [
      "\u001b[1;31m---------------------------------------------------------------------------\u001b[0m",
      "\u001b[1;31mValueError\u001b[0m                                Traceback (most recent call last)",
      "Cell \u001b[1;32mIn[168], line 3\u001b[0m\n\u001b[0;32m      1\u001b[0m \u001b[39mfrom\u001b[39;00m \u001b[39msklearn\u001b[39;00m \u001b[39mimport\u001b[39;00m metrics\n\u001b[0;32m      2\u001b[0m \u001b[39mimport\u001b[39;00m \u001b[39mmatplotlib\u001b[39;00m\u001b[39m.\u001b[39;00m\u001b[39mpyplot\u001b[39;00m \u001b[39mas\u001b[39;00m \u001b[39mplt\u001b[39;00m\n\u001b[1;32m----> 3\u001b[0m preds \u001b[39m=\u001b[39m np\u001b[39m.\u001b[39mstack([tree\u001b[39m.\u001b[39mpredict(x_valid_2012\u001b[39m.\u001b[39mvalues) \u001b[39mfor\u001b[39;00m tree \u001b[39min\u001b[39;00m bag_model_2012\u001b[39m.\u001b[39mestimators_])\n\u001b[0;32m      4\u001b[0m np\u001b[39m.\u001b[39mmean(preds)\n\u001b[0;32m      5\u001b[0m \u001b[39m# fpr, tpr, thresholds = metrics.roc_curve(y_valid_2012, np.mean(preds[:i+1], pos_label = 1))\u001b[39;00m\n\u001b[0;32m      6\u001b[0m \n\u001b[0;32m      7\u001b[0m \u001b[39m# plt.plot([metrics.roc_auc_score(y_valid_2012, np.mean(preds[:i+1], axis=0)) for i in range(20)])\u001b[39;00m\n",
      "Cell \u001b[1;32mIn[168], line 3\u001b[0m, in \u001b[0;36m<listcomp>\u001b[1;34m(.0)\u001b[0m\n\u001b[0;32m      1\u001b[0m \u001b[39mfrom\u001b[39;00m \u001b[39msklearn\u001b[39;00m \u001b[39mimport\u001b[39;00m metrics\n\u001b[0;32m      2\u001b[0m \u001b[39mimport\u001b[39;00m \u001b[39mmatplotlib\u001b[39;00m\u001b[39m.\u001b[39;00m\u001b[39mpyplot\u001b[39;00m \u001b[39mas\u001b[39;00m \u001b[39mplt\u001b[39;00m\n\u001b[1;32m----> 3\u001b[0m preds \u001b[39m=\u001b[39m np\u001b[39m.\u001b[39mstack([tree\u001b[39m.\u001b[39;49mpredict(x_valid_2012\u001b[39m.\u001b[39;49mvalues) \u001b[39mfor\u001b[39;00m tree \u001b[39min\u001b[39;00m bag_model_2012\u001b[39m.\u001b[39mestimators_])\n\u001b[0;32m      4\u001b[0m np\u001b[39m.\u001b[39mmean(preds)\n\u001b[0;32m      5\u001b[0m \u001b[39m# fpr, tpr, thresholds = metrics.roc_curve(y_valid_2012, np.mean(preds[:i+1], pos_label = 1))\u001b[39;00m\n\u001b[0;32m      6\u001b[0m \n\u001b[0;32m      7\u001b[0m \u001b[39m# plt.plot([metrics.roc_auc_score(y_valid_2012, np.mean(preds[:i+1], axis=0)) for i in range(20)])\u001b[39;00m\n",
      "File \u001b[1;32mc:\\Users\\Craig\\Documents\\Thesis\\venv\\lib\\site-packages\\sklearn\\tree\\_classes.py:426\u001b[0m, in \u001b[0;36mBaseDecisionTree.predict\u001b[1;34m(self, X, check_input)\u001b[0m\n\u001b[0;32m    403\u001b[0m \u001b[39m\u001b[39m\u001b[39m\"\"\"Predict class or regression value for X.\u001b[39;00m\n\u001b[0;32m    404\u001b[0m \n\u001b[0;32m    405\u001b[0m \u001b[39mFor a classification model, the predicted class for each sample in X is\u001b[39;00m\n\u001b[1;32m   (...)\u001b[0m\n\u001b[0;32m    423\u001b[0m \u001b[39m    The predicted classes, or the predict values.\u001b[39;00m\n\u001b[0;32m    424\u001b[0m \u001b[39m\"\"\"\u001b[39;00m\n\u001b[0;32m    425\u001b[0m check_is_fitted(\u001b[39mself\u001b[39m)\n\u001b[1;32m--> 426\u001b[0m X \u001b[39m=\u001b[39m \u001b[39mself\u001b[39;49m\u001b[39m.\u001b[39;49m_validate_X_predict(X, check_input)\n\u001b[0;32m    427\u001b[0m proba \u001b[39m=\u001b[39m \u001b[39mself\u001b[39m\u001b[39m.\u001b[39mtree_\u001b[39m.\u001b[39mpredict(X)\n\u001b[0;32m    428\u001b[0m n_samples \u001b[39m=\u001b[39m X\u001b[39m.\u001b[39mshape[\u001b[39m0\u001b[39m]\n",
      "File \u001b[1;32mc:\\Users\\Craig\\Documents\\Thesis\\venv\\lib\\site-packages\\sklearn\\tree\\_classes.py:392\u001b[0m, in \u001b[0;36mBaseDecisionTree._validate_X_predict\u001b[1;34m(self, X, check_input)\u001b[0m\n\u001b[0;32m    390\u001b[0m \u001b[39m\u001b[39m\u001b[39m\"\"\"Validate the training data on predict (probabilities).\"\"\"\u001b[39;00m\n\u001b[0;32m    391\u001b[0m \u001b[39mif\u001b[39;00m check_input:\n\u001b[1;32m--> 392\u001b[0m     X \u001b[39m=\u001b[39m \u001b[39mself\u001b[39;49m\u001b[39m.\u001b[39;49m_validate_data(X, dtype\u001b[39m=\u001b[39;49mDTYPE, accept_sparse\u001b[39m=\u001b[39;49m\u001b[39m\"\u001b[39;49m\u001b[39mcsr\u001b[39;49m\u001b[39m\"\u001b[39;49m, reset\u001b[39m=\u001b[39;49m\u001b[39mFalse\u001b[39;49;00m)\n\u001b[0;32m    393\u001b[0m     \u001b[39mif\u001b[39;00m issparse(X) \u001b[39mand\u001b[39;00m (\n\u001b[0;32m    394\u001b[0m         X\u001b[39m.\u001b[39mindices\u001b[39m.\u001b[39mdtype \u001b[39m!=\u001b[39m np\u001b[39m.\u001b[39mintc \u001b[39mor\u001b[39;00m X\u001b[39m.\u001b[39mindptr\u001b[39m.\u001b[39mdtype \u001b[39m!=\u001b[39m np\u001b[39m.\u001b[39mintc\n\u001b[0;32m    395\u001b[0m     ):\n\u001b[0;32m    396\u001b[0m         \u001b[39mraise\u001b[39;00m \u001b[39mValueError\u001b[39;00m(\u001b[39m\"\u001b[39m\u001b[39mNo support for np.int64 index based sparse matrices\u001b[39m\u001b[39m\"\u001b[39m)\n",
      "File \u001b[1;32mc:\\Users\\Craig\\Documents\\Thesis\\venv\\lib\\site-packages\\sklearn\\base.py:569\u001b[0m, in \u001b[0;36mBaseEstimator._validate_data\u001b[1;34m(self, X, y, reset, validate_separately, **check_params)\u001b[0m\n\u001b[0;32m    566\u001b[0m     out \u001b[39m=\u001b[39m X, y\n\u001b[0;32m    568\u001b[0m \u001b[39mif\u001b[39;00m \u001b[39mnot\u001b[39;00m no_val_X \u001b[39mand\u001b[39;00m check_params\u001b[39m.\u001b[39mget(\u001b[39m\"\u001b[39m\u001b[39mensure_2d\u001b[39m\u001b[39m\"\u001b[39m, \u001b[39mTrue\u001b[39;00m):\n\u001b[1;32m--> 569\u001b[0m     \u001b[39mself\u001b[39;49m\u001b[39m.\u001b[39;49m_check_n_features(X, reset\u001b[39m=\u001b[39;49mreset)\n\u001b[0;32m    571\u001b[0m \u001b[39mreturn\u001b[39;00m out\n",
      "File \u001b[1;32mc:\\Users\\Craig\\Documents\\Thesis\\venv\\lib\\site-packages\\sklearn\\base.py:370\u001b[0m, in \u001b[0;36mBaseEstimator._check_n_features\u001b[1;34m(self, X, reset)\u001b[0m\n\u001b[0;32m    367\u001b[0m     \u001b[39mreturn\u001b[39;00m\n\u001b[0;32m    369\u001b[0m \u001b[39mif\u001b[39;00m n_features \u001b[39m!=\u001b[39m \u001b[39mself\u001b[39m\u001b[39m.\u001b[39mn_features_in_:\n\u001b[1;32m--> 370\u001b[0m     \u001b[39mraise\u001b[39;00m \u001b[39mValueError\u001b[39;00m(\n\u001b[0;32m    371\u001b[0m         \u001b[39mf\u001b[39m\u001b[39m\"\u001b[39m\u001b[39mX has \u001b[39m\u001b[39m{\u001b[39;00mn_features\u001b[39m}\u001b[39;00m\u001b[39m features, but \u001b[39m\u001b[39m{\u001b[39;00m\u001b[39mself\u001b[39m\u001b[39m.\u001b[39m\u001b[39m__class__\u001b[39m\u001b[39m.\u001b[39m\u001b[39m__name__\u001b[39m\u001b[39m}\u001b[39;00m\u001b[39m \u001b[39m\u001b[39m\"\u001b[39m\n\u001b[0;32m    372\u001b[0m         \u001b[39mf\u001b[39m\u001b[39m\"\u001b[39m\u001b[39mis expecting \u001b[39m\u001b[39m{\u001b[39;00m\u001b[39mself\u001b[39m\u001b[39m.\u001b[39mn_features_in_\u001b[39m}\u001b[39;00m\u001b[39m features as input.\u001b[39m\u001b[39m\"\u001b[39m\n\u001b[0;32m    373\u001b[0m     )\n",
      "\u001b[1;31mValueError\u001b[0m: X has 45 features, but DecisionTreeClassifier is expecting 15 features as input."
     ]
    }
   ],
   "source": [
    "# from sklearn import metrics\n",
    "# import matplotlib.pyplot as plt\n",
    "# preds = np.stack([tree.predict(x_valid_2012.values) for tree in bag_model_2012.estimators_])\n",
    "# np.mean(preds)\n",
    "# fpr, tpr, thresholds = metrics.roc_curve(y_valid_2012, np.mean(preds[:i+1], pos_label = 1))\n",
    "\n",
    "# plt.plot([metrics.roc_auc_score(y_valid_2012, np.mean(preds[:i+1], axis=0)) for i in range(20)])"
   ]
  },
  {
   "cell_type": "code",
   "execution_count": 98,
   "metadata": {},
   "outputs": [
    {
     "data": {
      "text/plain": [
       "array([[ 1.,  8., 15., ...,  0.,  0.,  0.],\n",
       "       [ 1., 13.,  2., ...,  0.,  0.,  0.],\n",
       "       [ 1.,  9.,  3., ...,  0.,  0.,  0.],\n",
       "       ...,\n",
       "       [20.,  9., 12., ...,  0.,  0.,  1.],\n",
       "       [20., 13., 17., ...,  0.,  0.,  0.],\n",
       "       [20.,  4., 11., ...,  0.,  0.,  0.]])"
      ]
     },
     "execution_count": 98,
     "metadata": {},
     "output_type": "execute_result"
    }
   ],
   "source": [
    "a_2012_ohe = np.hstack([x_train_2012])\n",
    "a_valid = np.hstack([x_valid_2012])\n",
    "\n",
    "a_2012_ohe"
   ]
  },
  {
   "cell_type": "code",
   "execution_count": 63,
   "metadata": {},
   "outputs": [
    {
     "name": "stdout",
     "output_type": "stream",
     "text": [
      "CPU times: total: 31.2 ms\n",
      "Wall time: 34 ms\n",
      "[0.847953216374269, 0.6388888888888888]\n"
     ]
    }
   ],
   "source": [
    "model_2.best_estimator_\n",
    "s_model = model_2.best_estimator_\n",
    "%time s_model.fit(x_train_2012, y_train_2012)\n",
    "\n",
    "m2_2012 = print_score(s_model, x_train_2012, y_train_2012, x_valid_2012, y_valid_2012)"
   ]
  },
  {
   "cell_type": "code",
   "execution_count": 59,
   "metadata": {},
   "outputs": [],
   "source": [
    "\n",
    "import seaborn as sns\n",
    "y_proba_2012 = model_2.predict_proba(x_valid_2012)\n",
    "y_proba_2013 = model_2.predict_proba(x_valid_2013)\n",
    "y_proba_2014 = model_2.predict_proba(x_valid_2014)\n",
    "y_proba_2015 = model_2.predict_proba(x_valid_2015)\n",
    "y_proba_2016 = model_2.predict_proba(x_valid_2016)\n",
    "y_proba_2017 = model_2.predict_proba(x_valid_2017)\n",
    "y_proba_2018 = model_2.predict_proba(x_valid_2018)\n",
    "y_proba_2019 = model_2.predict_proba(x_valid_2019)\n",
    "y_proba_2020 = model_2.predict_proba(x_valid_2020)"
   ]
  },
  {
   "cell_type": "code",
   "execution_count": 60,
   "metadata": {},
   "outputs": [],
   "source": [
    "from treeinterpreter import treeinterpreter as ti"
   ]
  },
  {
   "cell_type": "code",
   "execution_count": 61,
   "metadata": {},
   "outputs": [],
   "source": [
    "# fastai\n",
    "def rf_feat_importance(m, df):\n",
    "    return pd.DataFrame({'cols':df.columns, 'imp':m.feature_importances_}\n",
    "                       ).sort_values('imp', ascending=False)"
   ]
  },
  {
   "cell_type": "code",
   "execution_count": 64,
   "metadata": {},
   "outputs": [
    {
     "data": {
      "text/plain": [
       "array([3.76213357e-03, 1.29189598e-02, 2.31025577e-04, 0.00000000e+00,\n",
       "       6.54205366e-03, 0.00000000e+00, 0.00000000e+00, 1.85968463e-04,\n",
       "       1.16316483e-02, 5.94588460e-03, 2.12012950e-02, 1.39121378e-02,\n",
       "       1.41643637e-03, 3.65508063e-02, 3.96945433e-02, 8.27523516e-02,\n",
       "       7.66222291e-02, 3.53102192e-01, 1.02219519e-01, 1.86982474e-02,\n",
       "       2.12612569e-01, 0.00000000e+00, 0.00000000e+00, 0.00000000e+00,\n",
       "       0.00000000e+00, 0.00000000e+00, 0.00000000e+00, 0.00000000e+00,\n",
       "       0.00000000e+00, 0.00000000e+00, 0.00000000e+00, 0.00000000e+00,\n",
       "       0.00000000e+00, 0.00000000e+00, 0.00000000e+00, 0.00000000e+00,\n",
       "       0.00000000e+00, 0.00000000e+00, 0.00000000e+00, 0.00000000e+00,\n",
       "       0.00000000e+00, 0.00000000e+00, 0.00000000e+00, 0.00000000e+00])"
      ]
     },
     "execution_count": 64,
     "metadata": {},
     "output_type": "execute_result"
    }
   ],
   "source": [
    "s_model.feature_importances_"
   ]
  },
  {
   "cell_type": "code",
   "execution_count": 68,
   "metadata": {},
   "outputs": [
    {
     "data": {
      "text/plain": [
       "<Axes: xlabel='cols'>"
      ]
     },
     "execution_count": 68,
     "metadata": {},
     "output_type": "execute_result"
    },
    {
     "data": {
      "image/png": "[encoded data removed]",
      "text/plain": [
       "<Figure size 1000x600 with 1 Axes>"
      ]
     },
     "metadata": {},
     "output_type": "display_data"
    }
   ],
   "source": [
    "fi = rf_feat_importance(s_model , x_valid_2012)\n",
    "fi.plot('cols', 'imp', 'bar', figsize=(10,6))"
   ]
  },
  {
   "cell_type": "code",
   "execution_count": 66,
   "metadata": {},
   "outputs": [
    {
     "data": {
      "text/html": [
       "<div>\n",
       "<style scoped>\n",
       "    .dataframe tbody tr th:only-of-type {\n",
       "        vertical-align: middle;\n",
       "    }\n",
       "\n",
       "    .dataframe tbody tr th {\n",
       "        vertical-align: top;\n",
       "    }\n",
       "\n",
       "    .dataframe thead th {\n",
       "        text-align: right;\n",
       "    }\n",
       "</style>\n",
       "<table border=\"1\" class=\"dataframe\">\n",
       "  <thead>\n",
       "    <tr style=\"text-align: right;\">\n",
       "      <th></th>\n",
       "      <th>cols</th>\n",
       "      <th>imp</th>\n",
       "    </tr>\n",
       "  </thead>\n",
       "  <tbody>\n",
       "    <tr>\n",
       "      <th>17</th>\n",
       "      <td>homeTeamImportanceSeasonAverage</td>\n",
       "      <td>0.353102</td>\n",
       "    </tr>\n",
       "    <tr>\n",
       "      <th>20</th>\n",
       "      <td>awayLadderPosition</td>\n",
       "      <td>0.212613</td>\n",
       "    </tr>\n",
       "    <tr>\n",
       "      <th>18</th>\n",
       "      <td>awayTeamImportanceSeasonAverage</td>\n",
       "      <td>0.102220</td>\n",
       "    </tr>\n",
       "    <tr>\n",
       "      <th>15</th>\n",
       "      <td>homeTeamImportanceLastFiveGames</td>\n",
       "      <td>0.082752</td>\n",
       "    </tr>\n",
       "    <tr>\n",
       "      <th>16</th>\n",
       "      <td>awayTeamImportanceLastFiveGames</td>\n",
       "      <td>0.076622</td>\n",
       "    </tr>\n",
       "    <tr>\n",
       "      <th>14</th>\n",
       "      <td>awayTeamImportanceLastGame</td>\n",
       "      <td>0.039695</td>\n",
       "    </tr>\n",
       "    <tr>\n",
       "      <th>13</th>\n",
       "      <td>homeTeamImportanceLastGame</td>\n",
       "      <td>0.036551</td>\n",
       "    </tr>\n",
       "    <tr>\n",
       "      <th>10</th>\n",
       "      <td>awayGameDifference</td>\n",
       "      <td>0.021201</td>\n",
       "    </tr>\n",
       "    <tr>\n",
       "      <th>19</th>\n",
       "      <td>homeLadderPosition</td>\n",
       "      <td>0.018698</td>\n",
       "    </tr>\n",
       "    <tr>\n",
       "      <th>11</th>\n",
       "      <td>homeTeamImportanceDifference</td>\n",
       "      <td>0.013912</td>\n",
       "    </tr>\n",
       "    <tr>\n",
       "      <th>1</th>\n",
       "      <td>awayTeam</td>\n",
       "      <td>0.012919</td>\n",
       "    </tr>\n",
       "    <tr>\n",
       "      <th>8</th>\n",
       "      <td>awayTeamChanges</td>\n",
       "      <td>0.011632</td>\n",
       "    </tr>\n",
       "    <tr>\n",
       "      <th>4</th>\n",
       "      <td>awayTeamLastWin</td>\n",
       "      <td>0.006542</td>\n",
       "    </tr>\n",
       "    <tr>\n",
       "      <th>9</th>\n",
       "      <td>homeGameDifference</td>\n",
       "      <td>0.005946</td>\n",
       "    </tr>\n",
       "    <tr>\n",
       "      <th>0</th>\n",
       "      <td>homeTeam</td>\n",
       "      <td>0.003762</td>\n",
       "    </tr>\n",
       "  </tbody>\n",
       "</table>\n",
       "</div>"
      ],
      "text/plain": [
       "                               cols       imp\n",
       "17  homeTeamImportanceSeasonAverage  0.353102\n",
       "20               awayLadderPosition  0.212613\n",
       "18  awayTeamImportanceSeasonAverage  0.102220\n",
       "15  homeTeamImportanceLastFiveGames  0.082752\n",
       "16  awayTeamImportanceLastFiveGames  0.076622\n",
       "14       awayTeamImportanceLastGame  0.039695\n",
       "13       homeTeamImportanceLastGame  0.036551\n",
       "10               awayGameDifference  0.021201\n",
       "19               homeLadderPosition  0.018698\n",
       "11     homeTeamImportanceDifference  0.013912\n",
       "1                          awayTeam  0.012919\n",
       "8                   awayTeamChanges  0.011632\n",
       "4                   awayTeamLastWin  0.006542\n",
       "9                homeGameDifference  0.005946\n",
       "0                          homeTeam  0.003762"
      ]
     },
     "execution_count": 66,
     "metadata": {},
     "output_type": "execute_result"
    }
   ],
   "source": [
    "fi[:15]"
   ]
  },
  {
   "cell_type": "code",
   "execution_count": 144,
   "metadata": {},
   "outputs": [],
   "source": [
    "f = fi[:15].cols\n",
    "cut_train_2012 = x_train_2012[f]\n",
    "cut_valid_2012 = x_valid_2012[f]"
   ]
  },
  {
   "cell_type": "code",
   "execution_count": 156,
   "metadata": {},
   "outputs": [
    {
     "name": "stdout",
     "output_type": "stream",
     "text": [
      "CPU times: total: 46.9 ms\n",
      "Wall time: 53 ms\n",
      "[0.8187134502923976, 0.6388888888888888]\n"
     ]
    },
    {
     "data": {
      "text/plain": [
       "<sklearn.metrics._plot.confusion_matrix.ConfusionMatrixDisplay at 0x271c6404d60>"
      ]
     },
     "execution_count": 156,
     "metadata": {},
     "output_type": "execute_result"
    }
   ],
   "source": [
    "model_3 = model_2.best_estimator_\n",
    "%time model_3.fit(cut_train_2012, y_train_2012)\n",
    "print_score(model_3, cut_train_2012, y_train_2012, cut_valid_2012, y_valid_2012)"
   ]
  },
  {
   "cell_type": "code",
   "execution_count": 157,
   "metadata": {},
   "outputs": [
    {
     "data": {
      "text/plain": [
       "<Axes: xlabel='cols'>"
      ]
     },
     "execution_count": 157,
     "metadata": {},
     "output_type": "execute_result"
    },
    {
     "data": {
      "image/png": "[encoded data removed]",
      "text/plain": [
       "<Figure size 1000x600 with 1 Axes>"
      ]
     },
     "metadata": {},
     "output_type": "display_data"
    }
   ],
   "source": [
    "fi2 = rf_feat_importance(model_3 , cut_train_2012)\n",
    "fi2.plot('cols', 'imp', 'bar', figsize=(10,6))"
   ]
  },
  {
   "cell_type": "code",
   "execution_count": 158,
   "metadata": {},
   "outputs": [
    {
     "data": {
      "text/plain": [
       "(                               cols       imp\n",
       " 0   homeTeamImportanceSeasonAverage  0.318085\n",
       " 2   awayTeamImportanceSeasonAverage  0.165748\n",
       " 3                awayLadderPosition  0.151961\n",
       " 4   homeTeamImportanceLastFiveGames  0.119733\n",
       " 1   awayTeamImportanceLastFiveGames  0.076871\n",
       " 6        awayTeamImportanceLastGame  0.034527\n",
       " 9                homeGameDifference  0.032992\n",
       " 11     homeTeamImportanceDifference  0.032881\n",
       " 5        homeTeamImportanceLastGame  0.024531\n",
       " 13     awayTeamImportanceDifference  0.012910\n",
       " 12                            round  0.012069\n",
       " 7                awayGameDifference  0.009899\n",
       " 14                        Docklands  0.007792\n",
       " 8                          awayTeam  0.000000\n",
       " 10                  homeTeamLastWin  0.000000,\n",
       "                                cols       imp\n",
       " 18  homeTeamImportanceSeasonAverage  0.417663\n",
       " 17  awayTeamImportanceLastFiveGames  0.124798\n",
       " 19  awayTeamImportanceSeasonAverage  0.119719\n",
       " 21               awayLadderPosition  0.113984\n",
       " 16  homeTeamImportanceLastFiveGames  0.065941\n",
       " 14       homeTeamImportanceLastGame  0.041911\n",
       " 15       awayTeamImportanceLastGame  0.031179\n",
       " 11               awayGameDifference  0.022750\n",
       " 2                          awayTeam  0.015268\n",
       " 10               homeGameDifference  0.012793\n",
       " 4                   homeTeamLastWin  0.011567\n",
       " 12     homeTeamImportanceDifference  0.005863\n",
       " 0                             round  0.005846\n",
       " 13     awayTeamImportanceDifference  0.005407\n",
       " 27                        Docklands  0.003841)"
      ]
     },
     "execution_count": 158,
     "metadata": {},
     "output_type": "execute_result"
    }
   ],
   "source": [
    "fi2, fi[:15]"
   ]
  },
  {
   "cell_type": "code",
   "execution_count": 166,
   "metadata": {},
   "outputs": [
    {
     "data": {
      "text/plain": [
       "array([[  21.        ,    6.        ,   14.        ,    4.        ,\n",
       "           0.        ,    1.        ,    0.        ,    1.        ,\n",
       "           5.        ,    3.        , -654.        , -122.        ,\n",
       "         -31.05780303,  -12.30631313,   70.54545455,   78.79545455,\n",
       "          76.75340909,   74.60189394,   77.03858717,   74.92258953,\n",
       "           2.        ,    6.        ,    0.        ,    0.        ,\n",
       "           0.        ,    0.        ,    0.        ,    1.        ,\n",
       "           0.        ,    0.        ,    0.        ,    0.        ,\n",
       "           0.        ,    0.        ,    0.        ,    0.        ,\n",
       "           0.        ,    0.        ,    0.        ,    0.        ,\n",
       "           0.        ,    0.        ,    0.        ,    0.        ,\n",
       "           0.        ]])"
      ]
     },
     "execution_count": 166,
     "metadata": {},
     "output_type": "execute_result"
    }
   ],
   "source": [
    "row = x_valid_2012.values[None,0]\n",
    "row"
   ]
  },
  {
   "cell_type": "code",
   "execution_count": 167,
   "metadata": {},
   "outputs": [
    {
     "data": {
      "text/plain": [
       "(0.0, 0.4613526570048309)"
      ]
     },
     "execution_count": 167,
     "metadata": {},
     "output_type": "execute_result"
    }
   ],
   "source": [
    "prediction, bias, contributions = ti.predict(m, row)\n",
    "prediction[0][0], bias[0][0]"
   ]
  },
  {
   "cell_type": "code",
   "execution_count": 162,
   "metadata": {},
   "outputs": [
    {
     "data": {
      "text/plain": [
       "array([[[-0.0026087 , -0.00048309,  0.00309179],\n",
       "        [-0.04081006, -0.00076336,  0.04157342],\n",
       "        [-0.01634615,  0.        ,  0.01634615],\n",
       "        [ 0.03764321,  0.        , -0.03764321],\n",
       "        [ 0.02253968,  0.        , -0.02253968],\n",
       "        [ 0.01004255,  0.        , -0.01004255],\n",
       "        [ 0.02315789,  0.        , -0.02315789],\n",
       "        [-0.05180995,  0.        ,  0.05180995],\n",
       "        [-0.01035924, -0.0025    ,  0.01285924],\n",
       "        [ 0.        ,  0.        ,  0.        ],\n",
       "        [ 0.01615459, -0.00048309, -0.0156715 ],\n",
       "        [-0.186636  ,  0.        ,  0.186636  ],\n",
       "        [-0.0264881 ,  0.        ,  0.0264881 ],\n",
       "        [ 0.00927273,  0.        , -0.00927273],\n",
       "        [-0.02088238,  0.        ,  0.02088238],\n",
       "        [-0.01516829,  0.00045469,  0.01471361],\n",
       "        [-0.09752781,  0.00087631,  0.0966515 ],\n",
       "        [ 0.02562036, -0.00048309, -0.02513727],\n",
       "        [-0.20425423,  0.00033658,  0.20391765],\n",
       "        [ 0.06402781, -0.00130276, -0.06272504],\n",
       "        [ 0.        ,  0.        ,  0.        ],\n",
       "        [-0.00080597,  0.        ,  0.00080597],\n",
       "        [ 0.        ,  0.        ,  0.        ],\n",
       "        [ 0.        ,  0.        ,  0.        ],\n",
       "        [-0.00503497,  0.        ,  0.00503497],\n",
       "        [ 0.00490196,  0.        , -0.00490196],\n",
       "        [ 0.        ,  0.        ,  0.        ],\n",
       "        [-0.00473456,  0.        ,  0.00473456],\n",
       "        [ 0.        ,  0.        ,  0.        ],\n",
       "        [ 0.        ,  0.        ,  0.        ],\n",
       "        [ 0.        ,  0.        ,  0.        ],\n",
       "        [ 0.        ,  0.        ,  0.        ],\n",
       "        [ 0.00367965,  0.        , -0.00367965],\n",
       "        [ 0.        ,  0.        ,  0.        ],\n",
       "        [ 0.        ,  0.        ,  0.        ],\n",
       "        [ 0.        ,  0.        ,  0.        ],\n",
       "        [ 0.        ,  0.        ,  0.        ],\n",
       "        [ 0.        ,  0.        ,  0.        ],\n",
       "        [ 0.        ,  0.        ,  0.        ],\n",
       "        [ 0.        ,  0.        ,  0.        ],\n",
       "        [ 0.0050733 ,  0.        , -0.0050733 ],\n",
       "        [ 0.        ,  0.        ,  0.        ],\n",
       "        [ 0.        ,  0.        ,  0.        ],\n",
       "        [ 0.        ,  0.        ,  0.        ],\n",
       "        [ 0.        ,  0.        ,  0.        ]]])"
      ]
     },
     "execution_count": 162,
     "metadata": {},
     "output_type": "execute_result"
    }
   ],
   "source": [
    "contributions"
   ]
  },
  {
   "cell_type": "code",
   "execution_count": 163,
   "metadata": {},
   "outputs": [
    {
     "data": {
      "text/plain": [
       "array([18, 11, 16,  7,  1, 12, 14,  2, 15,  8, 24, 27,  0, 21, 28, 37, 38,\n",
       "       39, 34, 41, 33, 31, 30, 29, 42, 36, 35, 22, 44, 23, 43, 20,  9, 26,\n",
       "       32, 25, 40, 13,  5, 10,  4,  6, 17,  3, 19], dtype=int64)"
      ]
     },
     "execution_count": 163,
     "metadata": {},
     "output_type": "execute_result"
    }
   ],
   "source": [
    "idxs = np.argsort(contributions[0][:,0])\n",
    "idxs"
   ]
  },
  {
   "cell_type": "code",
   "execution_count": 164,
   "metadata": {},
   "outputs": [
    {
     "data": {
      "text/html": [
       "<div>\n",
       "<style scoped>\n",
       "    .dataframe tbody tr th:only-of-type {\n",
       "        vertical-align: middle;\n",
       "    }\n",
       "\n",
       "    .dataframe tbody tr th {\n",
       "        vertical-align: top;\n",
       "    }\n",
       "\n",
       "    .dataframe thead th {\n",
       "        text-align: right;\n",
       "    }\n",
       "</style>\n",
       "<table border=\"1\" class=\"dataframe\">\n",
       "  <thead>\n",
       "    <tr style=\"text-align: right;\">\n",
       "      <th></th>\n",
       "      <th>0</th>\n",
       "      <th>1</th>\n",
       "      <th>2</th>\n",
       "    </tr>\n",
       "  </thead>\n",
       "  <tbody>\n",
       "    <tr>\n",
       "      <th>0</th>\n",
       "      <td>homeTeamImportanceSeasonAverage</td>\n",
       "      <td>77.038587</td>\n",
       "      <td>-0.204254</td>\n",
       "    </tr>\n",
       "    <tr>\n",
       "      <th>1</th>\n",
       "      <td>awayGameDifference</td>\n",
       "      <td>-122.000000</td>\n",
       "      <td>-0.186636</td>\n",
       "    </tr>\n",
       "    <tr>\n",
       "      <th>2</th>\n",
       "      <td>homeTeamImportanceLastFiveGames</td>\n",
       "      <td>76.753409</td>\n",
       "      <td>-0.097528</td>\n",
       "    </tr>\n",
       "    <tr>\n",
       "      <th>3</th>\n",
       "      <td>homeTravel</td>\n",
       "      <td>1.000000</td>\n",
       "      <td>-0.051810</td>\n",
       "    </tr>\n",
       "    <tr>\n",
       "      <th>4</th>\n",
       "      <td>homeTeam</td>\n",
       "      <td>6.000000</td>\n",
       "      <td>-0.040810</td>\n",
       "    </tr>\n",
       "    <tr>\n",
       "      <th>5</th>\n",
       "      <td>homeTeamImportanceDifference</td>\n",
       "      <td>-31.057803</td>\n",
       "      <td>-0.026488</td>\n",
       "    </tr>\n",
       "    <tr>\n",
       "      <th>6</th>\n",
       "      <td>homeTeamImportanceLastGame</td>\n",
       "      <td>70.545455</td>\n",
       "      <td>-0.020882</td>\n",
       "    </tr>\n",
       "    <tr>\n",
       "      <th>7</th>\n",
       "      <td>awayTeam</td>\n",
       "      <td>14.000000</td>\n",
       "      <td>-0.016346</td>\n",
       "    </tr>\n",
       "    <tr>\n",
       "      <th>8</th>\n",
       "      <td>awayTeamImportanceLastGame</td>\n",
       "      <td>78.795455</td>\n",
       "      <td>-0.015168</td>\n",
       "    </tr>\n",
       "    <tr>\n",
       "      <th>9</th>\n",
       "      <td>homeTeamChanges</td>\n",
       "      <td>5.000000</td>\n",
       "      <td>-0.010359</td>\n",
       "    </tr>\n",
       "    <tr>\n",
       "      <th>10</th>\n",
       "      <td>Blacktown</td>\n",
       "      <td>0.000000</td>\n",
       "      <td>-0.005035</td>\n",
       "    </tr>\n",
       "    <tr>\n",
       "      <th>11</th>\n",
       "      <td>Docklands</td>\n",
       "      <td>1.000000</td>\n",
       "      <td>-0.004735</td>\n",
       "    </tr>\n",
       "    <tr>\n",
       "      <th>12</th>\n",
       "      <td>round</td>\n",
       "      <td>21.000000</td>\n",
       "      <td>-0.002609</td>\n",
       "    </tr>\n",
       "    <tr>\n",
       "      <th>13</th>\n",
       "      <td>awayLadderPosition</td>\n",
       "      <td>6.000000</td>\n",
       "      <td>-0.000806</td>\n",
       "    </tr>\n",
       "    <tr>\n",
       "      <th>14</th>\n",
       "      <td>Eureka Stadium</td>\n",
       "      <td>0.000000</td>\n",
       "      <td>0.000000</td>\n",
       "    </tr>\n",
       "    <tr>\n",
       "      <th>15</th>\n",
       "      <td>Riverway Stadium</td>\n",
       "      <td>0.000000</td>\n",
       "      <td>0.000000</td>\n",
       "    </tr>\n",
       "    <tr>\n",
       "      <th>16</th>\n",
       "      <td>S.C.G.</td>\n",
       "      <td>0.000000</td>\n",
       "      <td>0.000000</td>\n",
       "    </tr>\n",
       "    <tr>\n",
       "      <th>17</th>\n",
       "      <td>Stadium Australia</td>\n",
       "      <td>0.000000</td>\n",
       "      <td>0.000000</td>\n",
       "    </tr>\n",
       "    <tr>\n",
       "      <th>18</th>\n",
       "      <td>Manuka Oval</td>\n",
       "      <td>0.000000</td>\n",
       "      <td>0.000000</td>\n",
       "    </tr>\n",
       "    <tr>\n",
       "      <th>19</th>\n",
       "      <td>Sydney Showground</td>\n",
       "      <td>0.000000</td>\n",
       "      <td>0.000000</td>\n",
       "    </tr>\n",
       "    <tr>\n",
       "      <th>20</th>\n",
       "      <td>M.C.G.</td>\n",
       "      <td>0.000000</td>\n",
       "      <td>0.000000</td>\n",
       "    </tr>\n",
       "    <tr>\n",
       "      <th>21</th>\n",
       "      <td>Jiangwan Stadium</td>\n",
       "      <td>0.000000</td>\n",
       "      <td>0.000000</td>\n",
       "    </tr>\n",
       "    <tr>\n",
       "      <th>22</th>\n",
       "      <td>Gabba</td>\n",
       "      <td>0.000000</td>\n",
       "      <td>0.000000</td>\n",
       "    </tr>\n",
       "    <tr>\n",
       "      <th>23</th>\n",
       "      <td>Football Park</td>\n",
       "      <td>0.000000</td>\n",
       "      <td>0.000000</td>\n",
       "    </tr>\n",
       "    <tr>\n",
       "      <th>24</th>\n",
       "      <td>Traeger Park</td>\n",
       "      <td>0.000000</td>\n",
       "      <td>0.000000</td>\n",
       "    </tr>\n",
       "    <tr>\n",
       "      <th>25</th>\n",
       "      <td>Perth Stadium</td>\n",
       "      <td>0.000000</td>\n",
       "      <td>0.000000</td>\n",
       "    </tr>\n",
       "    <tr>\n",
       "      <th>26</th>\n",
       "      <td>Marrara Oval</td>\n",
       "      <td>0.000000</td>\n",
       "      <td>0.000000</td>\n",
       "    </tr>\n",
       "    <tr>\n",
       "      <th>27</th>\n",
       "      <td>Adelaide Oval</td>\n",
       "      <td>0.000000</td>\n",
       "      <td>0.000000</td>\n",
       "    </tr>\n",
       "    <tr>\n",
       "      <th>28</th>\n",
       "      <td>York Park</td>\n",
       "      <td>0.000000</td>\n",
       "      <td>0.000000</td>\n",
       "    </tr>\n",
       "    <tr>\n",
       "      <th>29</th>\n",
       "      <td>Bellerive Oval</td>\n",
       "      <td>0.000000</td>\n",
       "      <td>0.000000</td>\n",
       "    </tr>\n",
       "    <tr>\n",
       "      <th>30</th>\n",
       "      <td>Wellington</td>\n",
       "      <td>0.000000</td>\n",
       "      <td>0.000000</td>\n",
       "    </tr>\n",
       "    <tr>\n",
       "      <th>31</th>\n",
       "      <td>homeLadderPosition</td>\n",
       "      <td>2.000000</td>\n",
       "      <td>0.000000</td>\n",
       "    </tr>\n",
       "    <tr>\n",
       "      <th>32</th>\n",
       "      <td>awayTeamChanges</td>\n",
       "      <td>3.000000</td>\n",
       "      <td>0.000000</td>\n",
       "    </tr>\n",
       "    <tr>\n",
       "      <th>33</th>\n",
       "      <td>Cazaly's Stadium</td>\n",
       "      <td>0.000000</td>\n",
       "      <td>0.000000</td>\n",
       "    </tr>\n",
       "    <tr>\n",
       "      <th>34</th>\n",
       "      <td>Kardinia Park</td>\n",
       "      <td>0.000000</td>\n",
       "      <td>0.003680</td>\n",
       "    </tr>\n",
       "    <tr>\n",
       "      <th>35</th>\n",
       "      <td>Carrara</td>\n",
       "      <td>0.000000</td>\n",
       "      <td>0.004902</td>\n",
       "    </tr>\n",
       "    <tr>\n",
       "      <th>36</th>\n",
       "      <td>Subiaco</td>\n",
       "      <td>0.000000</td>\n",
       "      <td>0.005073</td>\n",
       "    </tr>\n",
       "    <tr>\n",
       "      <th>37</th>\n",
       "      <td>awayTeamImportanceDifference</td>\n",
       "      <td>-12.306313</td>\n",
       "      <td>0.009273</td>\n",
       "    </tr>\n",
       "    <tr>\n",
       "      <th>38</th>\n",
       "      <td>awayTeamLastWin</td>\n",
       "      <td>1.000000</td>\n",
       "      <td>0.010043</td>\n",
       "    </tr>\n",
       "    <tr>\n",
       "      <th>39</th>\n",
       "      <td>homeGameDifference</td>\n",
       "      <td>-654.000000</td>\n",
       "      <td>0.016155</td>\n",
       "    </tr>\n",
       "    <tr>\n",
       "      <th>40</th>\n",
       "      <td>homeTeamLastWin</td>\n",
       "      <td>0.000000</td>\n",
       "      <td>0.022540</td>\n",
       "    </tr>\n",
       "    <tr>\n",
       "      <th>41</th>\n",
       "      <td>awayTravel</td>\n",
       "      <td>0.000000</td>\n",
       "      <td>0.023158</td>\n",
       "    </tr>\n",
       "    <tr>\n",
       "      <th>42</th>\n",
       "      <td>awayTeamImportanceLastFiveGames</td>\n",
       "      <td>74.601894</td>\n",
       "      <td>0.025620</td>\n",
       "    </tr>\n",
       "    <tr>\n",
       "      <th>43</th>\n",
       "      <td>rainfall</td>\n",
       "      <td>4.000000</td>\n",
       "      <td>0.037643</td>\n",
       "    </tr>\n",
       "    <tr>\n",
       "      <th>44</th>\n",
       "      <td>awayTeamImportanceSeasonAverage</td>\n",
       "      <td>74.922590</td>\n",
       "      <td>0.064028</td>\n",
       "    </tr>\n",
       "  </tbody>\n",
       "</table>\n",
       "</div>"
      ],
      "text/plain": [
       "                                  0           1         2\n",
       "0   homeTeamImportanceSeasonAverage   77.038587 -0.204254\n",
       "1                awayGameDifference -122.000000 -0.186636\n",
       "2   homeTeamImportanceLastFiveGames   76.753409 -0.097528\n",
       "3                        homeTravel    1.000000 -0.051810\n",
       "4                          homeTeam    6.000000 -0.040810\n",
       "5      homeTeamImportanceDifference  -31.057803 -0.026488\n",
       "6        homeTeamImportanceLastGame   70.545455 -0.020882\n",
       "7                          awayTeam   14.000000 -0.016346\n",
       "8        awayTeamImportanceLastGame   78.795455 -0.015168\n",
       "9                   homeTeamChanges    5.000000 -0.010359\n",
       "10                        Blacktown    0.000000 -0.005035\n",
       "11                        Docklands    1.000000 -0.004735\n",
       "12                            round   21.000000 -0.002609\n",
       "13               awayLadderPosition    6.000000 -0.000806\n",
       "14                   Eureka Stadium    0.000000  0.000000\n",
       "15                 Riverway Stadium    0.000000  0.000000\n",
       "16                           S.C.G.    0.000000  0.000000\n",
       "17                Stadium Australia    0.000000  0.000000\n",
       "18                      Manuka Oval    0.000000  0.000000\n",
       "19                Sydney Showground    0.000000  0.000000\n",
       "20                           M.C.G.    0.000000  0.000000\n",
       "21                 Jiangwan Stadium    0.000000  0.000000\n",
       "22                            Gabba    0.000000  0.000000\n",
       "23                    Football Park    0.000000  0.000000\n",
       "24                     Traeger Park    0.000000  0.000000\n",
       "25                    Perth Stadium    0.000000  0.000000\n",
       "26                     Marrara Oval    0.000000  0.000000\n",
       "27                    Adelaide Oval    0.000000  0.000000\n",
       "28                        York Park    0.000000  0.000000\n",
       "29                   Bellerive Oval    0.000000  0.000000\n",
       "30                       Wellington    0.000000  0.000000\n",
       "31               homeLadderPosition    2.000000  0.000000\n",
       "32                  awayTeamChanges    3.000000  0.000000\n",
       "33                 Cazaly's Stadium    0.000000  0.000000\n",
       "34                    Kardinia Park    0.000000  0.003680\n",
       "35                          Carrara    0.000000  0.004902\n",
       "36                          Subiaco    0.000000  0.005073\n",
       "37     awayTeamImportanceDifference  -12.306313  0.009273\n",
       "38                  awayTeamLastWin    1.000000  0.010043\n",
       "39               homeGameDifference -654.000000  0.016155\n",
       "40                  homeTeamLastWin    0.000000  0.022540\n",
       "41                       awayTravel    0.000000  0.023158\n",
       "42  awayTeamImportanceLastFiveGames   74.601894  0.025620\n",
       "43                         rainfall    4.000000  0.037643\n",
       "44  awayTeamImportanceSeasonAverage   74.922590  0.064028"
      ]
     },
     "execution_count": 164,
     "metadata": {},
     "output_type": "execute_result"
    }
   ],
   "source": [
    "pd.DataFrame( [o for o in zip(x_valid_2012.columns[idxs], x_valid_2012.iloc[0][idxs], contributions[0][:,0][idxs])] )"
   ]
  },
  {
   "cell_type": "code",
   "execution_count": 202,
   "metadata": {},
   "outputs": [
    {
     "name": "stdout",
     "output_type": "stream",
     "text": [
      "F1: 0.7311\n"
     ]
    }
   ],
   "source": [
    "from sklearn.model_selection import GridSearchCV\n",
    "parameter_space = {\n",
    "    \"max_features\": [2,10,50,'auto'],\n",
    "    \"n_estimators\": [50,100,200],\n",
    "    \"criterion\": [\"gini\", \"entropy\"],\n",
    "    \"min_samples_leaf\": [1,2,4,6]\n",
    "}\n",
    "\n",
    "rf = RandomForestClassifier(random_state=26)\n",
    "grid = GridSearchCV(rf, parameter_space)\n",
    "grid.fit(x_train_2012, y_train_2012)\n",
    "# scores_rf_teams = cross_val_score(rf, X_teams_2012, y_true_2012)\n",
    "print(\"F1: {0:0.4f}\".format(np.mean(grid.best_score_)))"
   ]
  },
  {
   "attachments": {},
   "cell_type": "markdown",
   "metadata": {},
   "source": []
  }
 ],
 "metadata": {
  "kernelspec": {
   "display_name": "venv",
   "language": "python",
   "name": "python3"
  },
  "language_info": {
   "codemirror_mode": {
    "name": "ipython",
    "version": 3
   },
   "file_extension": ".py",
   "mimetype": "text/x-python",
   "name": "python",
   "nbconvert_exporter": "python",
   "pygments_lexer": "ipython3",
   "version": "3.9.13"
  },
  "orig_nbformat": 4,
  "vscode": {
   "interpreter": {
    "hash": "afd8bbf76cc8f66cb6213c8ab916f8a134e63b6f70cbd0f147b7ecd8cc749dd8"
   }
  }
 },
 "nbformat": 4,
 "nbformat_minor": 2
}
