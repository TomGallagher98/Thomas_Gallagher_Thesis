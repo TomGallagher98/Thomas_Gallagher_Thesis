{
 "cells": [
  {
   "cell_type": "code",
   "execution_count": 3,
   "metadata": {},
   "outputs": [
    {
     "name": "stdout",
     "output_type": "stream",
     "text": [
      "Activating ipynb\n",
      "Importing libs\n"
     ]
    }
   ],
   "source": [
    "print(\"Activating ipynb\")\n",
    "print (\"Importing libs\")\n",
    "import warnings\n",
    "warnings.simplefilter(action='ignore', category=FutureWarning)\n",
    "import os\n",
    "import numpy as np\n",
    "import pandas as pd\n",
    "import matplotlib.pyplot as plt\n",
    "from sklearn.preprocessing import LabelEncoder, OneHotEncoder, MinMaxScaler"
   ]
  },
  {
   "cell_type": "code",
   "execution_count": 2,
   "metadata": {},
   "outputs": [],
   "source": [
    "# Global\n",
    "years = [x for x in range (2012, 2022)]"
   ]
  },
  {
   "cell_type": "code",
   "execution_count": 3,
   "metadata": {},
   "outputs": [
    {
     "name": "stderr",
     "output_type": "stream",
     "text": [
      "C:\\Users\\Craig\\AppData\\Local\\Temp\\ipykernel_9584\\431392878.py:15: DtypeWarning: Columns (30) have mixed types. Specify dtype option on import or set low_memory=False.\n",
      "  all_stats_raw = pd.read_csv(all_stats, index_col=False)\n"
     ]
    }
   ],
   "source": [
    "# Load Stats\n",
    "stats_folder_path = \"C:/Users/Craig/Documents/Thesis/Thomas_Gallagher_Thesis/Data/AFL_Stats_sorted/Year/Players/\"\n",
    "stats_2012 = pd.read_csv(stats_folder_path + '2012.csv', index_col=False)\n",
    "stats_2013 = pd.read_csv(stats_folder_path + '2013.csv', index_col=False)\n",
    "stats_2014 = pd.read_csv(stats_folder_path + '2014.csv', index_col=False)\n",
    "stats_2015 = pd.read_csv(stats_folder_path + '2015.csv', index_col=False)\n",
    "stats_2016 = pd.read_csv(stats_folder_path + '2016.csv', index_col=False)\n",
    "stats_2017 = pd.read_csv(stats_folder_path + '2017.csv', index_col=False)\n",
    "stats_2018 = pd.read_csv(stats_folder_path + '2018.csv', index_col=False)\n",
    "stats_2019 = pd.read_csv(stats_folder_path + '2019.csv', index_col=False)\n",
    "stats_2020 = pd.read_csv(stats_folder_path + '2020.csv', index_col=False)\n",
    "stats_2021 = pd.read_csv(stats_folder_path + '2021.csv', index_col=False)\n",
    "\n",
    "all_stats = \"C:/Users/Craig/Documents/Thesis/Thomas_Gallagher_Thesis/Data/AFL_Stats_sorted/Year/Players/stats_sorted.csv\"\n",
    "all_stats_raw = pd.read_csv(all_stats, index_col=False)"
   ]
  },
  {
   "cell_type": "code",
   "execution_count": 4,
   "metadata": {},
   "outputs": [
    {
     "name": "stdout",
     "output_type": "stream",
     "text": [
      "Loading Initial Game Data\n"
     ]
    }
   ],
   "source": [
    "# Load Initial Data\n",
    "print(\"Loading Initial Game Data\")\n",
    "games_folder_path = \"C:/Users/Craig/Documents/Thesis/Thomas_Gallagher_Thesis/Data/AFL_Stats_sorted/Year/Games/\"\n",
    "games_2012 = pd.read_csv(games_folder_path + '2012.csv', index_col=False, parse_dates=['date'])\n",
    "games_2013 = pd.read_csv(games_folder_path + '2013.csv', index_col=False, parse_dates=['date'])\n",
    "games_2014 = pd.read_csv(games_folder_path + '2014.csv', index_col=False, parse_dates=['date'])\n",
    "games_2015 = pd.read_csv(games_folder_path + '2015.csv', index_col=False, parse_dates=['date'])\n",
    "games_2016 = pd.read_csv(games_folder_path + '2016.csv', index_col=False, parse_dates=['date'])\n",
    "games_2017 = pd.read_csv(games_folder_path + '2017.csv', index_col=False, parse_dates=['date'])\n",
    "games_2018 = pd.read_csv(games_folder_path + '2018.csv', index_col=False, parse_dates=['date'])\n",
    "games_2019 = pd.read_csv(games_folder_path + '2019.csv', index_col=False, parse_dates=['date'])\n",
    "games_2020 = pd.read_csv(games_folder_path + '2020.csv', index_col=False, parse_dates=['date'])\n",
    "games_2021 = pd.read_csv(games_folder_path + '2021.csv', index_col=False, parse_dates=['date'])\n",
    "\n",
    "all_games_path = os.path.join(games_folder_path + \"games_sorted.csv\")\n",
    "all_g = pd.concat([games_2012, games_2013, games_2014, games_2015, games_2016, games_2017, games_2018, games_2019, games_2020, games_2021])\n",
    "all_g.to_csv(all_games_path, index=False)\n",
    "all_games = pd.read_csv(all_games_path, index_col=False, parse_dates=['date'])"
   ]
  },
  {
   "cell_type": "code",
   "execution_count": 5,
   "metadata": {},
   "outputs": [],
   "source": [
    "games_list_year = [games_2012, games_2013, games_2014, games_2015, games_2016, games_2017, games_2018, games_2019, games_2020, games_2021]\n",
    "stats_list_year = [stats_2012, stats_2013, stats_2014, stats_2015, stats_2016, stats_2017, stats_2018, stats_2019, stats_2020, stats_2021]"
   ]
  },
  {
   "attachments": {},
   "cell_type": "markdown",
   "metadata": {},
   "source": [
    "## Build Y value \n",
    "Result of game based on Home Team (Win = 2, Draw = 1, Lose = 0)"
   ]
  },
  {
   "cell_type": "code",
   "execution_count": 6,
   "metadata": {},
   "outputs": [],
   "source": [
    "y_true_2012 = games_2012['homeWin']\n",
    "y_true_2013 = games_2013['homeWin']\n",
    "y_true_2014 = games_2014['homeWin']\n",
    "y_true_2015 = games_2015['homeWin']\n",
    "y_true_2016 = games_2016['homeWin']\n",
    "y_true_2017 = games_2017['homeWin']\n",
    "y_true_2018 = games_2018['homeWin']\n",
    "y_true_2019 = games_2019['homeWin']\n",
    "y_true_2020 = games_2020['homeWin']\n",
    "y_true_2021 = games_2021['homeWin']\n",
    "y_true_all = all_games['homeWin']"
   ]
  },
  {
   "cell_type": "code",
   "execution_count": 7,
   "metadata": {},
   "outputs": [
    {
     "name": "stdout",
     "output_type": "stream",
     "text": [
      "{'2012': 55.79710144927537, '2013': 55.79710144927537, '2014': 56.763285024154584, '2015': 52.9126213592233, '2016': 59.42028985507246, '2017': 59.17874396135265, '2018': 54.830917874396135, '2019': 57.00483091787439, '2020': 56.79012345679012, '2021': 52.41545893719807}\n"
     ]
    }
   ],
   "source": [
    "baseline = {}\n",
    "\n",
    "def get_baseline(y, year):\n",
    "    # print(y.count())\n",
    "    baseline[year] = (y.sum() / (y.count()*2)) * 100\n",
    "\n",
    "get_baseline(y_true_2012, '2012')\n",
    "get_baseline(y_true_2013, '2013')\n",
    "get_baseline(y_true_2014, '2014')\n",
    "get_baseline(y_true_2015, '2015')\n",
    "get_baseline(y_true_2016, '2016')\n",
    "get_baseline(y_true_2017, '2017')\n",
    "get_baseline(y_true_2018, '2018')\n",
    "get_baseline(y_true_2019, '2019')\n",
    "get_baseline(y_true_2020, '2020')\n",
    "get_baseline(y_true_2021, '2021')\n",
    "\n",
    "print(baseline)"
   ]
  },
  {
   "attachments": {},
   "cell_type": "markdown",
   "metadata": {},
   "source": [
    "## Add Previous Game Result\n",
    "Set default dict to store results for each team\n",
    "Only a boolean value, draws only account for ~1% of all games \n",
    "Default to false\n",
    "If the last game was a win set to true\n",
    "# TODO \n",
    "add draws in and see if there is a difference"
   ]
  },
  {
   "attachments": {},
   "cell_type": "markdown",
   "metadata": {},
   "source": [
    "## Computed Variables\n",
    "These variables did not appear in the original data set but were added later\n",
    "\n",
    "Travel Data: Used to determine the impact of travel on teams\n",
    "             Determined by comparing the venue of the upcoming match to the teams home location\n",
    "\n",
    "Break: Finds the break between a teams last and next game\n",
    "\n",
    "Team Changes: The number of players that are different in the from the previous match\n",
    "              The number of games lost/gained from these changes\n",
    "              The expected score lost/gained from the incoming players\n",
    "              Split games out and games in into separate variables\n",
    "\n",
    "Team Composition: The average/total score of all the selected players\n",
    "                  Done this way to reduce number of features\n",
    "\n",
    "TODO   \n",
    "Previous 5 games result: Totals each teams previous games results\n",
    "\n",
    "             "
   ]
  },
  {
   "attachments": {},
   "cell_type": "markdown",
   "metadata": {},
   "source": [
    "## One Hot Encoding\n",
    "The tree models used for feature engineering cannot take in string inputs\n",
    "Value encoding can be used to change teams to int values, but then the model will read this as distance i.e. the team with value 1 will be read as being closer to the team with value 2 than the team with value 18. \n",
    "One Hot Encoding creates a bool variable for each team which is 1 when the team is playing.\n",
    "\n",
    "# TODO\n",
    "See if the model performs better with the simple label encoding. \n",
    "One hot encoding creates an issue with decision trees as it creates lots of \"empty\" splits, there will now be 34 variables which the model will split on 0, which can skew the model."
   ]
  },
  {
   "cell_type": "code",
   "execution_count": 8,
   "metadata": {},
   "outputs": [],
   "source": [
    "# One Hot Encoding Teams\n",
    "encoding = LabelEncoder()\n",
    "encoding.fit(all_games[\"homeTeam\"].values)\n",
    "\n",
    "def OHE_Teams(games):\n",
    "    home_teams = encoding.transform(games[\"homeTeam\"].values)\n",
    "    away_teams = encoding.transform(games[\"awayTeam\"].values)\n",
    "    \n",
    "    ##\n",
    "    games[\"homeTeam\"] = home_teams\n",
    "    games[\"awayTeam\"] = away_teams\n",
    "    ##\n",
    "    all_teams = np.vstack([home_teams, away_teams]).T\n",
    "    \n",
    "    # oneHot = OneHotEncoder()\n",
    "    # X_teams = oneHot.fit_transform(all_teams).todense()\n",
    "    # X_teams = pd.DataFrame(all_teams)\n",
    "    # games = pd.concat([games, pd.DataFrame(X_teams)],axis=1)\n",
    "    return games\n",
    "\n",
    "games_2012 = OHE_Teams(games_2012)\n",
    "games_2013 = OHE_Teams(games_2013)\n",
    "games_2014 = OHE_Teams(games_2014)\n",
    "games_2015 = OHE_Teams(games_2015)\n",
    "games_2016 = OHE_Teams(games_2016)\n",
    "games_2017 = OHE_Teams(games_2017)\n",
    "games_2018 = OHE_Teams(games_2018)\n",
    "games_2019 = OHE_Teams(games_2019)\n",
    "games_2020 = OHE_Teams(games_2020)\n",
    "games_2021 = OHE_Teams(games_2021)"
   ]
  },
  {
   "cell_type": "markdown",
   "metadata": {},
   "source": [
    "## One Hot Encoding Venues\n",
    "Same issues as above, but simplified slightly as there are only 23 stadiums"
   ]
  },
  {
   "cell_type": "code",
   "execution_count": 9,
   "metadata": {},
   "outputs": [],
   "source": [
    "# One Hot Encoding Venues\n",
    "encoding = LabelEncoder()\n",
    "encoding.fit(all_games[\"venue\"].values)\n",
    "all_venues = all_games[\"venue\"].values\n",
    "\n",
    "all_venues = all_venues.reshape(-1,1)\n",
    "\n",
    "def OHE_Venues(games):\n",
    "    venues = games['venue'].values\n",
    "    # all_venues = all_venues.reshape(-1,1)\n",
    "    \n",
    "    venues = venues.reshape(-1,1)\n",
    "\n",
    "    oneHot = OneHotEncoder()\n",
    "\n",
    "    oneHot.fit(all_venues)\n",
    "    X_venues = oneHot.transform(venues).toarray()\n",
    "    X_venues = pd.DataFrame(X_venues, columns=oneHot.categories_[0])\n",
    "    games = pd.concat([games, X_venues], axis=1)\n",
    "    return games\n",
    "\n",
    "games_2012 = OHE_Venues(games_2012)\n",
    "games_2013 = OHE_Venues(games_2013)\n",
    "games_2014 = OHE_Venues(games_2014)\n",
    "games_2015 = OHE_Venues(games_2015)\n",
    "games_2016 = OHE_Venues(games_2016)\n",
    "games_2017 = OHE_Venues(games_2017)\n",
    "games_2018 = OHE_Venues(games_2018)\n",
    "games_2019 = OHE_Venues(games_2019)\n",
    "games_2020 = OHE_Venues(games_2020)\n",
    "games_2021 = OHE_Venues(games_2021)"
   ]
  },
  {
   "cell_type": "code",
   "execution_count": 10,
   "metadata": {},
   "outputs": [],
   "source": [
    "def show_dtypes(df):\n",
    "    for index in range(len(df.dtypes)):\n",
    "        print(f'{df.columns[index]} -> {df.dtypes[index]}' )"
   ]
  },
  {
   "cell_type": "code",
   "execution_count": 11,
   "metadata": {},
   "outputs": [],
   "source": [
    "# Remove Variables\n",
    "drop_values = ['gameId', 'venue', 'homeWin', 'year','date','startTime', 'attendance', 'homeTeamScore', 'awayTeamScore', 'round']\n",
    "X_2012 = games_2012.drop(drop_values,axis=1)\n",
    "X_2013 = games_2013.drop(drop_values,axis=1)\n",
    "X_2014 = games_2014.drop(drop_values,axis=1)\n",
    "X_2015 = games_2015.drop(drop_values,axis=1)\n",
    "X_2016 = games_2016.drop(drop_values,axis=1)\n",
    "X_2017 = games_2017.drop(drop_values,axis=1)\n",
    "X_2018 = games_2018.drop(drop_values,axis=1)\n",
    "X_2019 = games_2019.drop(drop_values,axis=1)\n",
    "X_2020 = games_2020.drop(drop_values,axis=1)\n",
    "X_2021 = games_2021.drop(drop_values,axis=1)"
   ]
  },
  {
   "cell_type": "code",
   "execution_count": 12,
   "metadata": {},
   "outputs": [],
   "source": [
    "X_2012.columns = X_2012.columns.astype(str) \n",
    "X_2013.columns = X_2013.columns.astype(str) \n",
    "X_2014.columns = X_2014.columns.astype(str) \n",
    "X_2015.columns = X_2015.columns.astype(str) \n",
    "X_2016.columns = X_2016.columns.astype(str) \n",
    "X_2017.columns = X_2017.columns.astype(str) \n",
    "X_2018.columns = X_2018.columns.astype(str) \n",
    "X_2019.columns = X_2019.columns.astype(str) \n",
    "X_2020.columns = X_2020.columns.astype(str) \n",
    "X_2021.columns = X_2021.columns.astype(str) "
   ]
  },
  {
   "cell_type": "code",
   "execution_count": null,
   "metadata": {},
   "outputs": [],
   "source": [
    "# normalize the dataset\n",
    "scaler = MinMaxScaler(feature_range=(0, 1))\n",
    "X_2012 = scaler.fit_transform(X_2012)\n",
    "X_2013 = scaler.fit_transform(X_2013)\n",
    "X_2014 = scaler.fit_transform(X_2014)\n",
    "X_2015 = scaler.fit_transform(X_2015)\n",
    "X_2016 = scaler.fit_transform(X_2016)\n",
    "X_2017 = scaler.fit_transform(X_2017)\n",
    "X_2018 = scaler.fit_transform(X_2018)\n",
    "X_2019 = scaler.fit_transform(X_2019)\n",
    "X_2020 = scaler.fit_transform(X_2020)\n",
    "X_2021 = scaler.fit_transform(X_2021)\n",
    "\n",
    "all_games = scaler.fit_transform(all_games)"
   ]
  },
  {
   "attachments": {},
   "cell_type": "markdown",
   "metadata": {},
   "source": [
    "## Decision Tree Classifier\n",
    "\n",
    "For each season I will create a different classifier, so that each season can be assessed individually\n",
    "These models will not include the 2021 season, even though the final model will be separate to the models created here the feature engineering means that information will possibly be extracted from the data. As such I will leave the final season out of feature engineering "
   ]
  },
  {
   "cell_type": "code",
   "execution_count": 13,
   "metadata": {},
   "outputs": [
    {
     "name": "stdout",
     "output_type": "stream",
     "text": [
      "0 0 0 0 0 0 0 0 0 0\n"
     ]
    }
   ],
   "source": [
    "print(X_2012.isnull().sum().sum(),\n",
    "X_2013.isnull().sum().sum(),\n",
    "X_2014.isnull().sum().sum(),\n",
    "X_2015.isnull().sum().sum(),\n",
    "X_2016.isnull().sum().sum(),\n",
    "X_2017.isnull().sum().sum(),\n",
    "X_2018.isnull().sum().sum(),\n",
    "X_2019.isnull().sum().sum(),\n",
    "X_2020.isnull().sum().sum(),\n",
    "X_2021.isnull().sum().sum() )"
   ]
  },
  {
   "cell_type": "code",
   "execution_count": 14,
   "metadata": {},
   "outputs": [
    {
     "name": "stderr",
     "output_type": "stream",
     "text": [
      "c:\\Users\\Craig\\Documents\\Thesis\\venv\\lib\\site-packages\\sklearn\\model_selection\\_split.py:700: UserWarning: The least populated class in y has only 1 members, which is less than n_splits=5.\n",
      "  warnings.warn(\n",
      "c:\\Users\\Craig\\Documents\\Thesis\\venv\\lib\\site-packages\\sklearn\\model_selection\\_split.py:700: UserWarning: The least populated class in y has only 1 members, which is less than n_splits=5.\n",
      "  warnings.warn(\n",
      "c:\\Users\\Craig\\Documents\\Thesis\\venv\\lib\\site-packages\\sklearn\\model_selection\\_split.py:700: UserWarning: The least populated class in y has only 1 members, which is less than n_splits=5.\n",
      "  warnings.warn(\n",
      "c:\\Users\\Craig\\Documents\\Thesis\\venv\\lib\\site-packages\\sklearn\\model_selection\\_split.py:700: UserWarning: The least populated class in y has only 1 members, which is less than n_splits=5.\n",
      "  warnings.warn(\n",
      "c:\\Users\\Craig\\Documents\\Thesis\\venv\\lib\\site-packages\\sklearn\\model_selection\\_split.py:700: UserWarning: The least populated class in y has only 1 members, which is less than n_splits=5.\n",
      "  warnings.warn(\n",
      "c:\\Users\\Craig\\Documents\\Thesis\\venv\\lib\\site-packages\\sklearn\\model_selection\\_split.py:700: UserWarning: The least populated class in y has only 1 members, which is less than n_splits=5.\n",
      "  warnings.warn(\n",
      "c:\\Users\\Craig\\Documents\\Thesis\\venv\\lib\\site-packages\\sklearn\\model_selection\\_split.py:700: UserWarning: The least populated class in y has only 1 members, which is less than n_splits=5.\n",
      "  warnings.warn(\n",
      "c:\\Users\\Craig\\Documents\\Thesis\\venv\\lib\\site-packages\\sklearn\\model_selection\\_split.py:700: UserWarning: The least populated class in y has only 1 members, which is less than n_splits=5.\n",
      "  warnings.warn(\n",
      "c:\\Users\\Craig\\Documents\\Thesis\\venv\\lib\\site-packages\\sklearn\\model_selection\\_split.py:700: UserWarning: The least populated class in y has only 1 members, which is less than n_splits=5.\n",
      "  warnings.warn(\n",
      "c:\\Users\\Craig\\Documents\\Thesis\\venv\\lib\\site-packages\\sklearn\\model_selection\\_split.py:700: UserWarning: The least populated class in y has only 1 members, which is less than n_splits=5.\n",
      "  warnings.warn(\n"
     ]
    },
    {
     "name": "stdout",
     "output_type": "stream",
     "text": [
      "{'2012': 0.588966318234611, '2013': 0.5466898954703833, '2014': 0.588966318234611, '2015': 0.5466898954703833, '2016': 0.588966318234611, '2017': 0.5466898954703833, '2018': 0.588966318234611, '2019': 0.5466898954703833, '2020': 0.588966318234611, '2021': 0.5466898954703833}\n"
     ]
    }
   ],
   "source": [
    "from sklearn.tree import DecisionTreeClassifier\n",
    "from sklearn.model_selection import cross_val_score\n",
    "\n",
    "scores = {}\n",
    "def build_dec_tree_scores(X, y, year):\n",
    "    clf = DecisionTreeClassifier(random_state=26)\n",
    "    scores_raw = clf.fit(X, y)\n",
    "    scores_raw = cross_val_score(clf, X, y)\n",
    "    scores[year] = np.mean(scores_raw)\n",
    "\n",
    "build_dec_tree_scores(X_2012, y_true_2012, '2012')\n",
    "build_dec_tree_scores(X_2013, y_true_2013, '2013')\n",
    "build_dec_tree_scores(X_2012, y_true_2012, '2014')\n",
    "build_dec_tree_scores(X_2013, y_true_2013, '2015')\n",
    "build_dec_tree_scores(X_2012, y_true_2012, '2016')\n",
    "build_dec_tree_scores(X_2013, y_true_2013, '2017')\n",
    "build_dec_tree_scores(X_2012, y_true_2012, '2018')\n",
    "build_dec_tree_scores(X_2013, y_true_2013, '2019')\n",
    "build_dec_tree_scores(X_2012, y_true_2012, '2020')\n",
    "build_dec_tree_scores(X_2013, y_true_2013, '2021')\n",
    "\n",
    "print(scores)\n",
    "# print(\"F1: {0:0.4f}\".format(np.mean(scores)))"
   ]
  },
  {
   "cell_type": "code",
   "execution_count": 15,
   "metadata": {},
   "outputs": [
    {
     "data": {
      "text/plain": [
       "0.9806763285024155"
      ]
     },
     "execution_count": 15,
     "metadata": {},
     "output_type": "execute_result"
    }
   ],
   "source": [
    "# Exploratory classifier on the original training set\n",
    "from sklearn.ensemble import RandomForestClassifier\n",
    "from sklearn.metrics import confusion_matrix, ConfusionMatrixDisplay\n",
    "m = RandomForestClassifier(n_estimators=10, n_jobs=-1)\n",
    "m.fit(X_2012, y_true_2012)\n",
    "m.score(X_2012, y_true_2012)\n",
    "\n",
    "# m.score(X_train_orig, y_train_orig)"
   ]
  },
  {
   "cell_type": "code",
   "execution_count": 16,
   "metadata": {},
   "outputs": [],
   "source": [
    "x_train_2012 = X_2012[:171]\n",
    "y_train_2012 = y_true_2012[:171]\n",
    "x_valid_2012 = X_2012[171:]\n",
    "y_valid_2012 = y_true_2012[171:]\n",
    "\n",
    "x_train_2013 = X_2013[:171]\n",
    "y_train_2013 = y_true_2013[:171]\n",
    "x_valid_2013 = X_2013[171:]\n",
    "y_valid_2013 = y_true_2013[171:]\n",
    "\n",
    "x_train_2014 = X_2014[:171]\n",
    "y_train_2014 = y_true_2014[:171]\n",
    "x_valid_2014 = X_2014[171:]\n",
    "y_valid_2014 = y_true_2014[171:]\n",
    "\n",
    "x_train_2015 = X_2015[:170]\n",
    "y_train_2015 = y_true_2015[:170]\n",
    "x_valid_2015 = X_2015[170:]\n",
    "y_valid_2015 = y_true_2015[170:]\n",
    "\n",
    "x_train_2016 = X_2016[:171]\n",
    "y_train_2016 = y_true_2016[:171]\n",
    "x_valid_2016 = X_2016[171:]\n",
    "y_valid_2016 = y_true_2016[171:]\n",
    "\n",
    "x_train_2017 = X_2017[:171]\n",
    "y_train_2017 = y_true_2017[:171]\n",
    "x_valid_2017 = X_2017[171:]\n",
    "y_valid_2017 = y_true_2017[171:]\n",
    "\n",
    "x_train_2018 = X_2018[:171]\n",
    "y_train_2018 = y_true_2018[:171]\n",
    "x_valid_2018 = X_2018[171:]\n",
    "y_valid_2018 = y_true_2018[171:]\n",
    "\n",
    "x_train_2019 = X_2019[:171]\n",
    "y_train_2019 = y_true_2019[:171]\n",
    "x_valid_2019 = X_2019[171:]\n",
    "y_valid_2019 = y_true_2019[171:]\n",
    "\n",
    "x_train_2020 = X_2020[:127]\n",
    "y_train_2020 = y_true_2020[:127]\n",
    "x_valid_2020 = X_2020[127:]\n",
    "y_valid_2020 = y_true_2020[127:]\n",
    "\n",
    "x_train_2021 = X_2021[:171]\n",
    "y_train_2021 = y_true_2021[:171]\n",
    "x_valid_2021 = X_2021[171:]\n",
    "y_valid_2021 = y_true_2021[171:]"
   ]
  },
  {
   "cell_type": "code",
   "execution_count": 17,
   "metadata": {},
   "outputs": [],
   "source": [
    "def print_score(m, train, y_train, valid, y_valid, test=None):\n",
    "    # if test == None:\n",
    "        print([m.score(train, y_train), m.score(valid, y_valid)])\n",
    "        pred = m.predict(valid)\n",
    "        c_train = confusion_matrix(y_valid, pred)\n",
    "        disp = ConfusionMatrixDisplay(c_train)\n",
    "        return disp\n",
    "        # plt.show()\n",
    "        # ConfusionMatrixDisplay(m, valid, y_valid_2012)\n",
    "        \n",
    "    # else:\n",
    "    #     print(m.score(X_test, y_test))\n",
    "    #     plot_confusion_matrix(m, X_test, y_test)"
   ]
  },
  {
   "cell_type": "code",
   "execution_count": 18,
   "metadata": {},
   "outputs": [
    {
     "name": "stderr",
     "output_type": "stream",
     "text": [
      "c:\\Users\\Craig\\Documents\\Thesis\\venv\\lib\\site-packages\\sklearn\\model_selection\\_split.py:700: UserWarning: The least populated class in y has only 1 members, which is less than n_splits=5.\n",
      "  warnings.warn(\n",
      "c:\\Users\\Craig\\Documents\\Thesis\\venv\\lib\\site-packages\\sklearn\\model_selection\\_split.py:700: UserWarning: The least populated class in y has only 1 members, which is less than n_splits=5.\n",
      "  warnings.warn(\n",
      "c:\\Users\\Craig\\Documents\\Thesis\\venv\\lib\\site-packages\\sklearn\\model_selection\\_split.py:700: UserWarning: The least populated class in y has only 1 members, which is less than n_splits=5.\n",
      "  warnings.warn(\n"
     ]
    },
    {
     "name": "stdout",
     "output_type": "stream",
     "text": [
      "[1.0, 0.5833333333333334]\n",
      "[1.0, 0.6111111111111112]\n",
      "[1.0, 0.5]\n",
      "[1.0, 0.5833333333333334]\n",
      "[1.0, 0.5555555555555556]\n",
      "[1.0, 0.5555555555555556]\n",
      "[1.0, 0.6111111111111112]\n",
      "[1.0, 0.5555555555555556]\n",
      "[1.0, 0.6]\n",
      "{'2012': 0.5607142857142857, '2013': 0.7142857142857142, '2014': 0.6428571428571429, '2015': 0.5499999999999999, '2016': 0.49642857142857133, '2017': 0.6928571428571428, '2018': 0.5285714285714285, '2019': 0.6607142857142858, '2020': 0.5714285714285714}\n"
     ]
    }
   ],
   "source": [
    "from sklearn.tree import DecisionTreeClassifier\n",
    "from sklearn.model_selection import cross_val_score\n",
    "\n",
    "scores = {}\n",
    "def build_dec_tree_scores(X, y, x_valid, y_valid, year):\n",
    "    clf = DecisionTreeClassifier(random_state=26)\n",
    "    scores_raw = clf.fit(X, y)\n",
    "    pred = clf.predict(x_valid)\n",
    "    scores_pred = cross_val_score(clf, x_valid, y_valid)\n",
    "    scores[year] = np.mean(scores_pred)\n",
    "    return print_score(clf, X, y, x_valid, y_valid)\n",
    "\n",
    "n_2012 = build_dec_tree_scores(x_train_2012, y_train_2012, x_valid_2012, y_valid_2012, '2012')\n",
    "n_2013 = build_dec_tree_scores(x_train_2013, y_train_2013, x_valid_2013, y_valid_2013, '2013')\n",
    "n_2014 = build_dec_tree_scores(x_train_2014, y_train_2014, x_valid_2014, y_valid_2014, '2014')\n",
    "n_2015 = build_dec_tree_scores(x_train_2015, y_train_2015, x_valid_2015, y_valid_2015, '2015')\n",
    "n_2016 = build_dec_tree_scores(x_train_2016, y_train_2016, x_valid_2016, y_valid_2016, '2016')\n",
    "n_2017 = build_dec_tree_scores(x_train_2017, y_train_2017, x_valid_2017, y_valid_2017, '2017')\n",
    "n_2018 = build_dec_tree_scores(x_train_2018, y_train_2018, x_valid_2018, y_valid_2018, '2018')\n",
    "n_2019 = build_dec_tree_scores(x_train_2019, y_train_2019, x_valid_2019, y_valid_2019, '2019')\n",
    "n_2020 = build_dec_tree_scores(x_train_2020, y_train_2020, x_valid_2020, y_valid_2020, '2020')\n",
    "\n",
    "print(scores)"
   ]
  },
  {
   "cell_type": "code",
   "execution_count": 19,
   "metadata": {},
   "outputs": [
    {
     "data": {
      "text/plain": [
       "(<sklearn.metrics._plot.confusion_matrix.ConfusionMatrixDisplay at 0x2021b659e50>,\n",
       " <sklearn.metrics._plot.confusion_matrix.ConfusionMatrixDisplay at 0x2021b659d30>,\n",
       " <sklearn.metrics._plot.confusion_matrix.ConfusionMatrixDisplay at 0x2021b6ced60>)"
      ]
     },
     "execution_count": 19,
     "metadata": {},
     "output_type": "execute_result"
    },
    {
     "data": {
      "image/png": "[encoded data removed]",
      "text/plain": [
       "<Figure size 640x480 with 18 Axes>"
      ]
     },
     "metadata": {},
     "output_type": "display_data"
    }
   ],
   "source": [
    "fig, ax = plt.subplots(3,3)\n",
    "\n",
    "n_2012.plot(ax=ax[0][0]), n_2013.plot(ax=ax[0][1]), n_2014.plot(ax=ax[0][2])\n",
    "n_2015.plot(ax=ax[1][0]), n_2016.plot(ax=ax[1][1]), n_2017.plot(ax=ax[1][2])\n",
    "n_2018.plot(ax=ax[2][0]), n_2019.plot(ax=ax[2][1]), n_2020.plot(ax=ax[2][2])"
   ]
  },
  {
   "cell_type": "code",
   "execution_count": 20,
   "metadata": {},
   "outputs": [
    {
     "name": "stdout",
     "output_type": "stream",
     "text": [
      "[1.0, 0.5555555555555556]\n",
      "[1.0, 0.6666666666666666]\n",
      "[1.0, 0.6666666666666666]\n",
      "[1.0, 0.6111111111111112]\n",
      "[1.0, 0.4722222222222222]\n",
      "[1.0, 0.75]\n",
      "[1.0, 0.75]\n",
      "[1.0, 0.6666666666666666]\n",
      "[1.0, 0.6]\n"
     ]
    }
   ],
   "source": [
    "model_1_2012 = RandomForestClassifier(n_estimators=100, n_jobs=-1)\n",
    "model_1_2012.fit(x_train_2012, y_train_2012)\n",
    "m_2012 = print_score(model_1_2012, x_train_2012, y_train_2012, x_valid_2012, y_valid_2012)\n",
    "\n",
    "model_1_2013 = RandomForestClassifier(n_estimators=100, n_jobs=-1)\n",
    "model_1_2013.fit(x_train_2013, y_train_2013)\n",
    "m_2013 = print_score(model_1_2013, x_train_2013, y_train_2013, x_valid_2013, y_valid_2013)\n",
    "\n",
    "model_1_2014 = RandomForestClassifier(n_estimators=100, n_jobs=-1)\n",
    "model_1_2014.fit(x_train_2014, y_train_2014)\n",
    "m_2014 = print_score(model_1_2014, x_train_2014, y_train_2014, x_valid_2014, y_valid_2014)\n",
    "\n",
    "model_1_2015 = RandomForestClassifier(n_estimators=100, n_jobs=-1)\n",
    "model_1_2015.fit(x_train_2015, y_train_2015)\n",
    "m_2015 = print_score(model_1_2015, x_train_2015, y_train_2015, x_valid_2015, y_valid_2015)\n",
    "\n",
    "model_1_2016 = RandomForestClassifier(n_estimators=100, n_jobs=-1)\n",
    "model_1_2016.fit(x_train_2016, y_train_2016)\n",
    "m_2016 = print_score(model_1_2016, x_train_2016, y_train_2016, x_valid_2016, y_valid_2016)\n",
    "\n",
    "model_1_2017 = RandomForestClassifier(n_estimators=100, n_jobs=-1)\n",
    "model_1_2017.fit(x_train_2017, y_train_2017)\n",
    "m_2017 = print_score(model_1_2017, x_train_2017, y_train_2017, x_valid_2017, y_valid_2017)\n",
    "\n",
    "model_1_2018 = RandomForestClassifier(n_estimators=100, n_jobs=-1)\n",
    "model_1_2018.fit(x_train_2018, y_train_2018)\n",
    "m_2018 = print_score(model_1_2018, x_train_2018, y_train_2018, x_valid_2018, y_valid_2018)\n",
    "\n",
    "model_1_2019 = RandomForestClassifier(n_estimators=100, n_jobs=-1)\n",
    "model_1_2019.fit(x_train_2019, y_train_2019)\n",
    "m_2019 = print_score(model_1_2019, x_train_2019, y_train_2019, x_valid_2019, y_valid_2019)\n",
    "\n",
    "model_1_2020 = RandomForestClassifier(n_estimators=100, n_jobs=-1)\n",
    "model_1_2020.fit(x_train_2020, y_train_2020)\n",
    "m_2020 = print_score(model_1_2020, x_train_2020, y_train_2020, x_valid_2020, y_valid_2020)\n",
    "\n"
   ]
  },
  {
   "cell_type": "code",
   "execution_count": 21,
   "metadata": {},
   "outputs": [
    {
     "data": {
      "text/plain": [
       "(<sklearn.metrics._plot.confusion_matrix.ConfusionMatrixDisplay at 0x2022528d850>,\n",
       " <sklearn.metrics._plot.confusion_matrix.ConfusionMatrixDisplay at 0x20222baf7f0>,\n",
       " <sklearn.metrics._plot.confusion_matrix.ConfusionMatrixDisplay at 0x20225202730>)"
      ]
     },
     "execution_count": 21,
     "metadata": {},
     "output_type": "execute_result"
    },
    {
     "data": {
      "image/png": "[encoded data removed]",
      "text/plain": [
       "<Figure size 640x480 with 18 Axes>"
      ]
     },
     "metadata": {},
     "output_type": "display_data"
    }
   ],
   "source": [
    "fig, ax = plt.subplots(3,3)\n",
    "\n",
    "m_2012.plot(ax=ax[0][0]), m_2013.plot(ax=ax[0][1]), m_2014.plot(ax=ax[0][2])\n",
    "m_2015.plot(ax=ax[1][0]), m_2016.plot(ax=ax[1][1]), m_2017.plot(ax=ax[1][2])\n",
    "m_2018.plot(ax=ax[2][0]), m_2019.plot(ax=ax[2][1]), m_2020.plot(ax=ax[2][2])"
   ]
  },
  {
   "cell_type": "code",
   "execution_count": 22,
   "metadata": {},
   "outputs": [
    {
     "name": "stdout",
     "output_type": "stream",
     "text": [
      "Fitting 4 folds for each of 100 candidates, totalling 400 fits\n",
      "[1.0, 0.5555555555555556]\n",
      "Fitting 4 folds for each of 100 candidates, totalling 400 fits\n"
     ]
    },
    {
     "name": "stderr",
     "output_type": "stream",
     "text": [
      "c:\\Users\\Craig\\Documents\\Thesis\\venv\\lib\\site-packages\\sklearn\\model_selection\\_split.py:700: UserWarning: The least populated class in y has only 1 members, which is less than n_splits=4.\n",
      "  warnings.warn(\n"
     ]
    },
    {
     "name": "stdout",
     "output_type": "stream",
     "text": [
      "[1.0, 0.6666666666666666]\n",
      "Fitting 4 folds for each of 100 candidates, totalling 400 fits\n",
      "[1.0, 0.6666666666666666]\n",
      "Fitting 4 folds for each of 100 candidates, totalling 400 fits\n"
     ]
    },
    {
     "name": "stderr",
     "output_type": "stream",
     "text": [
      "c:\\Users\\Craig\\Documents\\Thesis\\venv\\lib\\site-packages\\sklearn\\model_selection\\_split.py:700: UserWarning: The least populated class in y has only 1 members, which is less than n_splits=4.\n",
      "  warnings.warn(\n"
     ]
    },
    {
     "name": "stdout",
     "output_type": "stream",
     "text": [
      "[1.0, 0.6111111111111112]\n",
      "Fitting 4 folds for each of 100 candidates, totalling 400 fits\n",
      "[1.0, 0.4722222222222222]\n",
      "Fitting 4 folds for each of 100 candidates, totalling 400 fits\n"
     ]
    },
    {
     "name": "stderr",
     "output_type": "stream",
     "text": [
      "c:\\Users\\Craig\\Documents\\Thesis\\venv\\lib\\site-packages\\sklearn\\model_selection\\_split.py:700: UserWarning: The least populated class in y has only 3 members, which is less than n_splits=4.\n",
      "  warnings.warn(\n"
     ]
    },
    {
     "name": "stdout",
     "output_type": "stream",
     "text": [
      "[1.0, 0.75]\n",
      "Fitting 4 folds for each of 100 candidates, totalling 400 fits\n"
     ]
    },
    {
     "name": "stderr",
     "output_type": "stream",
     "text": [
      "c:\\Users\\Craig\\Documents\\Thesis\\venv\\lib\\site-packages\\sklearn\\model_selection\\_split.py:700: UserWarning: The least populated class in y has only 1 members, which is less than n_splits=4.\n",
      "  warnings.warn(\n"
     ]
    },
    {
     "name": "stdout",
     "output_type": "stream",
     "text": [
      "[1.0, 0.75]\n",
      "Fitting 4 folds for each of 100 candidates, totalling 400 fits\n",
      "[1.0, 0.6666666666666666]\n",
      "Fitting 4 folds for each of 100 candidates, totalling 400 fits\n"
     ]
    },
    {
     "name": "stderr",
     "output_type": "stream",
     "text": [
      "c:\\Users\\Craig\\Documents\\Thesis\\venv\\lib\\site-packages\\sklearn\\model_selection\\_split.py:700: UserWarning: The least populated class in y has only 2 members, which is less than n_splits=4.\n",
      "  warnings.warn(\n"
     ]
    },
    {
     "name": "stdout",
     "output_type": "stream",
     "text": [
      "[1.0, 0.6]\n"
     ]
    }
   ],
   "source": [
    "from sklearn.model_selection import RandomizedSearchCV\n",
    "grid={\n",
    "    'criterion':        ['entropy','gini'],\n",
    "    'min_samples_split':[3, 5, 7, 9, 10],\n",
    "    'min_samples_leaf': [8, 9, 10, 11, 12],\n",
    "    'max_features':     [0.5, \"sqrt\", \"log2\", 0.8],\n",
    "    'n_estimators':     [10, 20, 40],\n",
    "}\n",
    "\n",
    "model_2 = RandomizedSearchCV(estimator=RandomForestClassifier(),\n",
    "                       param_distributions=grid,\n",
    "                       n_iter=100,\n",
    "                       cv=4,\n",
    "                       verbose=1,\n",
    "                       n_jobs=-1,\n",
    "                       random_state=42)\n",
    "\n",
    "model_2.fit(x_train_2012, y_train_2012)\n",
    "m2_2012 = print_score(model_1_2012, x_train_2012, y_train_2012, x_valid_2012, y_valid_2012)\n",
    "model_2.fit(x_train_2013, y_train_2013)\n",
    "m2_2013 = print_score(model_1_2013, x_train_2013, y_train_2013, x_valid_2013, y_valid_2013)\n",
    "model_2.fit(x_train_2014, y_train_2014)\n",
    "m2_2014 = print_score(model_1_2014, x_train_2014, y_train_2014, x_valid_2014, y_valid_2014)\n",
    "model_2.fit(x_train_2015, y_train_2015)\n",
    "m2_2015 = print_score(model_1_2015, x_train_2015, y_train_2015, x_valid_2015, y_valid_2015)\n",
    "model_2.fit(x_train_2016, y_train_2016)\n",
    "m2_2016 = print_score(model_1_2016, x_train_2016, y_train_2016, x_valid_2016, y_valid_2016)\n",
    "model_2.fit(x_train_2017, y_train_2017)\n",
    "m2_2017 = print_score(model_1_2017, x_train_2017, y_train_2017, x_valid_2017, y_valid_2017)\n",
    "model_2.fit(x_train_2018, y_train_2018)\n",
    "m2_2018 = print_score(model_1_2018, x_train_2018, y_train_2018, x_valid_2018, y_valid_2018)\n",
    "model_2.fit(x_train_2019, y_train_2019)\n",
    "m2_2019 = print_score(model_1_2019, x_train_2019, y_train_2019, x_valid_2019, y_valid_2019)\n",
    "model_2.fit(x_train_2020, y_train_2020)\n",
    "m2_2020 = print_score(model_1_2020, x_train_2020, y_train_2020, x_valid_2020, y_valid_2020)\n"
   ]
  },
  {
   "cell_type": "code",
   "execution_count": 58,
   "metadata": {},
   "outputs": [
    {
     "name": "stdout",
     "output_type": "stream",
     "text": [
      "CPU times: total: 46.9 ms\n",
      "Wall time: 38 ms\n",
      "[0.8128654970760234, 0.6666666666666666]\n"
     ]
    }
   ],
   "source": [
    "model_2.best_estimator_\n",
    "\n",
    "bag_model_2012 = model_2.best_estimator_\n",
    "%time bag_model_2012.fit(x_train_2012, y_train_2012)\n",
    "m2_2012 = print_score(bag_model_2012, x_train_2012, y_train_2012, x_valid_2012, y_valid_2012)\n",
    "\n",
    "bag_model_2012 = model_2.best_estimator_\n",
    "%time bag_model_2012.fit(x_train_2012, y_train_2012)\n",
    "m2_2012 = print_score(bag_model_2012, x_train_2012, y_train_2012, x_valid_2012, y_valid_2012)\n"
   ]
  },
  {
   "cell_type": "code",
   "execution_count": 168,
   "metadata": {},
   "outputs": [
    {
     "ename": "ValueError",
     "evalue": "X has 45 features, but DecisionTreeClassifier is expecting 15 features as input.",
     "output_type": "error",
     "traceback": [
      "\u001b[1;31m---------------------------------------------------------------------------\u001b[0m",
      "\u001b[1;31mValueError\u001b[0m                                Traceback (most recent call last)",
      "Cell \u001b[1;32mIn[168], line 3\u001b[0m\n\u001b[0;32m      1\u001b[0m \u001b[39mfrom\u001b[39;00m \u001b[39msklearn\u001b[39;00m \u001b[39mimport\u001b[39;00m metrics\n\u001b[0;32m      2\u001b[0m \u001b[39mimport\u001b[39;00m \u001b[39mmatplotlib\u001b[39;00m\u001b[39m.\u001b[39;00m\u001b[39mpyplot\u001b[39;00m \u001b[39mas\u001b[39;00m \u001b[39mplt\u001b[39;00m\n\u001b[1;32m----> 3\u001b[0m preds \u001b[39m=\u001b[39m np\u001b[39m.\u001b[39mstack([tree\u001b[39m.\u001b[39mpredict(x_valid_2012\u001b[39m.\u001b[39mvalues) \u001b[39mfor\u001b[39;00m tree \u001b[39min\u001b[39;00m bag_model_2012\u001b[39m.\u001b[39mestimators_])\n\u001b[0;32m      4\u001b[0m np\u001b[39m.\u001b[39mmean(preds)\n\u001b[0;32m      5\u001b[0m \u001b[39m# fpr, tpr, thresholds = metrics.roc_curve(y_valid_2012, np.mean(preds[:i+1], pos_label = 1))\u001b[39;00m\n\u001b[0;32m      6\u001b[0m \n\u001b[0;32m      7\u001b[0m \u001b[39m# plt.plot([metrics.roc_auc_score(y_valid_2012, np.mean(preds[:i+1], axis=0)) for i in range(20)])\u001b[39;00m\n",
      "Cell \u001b[1;32mIn[168], line 3\u001b[0m, in \u001b[0;36m<listcomp>\u001b[1;34m(.0)\u001b[0m\n\u001b[0;32m      1\u001b[0m \u001b[39mfrom\u001b[39;00m \u001b[39msklearn\u001b[39;00m \u001b[39mimport\u001b[39;00m metrics\n\u001b[0;32m      2\u001b[0m \u001b[39mimport\u001b[39;00m \u001b[39mmatplotlib\u001b[39;00m\u001b[39m.\u001b[39;00m\u001b[39mpyplot\u001b[39;00m \u001b[39mas\u001b[39;00m \u001b[39mplt\u001b[39;00m\n\u001b[1;32m----> 3\u001b[0m preds \u001b[39m=\u001b[39m np\u001b[39m.\u001b[39mstack([tree\u001b[39m.\u001b[39;49mpredict(x_valid_2012\u001b[39m.\u001b[39;49mvalues) \u001b[39mfor\u001b[39;00m tree \u001b[39min\u001b[39;00m bag_model_2012\u001b[39m.\u001b[39mestimators_])\n\u001b[0;32m      4\u001b[0m np\u001b[39m.\u001b[39mmean(preds)\n\u001b[0;32m      5\u001b[0m \u001b[39m# fpr, tpr, thresholds = metrics.roc_curve(y_valid_2012, np.mean(preds[:i+1], pos_label = 1))\u001b[39;00m\n\u001b[0;32m      6\u001b[0m \n\u001b[0;32m      7\u001b[0m \u001b[39m# plt.plot([metrics.roc_auc_score(y_valid_2012, np.mean(preds[:i+1], axis=0)) for i in range(20)])\u001b[39;00m\n",
      "File \u001b[1;32mc:\\Users\\Craig\\Documents\\Thesis\\venv\\lib\\site-packages\\sklearn\\tree\\_classes.py:426\u001b[0m, in \u001b[0;36mBaseDecisionTree.predict\u001b[1;34m(self, X, check_input)\u001b[0m\n\u001b[0;32m    403\u001b[0m \u001b[39m\u001b[39m\u001b[39m\"\"\"Predict class or regression value for X.\u001b[39;00m\n\u001b[0;32m    404\u001b[0m \n\u001b[0;32m    405\u001b[0m \u001b[39mFor a classification model, the predicted class for each sample in X is\u001b[39;00m\n\u001b[1;32m   (...)\u001b[0m\n\u001b[0;32m    423\u001b[0m \u001b[39m    The predicted classes, or the predict values.\u001b[39;00m\n\u001b[0;32m    424\u001b[0m \u001b[39m\"\"\"\u001b[39;00m\n\u001b[0;32m    425\u001b[0m check_is_fitted(\u001b[39mself\u001b[39m)\n\u001b[1;32m--> 426\u001b[0m X \u001b[39m=\u001b[39m \u001b[39mself\u001b[39;49m\u001b[39m.\u001b[39;49m_validate_X_predict(X, check_input)\n\u001b[0;32m    427\u001b[0m proba \u001b[39m=\u001b[39m \u001b[39mself\u001b[39m\u001b[39m.\u001b[39mtree_\u001b[39m.\u001b[39mpredict(X)\n\u001b[0;32m    428\u001b[0m n_samples \u001b[39m=\u001b[39m X\u001b[39m.\u001b[39mshape[\u001b[39m0\u001b[39m]\n",
      "File \u001b[1;32mc:\\Users\\Craig\\Documents\\Thesis\\venv\\lib\\site-packages\\sklearn\\tree\\_classes.py:392\u001b[0m, in \u001b[0;36mBaseDecisionTree._validate_X_predict\u001b[1;34m(self, X, check_input)\u001b[0m\n\u001b[0;32m    390\u001b[0m \u001b[39m\u001b[39m\u001b[39m\"\"\"Validate the training data on predict (probabilities).\"\"\"\u001b[39;00m\n\u001b[0;32m    391\u001b[0m \u001b[39mif\u001b[39;00m check_input:\n\u001b[1;32m--> 392\u001b[0m     X \u001b[39m=\u001b[39m \u001b[39mself\u001b[39;49m\u001b[39m.\u001b[39;49m_validate_data(X, dtype\u001b[39m=\u001b[39;49mDTYPE, accept_sparse\u001b[39m=\u001b[39;49m\u001b[39m\"\u001b[39;49m\u001b[39mcsr\u001b[39;49m\u001b[39m\"\u001b[39;49m, reset\u001b[39m=\u001b[39;49m\u001b[39mFalse\u001b[39;49;00m)\n\u001b[0;32m    393\u001b[0m     \u001b[39mif\u001b[39;00m issparse(X) \u001b[39mand\u001b[39;00m (\n\u001b[0;32m    394\u001b[0m         X\u001b[39m.\u001b[39mindices\u001b[39m.\u001b[39mdtype \u001b[39m!=\u001b[39m np\u001b[39m.\u001b[39mintc \u001b[39mor\u001b[39;00m X\u001b[39m.\u001b[39mindptr\u001b[39m.\u001b[39mdtype \u001b[39m!=\u001b[39m np\u001b[39m.\u001b[39mintc\n\u001b[0;32m    395\u001b[0m     ):\n\u001b[0;32m    396\u001b[0m         \u001b[39mraise\u001b[39;00m \u001b[39mValueError\u001b[39;00m(\u001b[39m\"\u001b[39m\u001b[39mNo support for np.int64 index based sparse matrices\u001b[39m\u001b[39m\"\u001b[39m)\n",
      "File \u001b[1;32mc:\\Users\\Craig\\Documents\\Thesis\\venv\\lib\\site-packages\\sklearn\\base.py:569\u001b[0m, in \u001b[0;36mBaseEstimator._validate_data\u001b[1;34m(self, X, y, reset, validate_separately, **check_params)\u001b[0m\n\u001b[0;32m    566\u001b[0m     out \u001b[39m=\u001b[39m X, y\n\u001b[0;32m    568\u001b[0m \u001b[39mif\u001b[39;00m \u001b[39mnot\u001b[39;00m no_val_X \u001b[39mand\u001b[39;00m check_params\u001b[39m.\u001b[39mget(\u001b[39m\"\u001b[39m\u001b[39mensure_2d\u001b[39m\u001b[39m\"\u001b[39m, \u001b[39mTrue\u001b[39;00m):\n\u001b[1;32m--> 569\u001b[0m     \u001b[39mself\u001b[39;49m\u001b[39m.\u001b[39;49m_check_n_features(X, reset\u001b[39m=\u001b[39;49mreset)\n\u001b[0;32m    571\u001b[0m \u001b[39mreturn\u001b[39;00m out\n",
      "File \u001b[1;32mc:\\Users\\Craig\\Documents\\Thesis\\venv\\lib\\site-packages\\sklearn\\base.py:370\u001b[0m, in \u001b[0;36mBaseEstimator._check_n_features\u001b[1;34m(self, X, reset)\u001b[0m\n\u001b[0;32m    367\u001b[0m     \u001b[39mreturn\u001b[39;00m\n\u001b[0;32m    369\u001b[0m \u001b[39mif\u001b[39;00m n_features \u001b[39m!=\u001b[39m \u001b[39mself\u001b[39m\u001b[39m.\u001b[39mn_features_in_:\n\u001b[1;32m--> 370\u001b[0m     \u001b[39mraise\u001b[39;00m \u001b[39mValueError\u001b[39;00m(\n\u001b[0;32m    371\u001b[0m         \u001b[39mf\u001b[39m\u001b[39m\"\u001b[39m\u001b[39mX has \u001b[39m\u001b[39m{\u001b[39;00mn_features\u001b[39m}\u001b[39;00m\u001b[39m features, but \u001b[39m\u001b[39m{\u001b[39;00m\u001b[39mself\u001b[39m\u001b[39m.\u001b[39m\u001b[39m__class__\u001b[39m\u001b[39m.\u001b[39m\u001b[39m__name__\u001b[39m\u001b[39m}\u001b[39;00m\u001b[39m \u001b[39m\u001b[39m\"\u001b[39m\n\u001b[0;32m    372\u001b[0m         \u001b[39mf\u001b[39m\u001b[39m\"\u001b[39m\u001b[39mis expecting \u001b[39m\u001b[39m{\u001b[39;00m\u001b[39mself\u001b[39m\u001b[39m.\u001b[39mn_features_in_\u001b[39m}\u001b[39;00m\u001b[39m features as input.\u001b[39m\u001b[39m\"\u001b[39m\n\u001b[0;32m    373\u001b[0m     )\n",
      "\u001b[1;31mValueError\u001b[0m: X has 45 features, but DecisionTreeClassifier is expecting 15 features as input."
     ]
    }
   ],
   "source": [
    "# from sklearn import metrics\n",
    "# import matplotlib.pyplot as plt\n",
    "# preds = np.stack([tree.predict(x_valid_2012.values) for tree in bag_model_2012.estimators_])\n",
    "# np.mean(preds)\n",
    "# fpr, tpr, thresholds = metrics.roc_curve(y_valid_2012, np.mean(preds[:i+1], pos_label = 1))\n",
    "\n",
    "# plt.plot([metrics.roc_auc_score(y_valid_2012, np.mean(preds[:i+1], axis=0)) for i in range(20)])"
   ]
  },
  {
   "cell_type": "code",
   "execution_count": 23,
   "metadata": {},
   "outputs": [
    {
     "data": {
      "text/plain": [
       "array([[ 8. , 15. ,  0. , ...,  0. ,  0. ,  0. ],\n",
       "       [13. ,  2. ,  0. , ...,  0. ,  0. ,  0. ],\n",
       "       [ 9. ,  3. ,  0. , ...,  0. ,  0. ,  0. ],\n",
       "       ...,\n",
       "       [ 9. , 12. ,  0.2, ...,  0. ,  0. ,  1. ],\n",
       "       [13. , 17. ,  0.6, ...,  0. ,  0. ,  0. ],\n",
       "       [ 4. , 11. ,  0.6, ...,  0. ,  0. ,  0. ]])"
      ]
     },
     "execution_count": 23,
     "metadata": {},
     "output_type": "execute_result"
    }
   ],
   "source": [
    "a_2012_ohe = np.hstack([x_train_2012])\n",
    "a_valid = np.hstack([x_valid_2012])\n",
    "\n",
    "a_2012_ohe"
   ]
  },
  {
   "cell_type": "code",
   "execution_count": 24,
   "metadata": {},
   "outputs": [
    {
     "name": "stdout",
     "output_type": "stream",
     "text": [
      "CPU times: total: 46.9 ms\n",
      "Wall time: 40 ms\n",
      "[0.8771929824561403, 0.6111111111111112]\n"
     ]
    }
   ],
   "source": [
    "model_2.best_estimator_\n",
    "s_model = model_2.best_estimator_\n",
    "%time s_model.fit(x_train_2012, y_train_2012)\n",
    "\n",
    "m2_2012 = print_score(s_model, x_train_2012, y_train_2012, x_valid_2012, y_valid_2012)"
   ]
  },
  {
   "cell_type": "code",
   "execution_count": 25,
   "metadata": {},
   "outputs": [],
   "source": [
    "\n",
    "import seaborn as sns\n",
    "y_proba_2012 = model_2.predict_proba(x_valid_2012)\n",
    "y_proba_2013 = model_2.predict_proba(x_valid_2013)\n",
    "y_proba_2014 = model_2.predict_proba(x_valid_2014)\n",
    "y_proba_2015 = model_2.predict_proba(x_valid_2015)\n",
    "y_proba_2016 = model_2.predict_proba(x_valid_2016)\n",
    "y_proba_2017 = model_2.predict_proba(x_valid_2017)\n",
    "y_proba_2018 = model_2.predict_proba(x_valid_2018)\n",
    "y_proba_2019 = model_2.predict_proba(x_valid_2019)\n",
    "y_proba_2020 = model_2.predict_proba(x_valid_2020)"
   ]
  },
  {
   "cell_type": "code",
   "execution_count": 26,
   "metadata": {},
   "outputs": [],
   "source": [
    "from treeinterpreter import treeinterpreter as ti"
   ]
  },
  {
   "cell_type": "code",
   "execution_count": 27,
   "metadata": {},
   "outputs": [],
   "source": [
    "# fastai\n",
    "def rf_feat_importance(m, df):\n",
    "    return pd.DataFrame({'cols':df.columns, 'imp':m.feature_importances_}\n",
    "                       ).sort_values('imp', ascending=False)"
   ]
  },
  {
   "cell_type": "code",
   "execution_count": 28,
   "metadata": {},
   "outputs": [
    {
     "data": {
      "text/plain": [
       "array([0.        , 0.00715262, 0.01520008, 0.        , 0.        ,\n",
       "       0.        , 0.        , 0.00697443, 0.00407792, 0.02880878,\n",
       "       0.013107  , 0.01688634, 0.        , 0.00149571, 0.03970253,\n",
       "       0.05441991, 0.04199201, 0.26103506, 0.11668572, 0.00718246,\n",
       "       0.07237401, 0.00928925, 0.00157429, 0.04873437, 0.02758403,\n",
       "       0.01604744, 0.09492307, 0.05325167, 0.06150129, 0.        ,\n",
       "       0.        , 0.        , 0.        , 0.        , 0.        ,\n",
       "       0.        , 0.        , 0.        , 0.        , 0.        ,\n",
       "       0.        , 0.        , 0.        , 0.        , 0.        ,\n",
       "       0.        , 0.        , 0.        , 0.        , 0.        ,\n",
       "       0.        , 0.        ])"
      ]
     },
     "execution_count": 28,
     "metadata": {},
     "output_type": "execute_result"
    }
   ],
   "source": [
    "s_model.feature_importances_"
   ]
  },
  {
   "cell_type": "code",
   "execution_count": 29,
   "metadata": {},
   "outputs": [
    {
     "data": {
      "text/plain": [
       "<Axes: xlabel='cols'>"
      ]
     },
     "execution_count": 29,
     "metadata": {},
     "output_type": "execute_result"
    },
    {
     "data": {
      "image/png": "[encoded data removed]",
      "text/plain": [
       "<Figure size 1000x600 with 1 Axes>"
      ]
     },
     "metadata": {},
     "output_type": "display_data"
    }
   ],
   "source": [
    "fi = rf_feat_importance(s_model , x_valid_2012)\n",
    "fi.plot('cols', 'imp', 'bar', figsize=(10,6))"
   ]
  },
  {
   "cell_type": "code",
   "execution_count": 30,
   "metadata": {},
   "outputs": [
    {
     "data": {
      "text/html": [
       "<div>\n",
       "<style scoped>\n",
       "    .dataframe tbody tr th:only-of-type {\n",
       "        vertical-align: middle;\n",
       "    }\n",
       "\n",
       "    .dataframe tbody tr th {\n",
       "        vertical-align: top;\n",
       "    }\n",
       "\n",
       "    .dataframe thead th {\n",
       "        text-align: right;\n",
       "    }\n",
       "</style>\n",
       "<table border=\"1\" class=\"dataframe\">\n",
       "  <thead>\n",
       "    <tr style=\"text-align: right;\">\n",
       "      <th></th>\n",
       "      <th>cols</th>\n",
       "      <th>imp</th>\n",
       "    </tr>\n",
       "  </thead>\n",
       "  <tbody>\n",
       "    <tr>\n",
       "      <th>17</th>\n",
       "      <td>homeTeamImportanceSeasonAverage</td>\n",
       "      <td>0.261035</td>\n",
       "    </tr>\n",
       "    <tr>\n",
       "      <th>18</th>\n",
       "      <td>awayTeamImportanceSeasonAverage</td>\n",
       "      <td>0.116686</td>\n",
       "    </tr>\n",
       "    <tr>\n",
       "      <th>26</th>\n",
       "      <td>awayTeamPercentage</td>\n",
       "      <td>0.094923</td>\n",
       "    </tr>\n",
       "    <tr>\n",
       "      <th>20</th>\n",
       "      <td>awayLadderPosition</td>\n",
       "      <td>0.072374</td>\n",
       "    </tr>\n",
       "    <tr>\n",
       "      <th>28</th>\n",
       "      <td>awayCurrentLadderPosition</td>\n",
       "      <td>0.061501</td>\n",
       "    </tr>\n",
       "    <tr>\n",
       "      <th>15</th>\n",
       "      <td>homeTeamImportanceLastFiveGames</td>\n",
       "      <td>0.054420</td>\n",
       "    </tr>\n",
       "    <tr>\n",
       "      <th>27</th>\n",
       "      <td>homeCurrentLadderPosition</td>\n",
       "      <td>0.053252</td>\n",
       "    </tr>\n",
       "    <tr>\n",
       "      <th>23</th>\n",
       "      <td>homeTeamPercentage</td>\n",
       "      <td>0.048734</td>\n",
       "    </tr>\n",
       "    <tr>\n",
       "      <th>16</th>\n",
       "      <td>awayTeamImportanceLastFiveGames</td>\n",
       "      <td>0.041992</td>\n",
       "    </tr>\n",
       "    <tr>\n",
       "      <th>14</th>\n",
       "      <td>awayTeamImportanceLastGame</td>\n",
       "      <td>0.039703</td>\n",
       "    </tr>\n",
       "    <tr>\n",
       "      <th>9</th>\n",
       "      <td>homeGameDifference</td>\n",
       "      <td>0.028809</td>\n",
       "    </tr>\n",
       "    <tr>\n",
       "      <th>24</th>\n",
       "      <td>awayTeamPointsFor</td>\n",
       "      <td>0.027584</td>\n",
       "    </tr>\n",
       "    <tr>\n",
       "      <th>11</th>\n",
       "      <td>homeTeamImportanceDifference</td>\n",
       "      <td>0.016886</td>\n",
       "    </tr>\n",
       "    <tr>\n",
       "      <th>25</th>\n",
       "      <td>awayTeamPointsAgainst</td>\n",
       "      <td>0.016047</td>\n",
       "    </tr>\n",
       "    <tr>\n",
       "      <th>2</th>\n",
       "      <td>rainfall</td>\n",
       "      <td>0.015200</td>\n",
       "    </tr>\n",
       "  </tbody>\n",
       "</table>\n",
       "</div>"
      ],
      "text/plain": [
       "                               cols       imp\n",
       "17  homeTeamImportanceSeasonAverage  0.261035\n",
       "18  awayTeamImportanceSeasonAverage  0.116686\n",
       "26               awayTeamPercentage  0.094923\n",
       "20               awayLadderPosition  0.072374\n",
       "28        awayCurrentLadderPosition  0.061501\n",
       "15  homeTeamImportanceLastFiveGames  0.054420\n",
       "27        homeCurrentLadderPosition  0.053252\n",
       "23               homeTeamPercentage  0.048734\n",
       "16  awayTeamImportanceLastFiveGames  0.041992\n",
       "14       awayTeamImportanceLastGame  0.039703\n",
       "9                homeGameDifference  0.028809\n",
       "24                awayTeamPointsFor  0.027584\n",
       "11     homeTeamImportanceDifference  0.016886\n",
       "25            awayTeamPointsAgainst  0.016047\n",
       "2                          rainfall  0.015200"
      ]
     },
     "execution_count": 30,
     "metadata": {},
     "output_type": "execute_result"
    }
   ],
   "source": [
    "fi[:15]"
   ]
  },
  {
   "cell_type": "code",
   "execution_count": 31,
   "metadata": {},
   "outputs": [],
   "source": [
    "f = fi[:15].cols\n",
    "cut_train_2012 = x_train_2012[f]\n",
    "cut_valid_2012 = x_valid_2012[f]"
   ]
  },
  {
   "cell_type": "code",
   "execution_count": 38,
   "metadata": {},
   "outputs": [
    {
     "name": "stdout",
     "output_type": "stream",
     "text": [
      "CPU times: total: 31.2 ms\n",
      "Wall time: 29 ms\n",
      "[0.8304093567251462, 0.6944444444444444]\n"
     ]
    },
    {
     "data": {
      "text/plain": [
       "<sklearn.metrics._plot.confusion_matrix.ConfusionMatrixDisplay at 0x20225c1c6d0>"
      ]
     },
     "execution_count": 38,
     "metadata": {},
     "output_type": "execute_result"
    }
   ],
   "source": [
    "model_3 = model_2.best_estimator_\n",
    "%time model_3.fit(cut_train_2012, y_train_2012)\n",
    "print_score(model_3, cut_train_2012, y_train_2012, cut_valid_2012, y_valid_2012)"
   ]
  },
  {
   "cell_type": "code",
   "execution_count": 39,
   "metadata": {},
   "outputs": [
    {
     "data": {
      "text/plain": [
       "<Axes: xlabel='cols'>"
      ]
     },
     "execution_count": 39,
     "metadata": {},
     "output_type": "execute_result"
    },
    {
     "data": {
      "image/png": "[encoded data removed]",
      "text/plain": [
       "<Figure size 1000x600 with 1 Axes>"
      ]
     },
     "metadata": {},
     "output_type": "display_data"
    }
   ],
   "source": [
    "fi2 = rf_feat_importance(model_3 , cut_train_2012)\n",
    "fi2.plot('cols', 'imp', 'bar', figsize=(10,6))"
   ]
  },
  {
   "cell_type": "code",
   "execution_count": 40,
   "metadata": {},
   "outputs": [
    {
     "data": {
      "text/plain": [
       "(                               cols       imp\n",
       " 7                homeTeamPercentage  0.220690\n",
       " 3                awayLadderPosition  0.152358\n",
       " 0   homeTeamImportanceSeasonAverage  0.117419\n",
       " 1   awayTeamImportanceSeasonAverage  0.100725\n",
       " 9        awayTeamImportanceLastGame  0.074808\n",
       " 4         awayCurrentLadderPosition  0.062637\n",
       " 5   homeTeamImportanceLastFiveGames  0.059323\n",
       " 6         homeCurrentLadderPosition  0.053483\n",
       " 2                awayTeamPercentage  0.050920\n",
       " 14                         rainfall  0.032757\n",
       " 8   awayTeamImportanceLastFiveGames  0.024237\n",
       " 12     homeTeamImportanceDifference  0.018486\n",
       " 13            awayTeamPointsAgainst  0.015046\n",
       " 11                awayTeamPointsFor  0.011970\n",
       " 10               homeGameDifference  0.005140,\n",
       "                                cols       imp\n",
       " 17  homeTeamImportanceSeasonAverage  0.261035\n",
       " 18  awayTeamImportanceSeasonAverage  0.116686\n",
       " 26               awayTeamPercentage  0.094923\n",
       " 20               awayLadderPosition  0.072374\n",
       " 28        awayCurrentLadderPosition  0.061501\n",
       " 15  homeTeamImportanceLastFiveGames  0.054420\n",
       " 27        homeCurrentLadderPosition  0.053252\n",
       " 23               homeTeamPercentage  0.048734\n",
       " 16  awayTeamImportanceLastFiveGames  0.041992\n",
       " 14       awayTeamImportanceLastGame  0.039703\n",
       " 9                homeGameDifference  0.028809\n",
       " 24                awayTeamPointsFor  0.027584\n",
       " 11     homeTeamImportanceDifference  0.016886\n",
       " 25            awayTeamPointsAgainst  0.016047\n",
       " 2                          rainfall  0.015200)"
      ]
     },
     "execution_count": 40,
     "metadata": {},
     "output_type": "execute_result"
    }
   ],
   "source": [
    "fi2, fi[:15]"
   ]
  },
  {
   "cell_type": "code",
   "execution_count": 41,
   "metadata": {},
   "outputs": [
    {
     "data": {
      "text/plain": [
       "array([[ 6.00000000e+00,  1.40000000e+01,  4.00000000e+00,\n",
       "         0.00000000e+00,  1.00000000e+00,  0.00000000e+00,\n",
       "         1.00000000e+00,  5.00000000e+00,  3.00000000e+00,\n",
       "        -6.54000000e+02, -1.22000000e+02, -3.10578030e+01,\n",
       "        -1.23063131e+01,  7.05454546e+01,  7.87954546e+01,\n",
       "         7.67534091e+01,  7.46018939e+01,  7.70385872e+01,\n",
       "         7.49225895e+01,  2.00000000e+00,  6.00000000e+00,\n",
       "         1.99000000e+03,  1.73500000e+03,  1.14697406e+02,\n",
       "         2.07800000e+03,  1.77700000e+03,  1.16938661e+02,\n",
       "         7.00000000e+00,  1.00000000e+01,  0.00000000e+00,\n",
       "         0.00000000e+00,  0.00000000e+00,  0.00000000e+00,\n",
       "         0.00000000e+00,  1.00000000e+00,  0.00000000e+00,\n",
       "         0.00000000e+00,  0.00000000e+00,  0.00000000e+00,\n",
       "         0.00000000e+00,  0.00000000e+00,  0.00000000e+00,\n",
       "         0.00000000e+00,  0.00000000e+00,  0.00000000e+00,\n",
       "         0.00000000e+00,  0.00000000e+00,  0.00000000e+00,\n",
       "         0.00000000e+00,  0.00000000e+00,  0.00000000e+00,\n",
       "         0.00000000e+00]])"
      ]
     },
     "execution_count": 41,
     "metadata": {},
     "output_type": "execute_result"
    }
   ],
   "source": [
    "row = x_valid_2012.values[None,0]\n",
    "row"
   ]
  },
  {
   "cell_type": "code",
   "execution_count": 42,
   "metadata": {},
   "outputs": [
    {
     "data": {
      "text/plain": [
       "(0.09999999999999999, 0.45362318840579713)"
      ]
     },
     "execution_count": 42,
     "metadata": {},
     "output_type": "execute_result"
    }
   ],
   "source": [
    "prediction, bias, contributions = ti.predict(m, row)\n",
    "prediction[0][0], bias[0][0]"
   ]
  },
  {
   "cell_type": "code",
   "execution_count": 43,
   "metadata": {},
   "outputs": [
    {
     "data": {
      "text/plain": [
       "array([[[-2.45176605e-02, -9.38172370e-04,  2.54558328e-02],\n",
       "        [-1.87628752e-02,  0.00000000e+00,  1.87628752e-02],\n",
       "        [-2.83625731e-02,  0.00000000e+00,  2.83625731e-02],\n",
       "        [ 0.00000000e+00,  0.00000000e+00,  0.00000000e+00],\n",
       "        [ 0.00000000e+00,  0.00000000e+00,  0.00000000e+00],\n",
       "        [-6.66666667e-02,  0.00000000e+00,  6.66666667e-02],\n",
       "        [ 0.00000000e+00,  0.00000000e+00,  0.00000000e+00],\n",
       "        [ 0.00000000e+00,  0.00000000e+00,  0.00000000e+00],\n",
       "        [ 5.55555556e-03,  0.00000000e+00, -5.55555556e-03],\n",
       "        [-4.73684211e-03,  0.00000000e+00,  4.73684211e-03],\n",
       "        [-8.18277618e-03,  3.42973674e-04,  7.83980251e-03],\n",
       "        [-5.94557309e-02,  3.81096653e-04,  5.90746343e-02],\n",
       "        [ 0.00000000e+00,  0.00000000e+00,  0.00000000e+00],\n",
       "        [-8.27838828e-03,  0.00000000e+00,  8.27838828e-03],\n",
       "        [-2.71639730e-02,  0.00000000e+00,  2.71639730e-02],\n",
       "        [-1.84965498e-02,  5.00384345e-04,  1.79961654e-02],\n",
       "        [ 2.22955357e-02, -7.15107535e-04, -2.15804282e-02],\n",
       "        [-7.27078146e-02,  2.73597811e-05,  7.26804548e-02],\n",
       "        [-2.97671394e-02,  4.58221024e-04,  2.93089184e-02],\n",
       "        [-7.50000000e-02, -4.54545455e-03,  7.95454545e-02],\n",
       "        [ 5.68446331e-02, -1.55884481e-03, -5.52857883e-02],\n",
       "        [-2.25790297e-02,  2.67308206e-05,  2.25522988e-02],\n",
       "        [ 1.47368421e-02,  0.00000000e+00, -1.47368421e-02],\n",
       "        [-5.72049721e-02,  4.32417824e-04,  5.67725543e-02],\n",
       "        [-7.10371323e-03,  0.00000000e+00,  7.10371323e-03],\n",
       "        [ 4.09024883e-03,  1.01048377e-04, -4.19129721e-03],\n",
       "        [ 1.87434398e-03,  0.00000000e+00, -1.87434398e-03],\n",
       "        [-6.13046193e-03,  8.17508115e-04,  5.31295382e-03],\n",
       "        [ 5.58472215e-02,  1.25368958e-03, -5.71009111e-02],\n",
       "        [ 0.00000000e+00,  0.00000000e+00,  0.00000000e+00],\n",
       "        [ 0.00000000e+00,  0.00000000e+00,  0.00000000e+00],\n",
       "        [ 0.00000000e+00,  0.00000000e+00,  0.00000000e+00],\n",
       "        [ 0.00000000e+00,  0.00000000e+00,  0.00000000e+00],\n",
       "        [ 0.00000000e+00,  0.00000000e+00,  0.00000000e+00],\n",
       "        [ 1.78571429e-02, -2.38095238e-03, -1.54761905e-02],\n",
       "        [ 0.00000000e+00,  0.00000000e+00,  0.00000000e+00],\n",
       "        [ 0.00000000e+00,  0.00000000e+00,  0.00000000e+00],\n",
       "        [ 0.00000000e+00,  0.00000000e+00,  0.00000000e+00],\n",
       "        [ 0.00000000e+00,  0.00000000e+00,  0.00000000e+00],\n",
       "        [ 0.00000000e+00,  0.00000000e+00,  0.00000000e+00],\n",
       "        [ 0.00000000e+00,  0.00000000e+00,  0.00000000e+00],\n",
       "        [ 0.00000000e+00,  0.00000000e+00,  0.00000000e+00],\n",
       "        [ 0.00000000e+00,  0.00000000e+00,  0.00000000e+00],\n",
       "        [ 0.00000000e+00,  0.00000000e+00,  0.00000000e+00],\n",
       "        [ 0.00000000e+00,  0.00000000e+00,  0.00000000e+00],\n",
       "        [ 0.00000000e+00,  0.00000000e+00,  0.00000000e+00],\n",
       "        [ 0.00000000e+00,  0.00000000e+00,  0.00000000e+00],\n",
       "        [ 2.39245457e-03,  0.00000000e+00, -2.39245457e-03],\n",
       "        [ 0.00000000e+00,  0.00000000e+00,  0.00000000e+00],\n",
       "        [ 0.00000000e+00,  0.00000000e+00,  0.00000000e+00],\n",
       "        [ 0.00000000e+00,  0.00000000e+00,  0.00000000e+00],\n",
       "        [ 0.00000000e+00,  0.00000000e+00,  0.00000000e+00]]])"
      ]
     },
     "execution_count": 43,
     "metadata": {},
     "output_type": "execute_result"
    }
   ],
   "source": [
    "contributions"
   ]
  },
  {
   "cell_type": "code",
   "execution_count": 44,
   "metadata": {},
   "outputs": [
    {
     "data": {
      "text/plain": [
       "array([19, 17,  5, 11, 23, 18,  2, 14,  0, 21,  1, 15, 13, 10, 24, 27,  9,\n",
       "       43, 36, 37, 38, 39, 49, 48, 41, 46, 45, 44, 42, 35, 40, 33, 51, 31,\n",
       "        3, 30, 29,  4, 50,  6, 32, 12,  7, 26, 47, 25,  8, 22, 34, 16, 28,\n",
       "       20], dtype=int64)"
      ]
     },
     "execution_count": 44,
     "metadata": {},
     "output_type": "execute_result"
    }
   ],
   "source": [
    "idxs = np.argsort(contributions[0][:,0])\n",
    "idxs"
   ]
  },
  {
   "cell_type": "code",
   "execution_count": 45,
   "metadata": {},
   "outputs": [
    {
     "data": {
      "text/html": [
       "<div>\n",
       "<style scoped>\n",
       "    .dataframe tbody tr th:only-of-type {\n",
       "        vertical-align: middle;\n",
       "    }\n",
       "\n",
       "    .dataframe tbody tr th {\n",
       "        vertical-align: top;\n",
       "    }\n",
       "\n",
       "    .dataframe thead th {\n",
       "        text-align: right;\n",
       "    }\n",
       "</style>\n",
       "<table border=\"1\" class=\"dataframe\">\n",
       "  <thead>\n",
       "    <tr style=\"text-align: right;\">\n",
       "      <th></th>\n",
       "      <th>0</th>\n",
       "      <th>1</th>\n",
       "      <th>2</th>\n",
       "    </tr>\n",
       "  </thead>\n",
       "  <tbody>\n",
       "    <tr>\n",
       "      <th>0</th>\n",
       "      <td>homeLadderPosition</td>\n",
       "      <td>2.000000</td>\n",
       "      <td>-0.075000</td>\n",
       "    </tr>\n",
       "    <tr>\n",
       "      <th>1</th>\n",
       "      <td>homeTeamImportanceSeasonAverage</td>\n",
       "      <td>77.038587</td>\n",
       "      <td>-0.072708</td>\n",
       "    </tr>\n",
       "    <tr>\n",
       "      <th>2</th>\n",
       "      <td>awayTravel</td>\n",
       "      <td>0.000000</td>\n",
       "      <td>-0.066667</td>\n",
       "    </tr>\n",
       "    <tr>\n",
       "      <th>3</th>\n",
       "      <td>homeTeamImportanceDifference</td>\n",
       "      <td>-31.057803</td>\n",
       "      <td>-0.059456</td>\n",
       "    </tr>\n",
       "    <tr>\n",
       "      <th>4</th>\n",
       "      <td>homeTeamPercentage</td>\n",
       "      <td>114.697406</td>\n",
       "      <td>-0.057205</td>\n",
       "    </tr>\n",
       "    <tr>\n",
       "      <th>5</th>\n",
       "      <td>awayTeamImportanceSeasonAverage</td>\n",
       "      <td>74.922590</td>\n",
       "      <td>-0.029767</td>\n",
       "    </tr>\n",
       "    <tr>\n",
       "      <th>6</th>\n",
       "      <td>rainfall</td>\n",
       "      <td>4.000000</td>\n",
       "      <td>-0.028363</td>\n",
       "    </tr>\n",
       "    <tr>\n",
       "      <th>7</th>\n",
       "      <td>awayTeamImportanceLastGame</td>\n",
       "      <td>78.795455</td>\n",
       "      <td>-0.027164</td>\n",
       "    </tr>\n",
       "    <tr>\n",
       "      <th>8</th>\n",
       "      <td>homeTeam</td>\n",
       "      <td>6.000000</td>\n",
       "      <td>-0.024518</td>\n",
       "    </tr>\n",
       "    <tr>\n",
       "      <th>9</th>\n",
       "      <td>homeTeamPointsFor</td>\n",
       "      <td>1990.000000</td>\n",
       "      <td>-0.022579</td>\n",
       "    </tr>\n",
       "    <tr>\n",
       "      <th>10</th>\n",
       "      <td>awayTeam</td>\n",
       "      <td>14.000000</td>\n",
       "      <td>-0.018763</td>\n",
       "    </tr>\n",
       "    <tr>\n",
       "      <th>11</th>\n",
       "      <td>homeTeamImportanceLastFiveGames</td>\n",
       "      <td>76.753409</td>\n",
       "      <td>-0.018497</td>\n",
       "    </tr>\n",
       "    <tr>\n",
       "      <th>12</th>\n",
       "      <td>homeTeamImportanceLastGame</td>\n",
       "      <td>70.545455</td>\n",
       "      <td>-0.008278</td>\n",
       "    </tr>\n",
       "    <tr>\n",
       "      <th>13</th>\n",
       "      <td>awayGameDifference</td>\n",
       "      <td>-122.000000</td>\n",
       "      <td>-0.008183</td>\n",
       "    </tr>\n",
       "    <tr>\n",
       "      <th>14</th>\n",
       "      <td>awayTeamPointsFor</td>\n",
       "      <td>2078.000000</td>\n",
       "      <td>-0.007104</td>\n",
       "    </tr>\n",
       "    <tr>\n",
       "      <th>15</th>\n",
       "      <td>homeCurrentLadderPosition</td>\n",
       "      <td>7.000000</td>\n",
       "      <td>-0.006130</td>\n",
       "    </tr>\n",
       "    <tr>\n",
       "      <th>16</th>\n",
       "      <td>homeGameDifference</td>\n",
       "      <td>-654.000000</td>\n",
       "      <td>-0.004737</td>\n",
       "    </tr>\n",
       "    <tr>\n",
       "      <th>17</th>\n",
       "      <td>Perth Stadium</td>\n",
       "      <td>0.000000</td>\n",
       "      <td>0.000000</td>\n",
       "    </tr>\n",
       "    <tr>\n",
       "      <th>18</th>\n",
       "      <td>Football Park</td>\n",
       "      <td>0.000000</td>\n",
       "      <td>0.000000</td>\n",
       "    </tr>\n",
       "    <tr>\n",
       "      <th>19</th>\n",
       "      <td>Gabba</td>\n",
       "      <td>0.000000</td>\n",
       "      <td>0.000000</td>\n",
       "    </tr>\n",
       "    <tr>\n",
       "      <th>20</th>\n",
       "      <td>Jiangwan Stadium</td>\n",
       "      <td>0.000000</td>\n",
       "      <td>0.000000</td>\n",
       "    </tr>\n",
       "    <tr>\n",
       "      <th>21</th>\n",
       "      <td>Kardinia Park</td>\n",
       "      <td>0.000000</td>\n",
       "      <td>0.000000</td>\n",
       "    </tr>\n",
       "    <tr>\n",
       "      <th>22</th>\n",
       "      <td>Traeger Park</td>\n",
       "      <td>0.000000</td>\n",
       "      <td>0.000000</td>\n",
       "    </tr>\n",
       "    <tr>\n",
       "      <th>23</th>\n",
       "      <td>Sydney Showground</td>\n",
       "      <td>0.000000</td>\n",
       "      <td>0.000000</td>\n",
       "    </tr>\n",
       "    <tr>\n",
       "      <th>24</th>\n",
       "      <td>Manuka Oval</td>\n",
       "      <td>0.000000</td>\n",
       "      <td>0.000000</td>\n",
       "    </tr>\n",
       "    <tr>\n",
       "      <th>25</th>\n",
       "      <td>Stadium Australia</td>\n",
       "      <td>0.000000</td>\n",
       "      <td>0.000000</td>\n",
       "    </tr>\n",
       "    <tr>\n",
       "      <th>26</th>\n",
       "      <td>S.C.G.</td>\n",
       "      <td>0.000000</td>\n",
       "      <td>0.000000</td>\n",
       "    </tr>\n",
       "    <tr>\n",
       "      <th>27</th>\n",
       "      <td>Riverway Stadium</td>\n",
       "      <td>0.000000</td>\n",
       "      <td>0.000000</td>\n",
       "    </tr>\n",
       "    <tr>\n",
       "      <th>28</th>\n",
       "      <td>Marrara Oval</td>\n",
       "      <td>0.000000</td>\n",
       "      <td>0.000000</td>\n",
       "    </tr>\n",
       "    <tr>\n",
       "      <th>29</th>\n",
       "      <td>Eureka Stadium</td>\n",
       "      <td>0.000000</td>\n",
       "      <td>0.000000</td>\n",
       "    </tr>\n",
       "    <tr>\n",
       "      <th>30</th>\n",
       "      <td>M.C.G.</td>\n",
       "      <td>0.000000</td>\n",
       "      <td>0.000000</td>\n",
       "    </tr>\n",
       "    <tr>\n",
       "      <th>31</th>\n",
       "      <td>Cazaly's Stadium</td>\n",
       "      <td>0.000000</td>\n",
       "      <td>0.000000</td>\n",
       "    </tr>\n",
       "    <tr>\n",
       "      <th>32</th>\n",
       "      <td>York Park</td>\n",
       "      <td>0.000000</td>\n",
       "      <td>0.000000</td>\n",
       "    </tr>\n",
       "    <tr>\n",
       "      <th>33</th>\n",
       "      <td>Blacktown</td>\n",
       "      <td>0.000000</td>\n",
       "      <td>0.000000</td>\n",
       "    </tr>\n",
       "    <tr>\n",
       "      <th>34</th>\n",
       "      <td>homeTeamLastWin</td>\n",
       "      <td>0.000000</td>\n",
       "      <td>0.000000</td>\n",
       "    </tr>\n",
       "    <tr>\n",
       "      <th>35</th>\n",
       "      <td>Bellerive Oval</td>\n",
       "      <td>0.000000</td>\n",
       "      <td>0.000000</td>\n",
       "    </tr>\n",
       "    <tr>\n",
       "      <th>36</th>\n",
       "      <td>Adelaide Oval</td>\n",
       "      <td>0.000000</td>\n",
       "      <td>0.000000</td>\n",
       "    </tr>\n",
       "    <tr>\n",
       "      <th>37</th>\n",
       "      <td>awayTeamLastWin</td>\n",
       "      <td>1.000000</td>\n",
       "      <td>0.000000</td>\n",
       "    </tr>\n",
       "    <tr>\n",
       "      <th>38</th>\n",
       "      <td>Wellington</td>\n",
       "      <td>0.000000</td>\n",
       "      <td>0.000000</td>\n",
       "    </tr>\n",
       "    <tr>\n",
       "      <th>39</th>\n",
       "      <td>homeTravel</td>\n",
       "      <td>1.000000</td>\n",
       "      <td>0.000000</td>\n",
       "    </tr>\n",
       "    <tr>\n",
       "      <th>40</th>\n",
       "      <td>Carrara</td>\n",
       "      <td>0.000000</td>\n",
       "      <td>0.000000</td>\n",
       "    </tr>\n",
       "    <tr>\n",
       "      <th>41</th>\n",
       "      <td>awayTeamImportanceDifference</td>\n",
       "      <td>-12.306313</td>\n",
       "      <td>0.000000</td>\n",
       "    </tr>\n",
       "    <tr>\n",
       "      <th>42</th>\n",
       "      <td>homeTeamChanges</td>\n",
       "      <td>5.000000</td>\n",
       "      <td>0.000000</td>\n",
       "    </tr>\n",
       "    <tr>\n",
       "      <th>43</th>\n",
       "      <td>awayTeamPercentage</td>\n",
       "      <td>116.938661</td>\n",
       "      <td>0.001874</td>\n",
       "    </tr>\n",
       "    <tr>\n",
       "      <th>44</th>\n",
       "      <td>Subiaco</td>\n",
       "      <td>0.000000</td>\n",
       "      <td>0.002392</td>\n",
       "    </tr>\n",
       "    <tr>\n",
       "      <th>45</th>\n",
       "      <td>awayTeamPointsAgainst</td>\n",
       "      <td>1777.000000</td>\n",
       "      <td>0.004090</td>\n",
       "    </tr>\n",
       "    <tr>\n",
       "      <th>46</th>\n",
       "      <td>awayTeamChanges</td>\n",
       "      <td>3.000000</td>\n",
       "      <td>0.005556</td>\n",
       "    </tr>\n",
       "    <tr>\n",
       "      <th>47</th>\n",
       "      <td>homeTeamPointsAgainst</td>\n",
       "      <td>1735.000000</td>\n",
       "      <td>0.014737</td>\n",
       "    </tr>\n",
       "    <tr>\n",
       "      <th>48</th>\n",
       "      <td>Docklands</td>\n",
       "      <td>1.000000</td>\n",
       "      <td>0.017857</td>\n",
       "    </tr>\n",
       "    <tr>\n",
       "      <th>49</th>\n",
       "      <td>awayTeamImportanceLastFiveGames</td>\n",
       "      <td>74.601894</td>\n",
       "      <td>0.022296</td>\n",
       "    </tr>\n",
       "    <tr>\n",
       "      <th>50</th>\n",
       "      <td>awayCurrentLadderPosition</td>\n",
       "      <td>10.000000</td>\n",
       "      <td>0.055847</td>\n",
       "    </tr>\n",
       "    <tr>\n",
       "      <th>51</th>\n",
       "      <td>awayLadderPosition</td>\n",
       "      <td>6.000000</td>\n",
       "      <td>0.056845</td>\n",
       "    </tr>\n",
       "  </tbody>\n",
       "</table>\n",
       "</div>"
      ],
      "text/plain": [
       "                                  0            1         2\n",
       "0                homeLadderPosition     2.000000 -0.075000\n",
       "1   homeTeamImportanceSeasonAverage    77.038587 -0.072708\n",
       "2                        awayTravel     0.000000 -0.066667\n",
       "3      homeTeamImportanceDifference   -31.057803 -0.059456\n",
       "4                homeTeamPercentage   114.697406 -0.057205\n",
       "5   awayTeamImportanceSeasonAverage    74.922590 -0.029767\n",
       "6                          rainfall     4.000000 -0.028363\n",
       "7        awayTeamImportanceLastGame    78.795455 -0.027164\n",
       "8                          homeTeam     6.000000 -0.024518\n",
       "9                 homeTeamPointsFor  1990.000000 -0.022579\n",
       "10                         awayTeam    14.000000 -0.018763\n",
       "11  homeTeamImportanceLastFiveGames    76.753409 -0.018497\n",
       "12       homeTeamImportanceLastGame    70.545455 -0.008278\n",
       "13               awayGameDifference  -122.000000 -0.008183\n",
       "14                awayTeamPointsFor  2078.000000 -0.007104\n",
       "15        homeCurrentLadderPosition     7.000000 -0.006130\n",
       "16               homeGameDifference  -654.000000 -0.004737\n",
       "17                    Perth Stadium     0.000000  0.000000\n",
       "18                    Football Park     0.000000  0.000000\n",
       "19                            Gabba     0.000000  0.000000\n",
       "20                 Jiangwan Stadium     0.000000  0.000000\n",
       "21                    Kardinia Park     0.000000  0.000000\n",
       "22                     Traeger Park     0.000000  0.000000\n",
       "23                Sydney Showground     0.000000  0.000000\n",
       "24                      Manuka Oval     0.000000  0.000000\n",
       "25                Stadium Australia     0.000000  0.000000\n",
       "26                           S.C.G.     0.000000  0.000000\n",
       "27                 Riverway Stadium     0.000000  0.000000\n",
       "28                     Marrara Oval     0.000000  0.000000\n",
       "29                   Eureka Stadium     0.000000  0.000000\n",
       "30                           M.C.G.     0.000000  0.000000\n",
       "31                 Cazaly's Stadium     0.000000  0.000000\n",
       "32                        York Park     0.000000  0.000000\n",
       "33                        Blacktown     0.000000  0.000000\n",
       "34                  homeTeamLastWin     0.000000  0.000000\n",
       "35                   Bellerive Oval     0.000000  0.000000\n",
       "36                    Adelaide Oval     0.000000  0.000000\n",
       "37                  awayTeamLastWin     1.000000  0.000000\n",
       "38                       Wellington     0.000000  0.000000\n",
       "39                       homeTravel     1.000000  0.000000\n",
       "40                          Carrara     0.000000  0.000000\n",
       "41     awayTeamImportanceDifference   -12.306313  0.000000\n",
       "42                  homeTeamChanges     5.000000  0.000000\n",
       "43               awayTeamPercentage   116.938661  0.001874\n",
       "44                          Subiaco     0.000000  0.002392\n",
       "45            awayTeamPointsAgainst  1777.000000  0.004090\n",
       "46                  awayTeamChanges     3.000000  0.005556\n",
       "47            homeTeamPointsAgainst  1735.000000  0.014737\n",
       "48                        Docklands     1.000000  0.017857\n",
       "49  awayTeamImportanceLastFiveGames    74.601894  0.022296\n",
       "50        awayCurrentLadderPosition    10.000000  0.055847\n",
       "51               awayLadderPosition     6.000000  0.056845"
      ]
     },
     "execution_count": 45,
     "metadata": {},
     "output_type": "execute_result"
    }
   ],
   "source": [
    "pd.DataFrame( [o for o in zip(x_valid_2012.columns[idxs], x_valid_2012.iloc[0][idxs], contributions[0][:,0][idxs])] )"
   ]
  },
  {
   "cell_type": "code",
   "execution_count": 46,
   "metadata": {},
   "outputs": [
    {
     "name": "stdout",
     "output_type": "stream",
     "text": [
      "F1: 0.7602\n"
     ]
    }
   ],
   "source": [
    "from sklearn.model_selection import GridSearchCV\n",
    "parameter_space = {\n",
    "    \"max_features\": [2,10,50,'auto'],\n",
    "    \"n_estimators\": [50,100,200],\n",
    "    \"criterion\": [\"gini\", \"entropy\"],\n",
    "    \"min_samples_leaf\": [1,2,4,6]\n",
    "}\n",
    "\n",
    "rf = RandomForestClassifier(random_state=26)\n",
    "grid = GridSearchCV(rf, parameter_space)\n",
    "grid.fit(x_train_2012, y_train_2012)\n",
    "# scores_rf_teams = cross_val_score(rf, X_teams_2012, y_true_2012)\n",
    "print(\"F1: {0:0.4f}\".format(np.mean(grid.best_score_)))"
   ]
  },
  {
   "attachments": {},
   "cell_type": "markdown",
   "metadata": {},
   "source": []
  }
 ],
 "metadata": {
  "kernelspec": {
   "display_name": "venv",
   "language": "python",
   "name": "python3"
  },
  "language_info": {
   "codemirror_mode": {
    "name": "ipython",
    "version": 3
   },
   "file_extension": ".py",
   "mimetype": "text/x-python",
   "name": "python",
   "nbconvert_exporter": "python",
   "pygments_lexer": "ipython3",
   "version": "3.9.13"
  },
  "orig_nbformat": 4,
  "vscode": {
   "interpreter": {
    "hash": "afd8bbf76cc8f66cb6213c8ab916f8a134e63b6f70cbd0f147b7ecd8cc749dd8"
   }
  }
 },
 "nbformat": 4,
 "nbformat_minor": 2
}
