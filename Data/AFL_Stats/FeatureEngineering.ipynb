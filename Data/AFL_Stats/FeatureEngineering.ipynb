{
 "cells": [
  {
   "cell_type": "code",
   "execution_count": 1,
   "metadata": {},
   "outputs": [
    {
     "name": "stdout",
     "output_type": "stream",
     "text": [
      "Activating ipynb\n",
      "Importing libs\n"
     ]
    }
   ],
   "source": [
    "print(\"Activating ipynb\")\n",
    "print (\"Importing libs\")\n",
    "import os \n",
    "import numpy as np\n",
    "import pandas as pd"
   ]
  },
  {
   "cell_type": "code",
   "execution_count": 2,
   "metadata": {},
   "outputs": [],
   "source": [
    "# Global\n",
    "years = [x for x in range (2012, 2022)]"
   ]
  },
  {
   "cell_type": "code",
   "execution_count": 3,
   "metadata": {},
   "outputs": [
    {
     "name": "stdout",
     "output_type": "stream",
     "text": [
      "Loading Initial Game Data\n"
     ]
    }
   ],
   "source": [
    "# Load Initial Data\n",
    "print(\"Loading Initial Game Data\")\n",
    "games_folder_path = \"C:/Users/Craig/Documents/Thesis/Thomas_Gallagher_Thesis/Data/AFL_Stats_sorted/Year/Games/\"\n",
    "games_2012 = pd.read_csv(games_folder_path + '2012.csv', index_col=False, parse_dates=['date'])\n",
    "games_2013 = pd.read_csv(games_folder_path + '2013.csv', index_col=False, parse_dates=['date'])\n",
    "games_2014 = pd.read_csv(games_folder_path + '2014.csv', index_col=False, parse_dates=['date'])\n",
    "games_2015 = pd.read_csv(games_folder_path + '2015.csv', index_col=False, parse_dates=['date'])\n",
    "games_2016 = pd.read_csv(games_folder_path + '2016.csv', index_col=False, parse_dates=['date'])\n",
    "games_2017 = pd.read_csv(games_folder_path + '2017.csv', index_col=False, parse_dates=['date'])\n",
    "games_2018 = pd.read_csv(games_folder_path + '2018.csv', index_col=False, parse_dates=['date'])\n",
    "games_2019 = pd.read_csv(games_folder_path + '2019.csv', index_col=False, parse_dates=['date'])\n",
    "games_2020 = pd.read_csv(games_folder_path + '2020.csv', index_col=False, parse_dates=['date'])\n",
    "games_2021 = pd.read_csv(games_folder_path + '2021.csv', index_col=False, parse_dates=['date'])\n",
    "\n",
    "all_games = os.path.join(\"C:/Users/Craig/Documents/Thesis/Thomas_Gallagher_Thesis/Data/AFL_Stats_sorted/games_sorted.csv\")\n",
    "all_games_raw = pd.read_csv(all_games, index_col=False, parse_dates=['date'])"
   ]
  },
  {
   "cell_type": "code",
   "execution_count": 27,
   "metadata": {},
   "outputs": [
    {
     "name": "stderr",
     "output_type": "stream",
     "text": [
      "C:\\Users\\Craig\\AppData\\Local\\Temp\\ipykernel_2500\\431392878.py:15: DtypeWarning: Columns (30) have mixed types. Specify dtype option on import or set low_memory=False.\n",
      "  all_stats_raw = pd.read_csv(all_stats, index_col=False)\n"
     ]
    }
   ],
   "source": [
    "# Load Stats\n",
    "stats_folder_path = \"C:/Users/Craig/Documents/Thesis/Thomas_Gallagher_Thesis/Data/AFL_Stats_sorted/Year/Players/\"\n",
    "stats_2012 = pd.read_csv(stats_folder_path + '2012.csv', index_col=False)\n",
    "stats_2013 = pd.read_csv(stats_folder_path + '2013.csv', index_col=False)\n",
    "stats_2014 = pd.read_csv(stats_folder_path + '2014.csv', index_col=False)\n",
    "stats_2015 = pd.read_csv(stats_folder_path + '2015.csv', index_col=False)\n",
    "stats_2016 = pd.read_csv(stats_folder_path + '2016.csv', index_col=False)\n",
    "stats_2017 = pd.read_csv(stats_folder_path + '2017.csv', index_col=False)\n",
    "stats_2018 = pd.read_csv(stats_folder_path + '2018.csv', index_col=False)\n",
    "stats_2019 = pd.read_csv(stats_folder_path + '2019.csv', index_col=False)\n",
    "stats_2020 = pd.read_csv(stats_folder_path + '2020.csv', index_col=False)\n",
    "stats_2021 = pd.read_csv(stats_folder_path + '2021.csv', index_col=False)\n",
    "\n",
    "all_stats = \"C:/Users/Craig/Documents/Thesis/Thomas_Gallagher_Thesis/Data/AFL_Stats_sorted/Year/Players/stats_sorted.csv\"\n",
    "all_stats_raw = pd.read_csv(all_stats, index_col=False)"
   ]
  },
  {
   "attachments": {},
   "cell_type": "markdown",
   "metadata": {},
   "source": [
    "## Build Y value \n",
    "Result of game based on Home Team (Win = 2, Draw = 1, Lose = 0)"
   ]
  },
  {
   "cell_type": "code",
   "execution_count": 5,
   "metadata": {},
   "outputs": [],
   "source": [
    "def homeWin(row):\n",
    "    homeScore = row[\"homeTeamScore\"]\n",
    "    awayScore = row[\"awayTeamScore\"]\n",
    "    row['homeWin'] = 2 if homeScore > awayScore else 0 if homeScore < awayScore else 1 \n",
    "        \n",
    "    return row\n",
    "  \n",
    "results_2012 = games_raw_2012.apply(homeWin, axis=1)\n",
    "y_true_2012 = results_2012['homeWin']\n",
    "results_2013 = games_raw_2013.apply(homeWin, axis=1)\n",
    "y_true_2013 = results_2013['homeWin']\n",
    "results_2014 = games_raw_2014.apply(homeWin, axis=1)\n",
    "y_true_2014 = results_2014['homeWin']\n",
    "results_2015 = games_raw_2015.apply(homeWin, axis=1)\n",
    "y_true_2015 = results_2015['homeWin']\n",
    "results_2016 = games_raw_2016.apply(homeWin, axis=1)\n",
    "y_true_2016 = results_2016['homeWin']\n",
    "results_2017 = games_raw_2017.apply(homeWin, axis=1)\n",
    "y_true_2017 = results_2017['homeWin']\n",
    "results_2018 = games_raw_2018.apply(homeWin, axis=1)\n",
    "y_true_2018 = results_2018['homeWin']\n",
    "results_2019 = games_raw_2019.apply(homeWin, axis=1)\n",
    "y_true_2019 = results_2019['homeWin']\n",
    "results_2020 = games_raw_2020.apply(homeWin, axis=1)\n",
    "y_true_2020 = results_2020['homeWin']\n",
    "results_2021 = games_raw_2021.apply(homeWin, axis=1)\n",
    "y_true_2021 = results_2021['homeWin']\n",
    "all_results = all_games_raw.apply(homeWin, axis=1)\n",
    "y_true_all = all_results['homeWin']"
   ]
  },
  {
   "attachments": {},
   "cell_type": "markdown",
   "metadata": {},
   "source": [
    "## Add Previous Game Result\n",
    "Set default dict to store results for each team\n",
    "Only a boolean value, draws only account for ~1% of all games \n",
    "Default to false\n",
    "If the last game was a win set to true\n",
    "# TODO \n",
    "add draws in and see if there is a difference"
   ]
  },
  {
   "attachments": {},
   "cell_type": "markdown",
   "metadata": {},
   "source": [
    "## Computed Variables\n",
    "These variables did not appear in the original data set but were added later\n",
    "\n",
    "Travel Data: Used to determine the impact of travel on teams\n",
    "             Determined by comparing the venue of the upcoming match to the teams home location\n",
    "\n",
    "Break: Finds the break between a teams last and next game\n",
    "\n",
    "Team Changes: The number of players that are different in the from the previous match\n",
    "              The number of games lost/gained from these changes\n",
    "              The expected score lost/gained from the incoming players\n",
    "              # TODO split games out and games in into separate variables\n",
    "\n",
    "Team Composition: The average/total score of all the selected players\n",
    "                  Done this way to reduce number of features\n",
    "                  \n",
    "Previous 5 games result: Totals each teams previous games results\n",
    "\n",
    "             "
   ]
  },
  {
   "attachments": {},
   "cell_type": "markdown",
   "metadata": {},
   "source": [
    "## One Hot Encoding\n",
    "The tree models used for feature engineering cannot take in string inputs\n",
    "Value encoding can be used to change teams to int values, but then the model will read this as distance i.e. the team with value 1 will be read as being closer to the team with value 2 than the team with value 18. \n",
    "One Hot Encoding creates a bool variable for each team which is 1 when the team is playing.\n",
    "\n",
    "# TODO\n",
    "See if the model performs better with the simple label encoding. \n",
    "One hot encoding creates an issue with decision trees as it creates lots of \"empty\" splits, there will now be 34 variables which the model will split on 0, which can skew the model."
   ]
  },
  {
   "cell_type": "code",
   "execution_count": null,
   "metadata": {},
   "outputs": [],
   "source": [
    "# One Hot Encoding Teams\n",
    "from sklearn.preprocessing import LabelEncoder, OneHotEncoder\n",
    "encoding = LabelEncoder()\n",
    "encoding.fit(all_results[\"homeTeam\"].values)\n",
    "\n",
    "home_teams_2012 = encoding.transform(a_2012[\"homeTeam\"].values)\n",
    "away_teams_2012 = encoding.transform(a_2012[\"awayTeam\"].values)\n",
    "\n",
    "all_teams_2012 = np.vstack([home_teams_2012, away_teams_2012]).T\n",
    "all_teams_2012[:5], all_teams_2012.shape\n",
    "\n",
    "oneHot = OneHotEncoder()\n",
    "X_teams_2012 = oneHot.fit_transform(all_teams_2012).todense()\n",
    "X_teams_2012.shape"
   ]
  },
  {
   "cell_type": "markdown",
   "metadata": {},
   "source": [
    "## One Hot Encoding Venues\n",
    "Same issues as above, but simplified slightly as there are only 23 stadiums"
   ]
  },
  {
   "cell_type": "code",
   "execution_count": null,
   "metadata": {},
   "outputs": [],
   "source": [
    "# One Hot Encoding Venues\n",
    "encoding = LabelEncoder()\n",
    "encoding.fit(all_results[\"venue\"].values)\n",
    "venues = encoding.transform(a_2012['venue'].values)\n",
    "\n",
    "all_venues = np.vstack(venues).T\n",
    "venues = venues.reshape(-1,1)\n",
    "venues[:5], venues.shape\n",
    "\n",
    "oneHot = OneHotEncoder()\n",
    "X_venues = oneHot.fit_transform(venues).todense()\n",
    "X_venues = np.asarray(X_venues)\n",
    "X_venues.shape"
   ]
  },
  {
   "attachments": {},
   "cell_type": "markdown",
   "metadata": {},
   "source": []
  }
 ],
 "metadata": {
  "kernelspec": {
   "display_name": "Python 3",
   "language": "python",
   "name": "python3"
  },
  "language_info": {
   "codemirror_mode": {
    "name": "ipython",
    "version": 3
   },
   "file_extension": ".py",
   "mimetype": "text/x-python",
   "name": "python",
   "nbconvert_exporter": "python",
   "pygments_lexer": "ipython3",
   "version": "3.9.13"
  },
  "orig_nbformat": 4,
  "vscode": {
   "interpreter": {
    "hash": "c107136c80d3013e96d4a2731fbe56196242e646bfe8344cadd1c966a2471f66"
   }
  }
 },
 "nbformat": 4,
 "nbformat_minor": 2
}
