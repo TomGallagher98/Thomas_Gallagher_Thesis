{
 "cells": [
  {
   "cell_type": "code",
   "execution_count": 91,
   "metadata": {},
   "outputs": [
    {
     "name": "stdout",
     "output_type": "stream",
     "text": [
      "Activating ipynb\n",
      "Importing libs\n"
     ]
    }
   ],
   "source": [
    "print(\"Activating ipynb\")\n",
    "print (\"Importing libs\")\n",
    "import warnings\n",
    "warnings.simplefilter(action='ignore', category=FutureWarning)\n",
    "\n",
    "import os \n",
    "import numpy as np\n",
    "import pandas as pd\n",
    "import matplotlib.pyplot as plt\n",
    "from sklearn.preprocessing import LabelEncoder, OneHotEncoder"
   ]
  },
  {
   "cell_type": "code",
   "execution_count": 92,
   "metadata": {},
   "outputs": [],
   "source": [
    "# Global\n",
    "years = [x for x in range (2012, 2022)]"
   ]
  },
  {
   "cell_type": "code",
   "execution_count": 93,
   "metadata": {},
   "outputs": [
    {
     "name": "stdout",
     "output_type": "stream",
     "text": [
      "Loading Initial Game Data\n"
     ]
    },
    {
     "name": "stderr",
     "output_type": "stream",
     "text": [
      "C:\\Users\\Craig\\AppData\\Local\\Temp\\ipykernel_12032\\1473800738.py:4: UserWarning: Parsing dates in DD/MM/YYYY format when dayfirst=False (the default) was specified. This may lead to inconsistently parsed dates! Specify a format to ensure consistent parsing.\n",
      "  games_2012 = pd.read_csv(games_folder_path + '2012.csv', index_col=False, parse_dates=['date'])\n",
      "C:\\Users\\Craig\\AppData\\Local\\Temp\\ipykernel_12032\\1473800738.py:5: UserWarning: Parsing dates in DD/MM/YYYY format when dayfirst=False (the default) was specified. This may lead to inconsistently parsed dates! Specify a format to ensure consistent parsing.\n",
      "  games_2013 = pd.read_csv(games_folder_path + '2013.csv', index_col=False, parse_dates=['date'])\n",
      "C:\\Users\\Craig\\AppData\\Local\\Temp\\ipykernel_12032\\1473800738.py:6: UserWarning: Parsing dates in DD/MM/YYYY format when dayfirst=False (the default) was specified. This may lead to inconsistently parsed dates! Specify a format to ensure consistent parsing.\n",
      "  games_2014 = pd.read_csv(games_folder_path + '2014.csv', index_col=False, parse_dates=['date'])\n",
      "C:\\Users\\Craig\\AppData\\Local\\Temp\\ipykernel_12032\\1473800738.py:7: UserWarning: Parsing dates in DD/MM/YYYY format when dayfirst=False (the default) was specified. This may lead to inconsistently parsed dates! Specify a format to ensure consistent parsing.\n",
      "  games_2015 = pd.read_csv(games_folder_path + '2015.csv', index_col=False, parse_dates=['date'])\n",
      "C:\\Users\\Craig\\AppData\\Local\\Temp\\ipykernel_12032\\1473800738.py:8: UserWarning: Parsing dates in DD/MM/YYYY format when dayfirst=False (the default) was specified. This may lead to inconsistently parsed dates! Specify a format to ensure consistent parsing.\n",
      "  games_2016 = pd.read_csv(games_folder_path + '2016.csv', index_col=False, parse_dates=['date'])\n",
      "C:\\Users\\Craig\\AppData\\Local\\Temp\\ipykernel_12032\\1473800738.py:9: UserWarning: Parsing dates in DD/MM/YYYY format when dayfirst=False (the default) was specified. This may lead to inconsistently parsed dates! Specify a format to ensure consistent parsing.\n",
      "  games_2017 = pd.read_csv(games_folder_path + '2017.csv', index_col=False, parse_dates=['date'])\n",
      "C:\\Users\\Craig\\AppData\\Local\\Temp\\ipykernel_12032\\1473800738.py:10: UserWarning: Parsing dates in DD/MM/YYYY format when dayfirst=False (the default) was specified. This may lead to inconsistently parsed dates! Specify a format to ensure consistent parsing.\n",
      "  games_2018 = pd.read_csv(games_folder_path + '2018.csv', index_col=False, parse_dates=['date'])\n",
      "C:\\Users\\Craig\\AppData\\Local\\Temp\\ipykernel_12032\\1473800738.py:11: UserWarning: Parsing dates in DD/MM/YYYY format when dayfirst=False (the default) was specified. This may lead to inconsistently parsed dates! Specify a format to ensure consistent parsing.\n",
      "  games_2019 = pd.read_csv(games_folder_path + '2019.csv', index_col=False, parse_dates=['date'])\n",
      "C:\\Users\\Craig\\AppData\\Local\\Temp\\ipykernel_12032\\1473800738.py:12: UserWarning: Parsing dates in DD/MM/YYYY format when dayfirst=False (the default) was specified. This may lead to inconsistently parsed dates! Specify a format to ensure consistent parsing.\n",
      "  games_2020 = pd.read_csv(games_folder_path + '2020.csv', index_col=False, parse_dates=['date'])\n",
      "C:\\Users\\Craig\\AppData\\Local\\Temp\\ipykernel_12032\\1473800738.py:13: UserWarning: Parsing dates in DD/MM/YYYY format when dayfirst=False (the default) was specified. This may lead to inconsistently parsed dates! Specify a format to ensure consistent parsing.\n",
      "  games_2021 = pd.read_csv(games_folder_path + '2021.csv', index_col=False, parse_dates=['date'])\n"
     ]
    }
   ],
   "source": [
    "# Load Initial Data\n",
    "print(\"Loading Initial Game Data\")\n",
    "games_folder_path = \"C:/Users/Craig/Documents/Thesis/Thomas_Gallagher_Thesis/Data/AFL_Stats_sorted/Year/Games/\"\n",
    "games_2012 = pd.read_csv(games_folder_path + '2012.csv', index_col=False, parse_dates=['date'])\n",
    "games_2013 = pd.read_csv(games_folder_path + '2013.csv', index_col=False, parse_dates=['date'])\n",
    "games_2014 = pd.read_csv(games_folder_path + '2014.csv', index_col=False, parse_dates=['date'])\n",
    "games_2015 = pd.read_csv(games_folder_path + '2015.csv', index_col=False, parse_dates=['date'])\n",
    "games_2016 = pd.read_csv(games_folder_path + '2016.csv', index_col=False, parse_dates=['date'])\n",
    "games_2017 = pd.read_csv(games_folder_path + '2017.csv', index_col=False, parse_dates=['date'])\n",
    "games_2018 = pd.read_csv(games_folder_path + '2018.csv', index_col=False, parse_dates=['date'])\n",
    "games_2019 = pd.read_csv(games_folder_path + '2019.csv', index_col=False, parse_dates=['date'])\n",
    "games_2020 = pd.read_csv(games_folder_path + '2020.csv', index_col=False, parse_dates=['date'])\n",
    "games_2021 = pd.read_csv(games_folder_path + '2021.csv', index_col=False, parse_dates=['date'])\n",
    "\n",
    "all_games_path = os.path.join(games_folder_path + \"games_sorted.csv\")\n",
    "# all_g = pd.concat([games_2012, games_2013, games_2014, games_2015, games_2016, games_2017, games_2018, games_2019, games_2020, games_2021])\n",
    "# all_g.to_csv(all_games_path, index=False)\n",
    "all_games = pd.read_csv(all_games_path, index_col=False, parse_dates=['date'])"
   ]
  },
  {
   "cell_type": "code",
   "execution_count": 57,
   "metadata": {},
   "outputs": [
    {
     "name": "stderr",
     "output_type": "stream",
     "text": [
      "C:\\Users\\Craig\\AppData\\Local\\Temp\\ipykernel_12032\\431392878.py:15: DtypeWarning: Columns (30) have mixed types. Specify dtype option on import or set low_memory=False.\n",
      "  all_stats_raw = pd.read_csv(all_stats, index_col=False)\n"
     ]
    }
   ],
   "source": [
    "# Load Stats\n",
    "stats_folder_path = \"C:/Users/Craig/Documents/Thesis/Thomas_Gallagher_Thesis/Data/AFL_Stats_sorted/Year/Players/\"\n",
    "stats_2012 = pd.read_csv(stats_folder_path + '2012.csv', index_col=False)\n",
    "stats_2013 = pd.read_csv(stats_folder_path + '2013.csv', index_col=False)\n",
    "stats_2014 = pd.read_csv(stats_folder_path + '2014.csv', index_col=False)\n",
    "stats_2015 = pd.read_csv(stats_folder_path + '2015.csv', index_col=False)\n",
    "stats_2016 = pd.read_csv(stats_folder_path + '2016.csv', index_col=False)\n",
    "stats_2017 = pd.read_csv(stats_folder_path + '2017.csv', index_col=False)\n",
    "stats_2018 = pd.read_csv(stats_folder_path + '2018.csv', index_col=False)\n",
    "stats_2019 = pd.read_csv(stats_folder_path + '2019.csv', index_col=False)\n",
    "stats_2020 = pd.read_csv(stats_folder_path + '2020.csv', index_col=False)\n",
    "stats_2021 = pd.read_csv(stats_folder_path + '2021.csv', index_col=False)\n",
    "\n",
    "all_stats = \"C:/Users/Craig/Documents/Thesis/Thomas_Gallagher_Thesis/Data/AFL_Stats_sorted/Year/Players/stats_sorted.csv\"\n",
    "all_stats_raw = pd.read_csv(all_stats, index_col=False)"
   ]
  },
  {
   "cell_type": "code",
   "execution_count": 94,
   "metadata": {},
   "outputs": [],
   "source": [
    "games_list_year = [games_2012, games_2013, games_2014, games_2015, games_2016, games_2017, games_2018, games_2019, games_2020, games_2021]\n",
    "stats_list_year = [stats_2012, stats_2013, stats_2014, stats_2015, stats_2016, stats_2017, stats_2018, stats_2019, stats_2020, stats_2021]"
   ]
  },
  {
   "attachments": {},
   "cell_type": "markdown",
   "metadata": {},
   "source": [
    "## Build Y value \n",
    "Result of game based on Home Team (Win = 2, Draw = 1, Lose = 0)"
   ]
  },
  {
   "cell_type": "code",
   "execution_count": 95,
   "metadata": {},
   "outputs": [],
   "source": [
    "y_true_2012 = games_2012['homeWin']\n",
    "y_true_2013 = games_2013['homeWin']\n",
    "y_true_2014 = games_2014['homeWin']\n",
    "y_true_2015 = games_2015['homeWin']\n",
    "y_true_2016 = games_2016['homeWin']\n",
    "y_true_2017 = games_2017['homeWin']\n",
    "y_true_2018 = games_2018['homeWin']\n",
    "y_true_2019 = games_2019['homeWin']\n",
    "y_true_2020 = games_2020['homeWin']\n",
    "y_true_2021 = games_2021['homeWin']\n",
    "y_true_all = all_games['homeWin']"
   ]
  },
  {
   "attachments": {},
   "cell_type": "markdown",
   "metadata": {},
   "source": [
    "## Add Previous Game Result\n",
    "Set default dict to store results for each team\n",
    "Only a boolean value, draws only account for ~1% of all games \n",
    "Default to false\n",
    "If the last game was a win set to true\n",
    "# TODO \n",
    "add draws in and see if there is a difference"
   ]
  },
  {
   "attachments": {},
   "cell_type": "markdown",
   "metadata": {},
   "source": [
    "## Computed Variables\n",
    "These variables did not appear in the original data set but were added later\n",
    "\n",
    "Travel Data: Used to determine the impact of travel on teams\n",
    "             Determined by comparing the venue of the upcoming match to the teams home location\n",
    "\n",
    "Break: Finds the break between a teams last and next game\n",
    "\n",
    "Team Changes: The number of players that are different in the from the previous match\n",
    "              The number of games lost/gained from these changes\n",
    "              The expected score lost/gained from the incoming players\n",
    "              Split games out and games in into separate variables\n",
    "\n",
    "Team Composition: The average/total score of all the selected players\n",
    "                  Done this way to reduce number of features\n",
    "\n",
    "TODO   \n",
    "Previous 5 games result: Totals each teams previous games results\n",
    "\n",
    "             "
   ]
  },
  {
   "attachments": {},
   "cell_type": "markdown",
   "metadata": {},
   "source": [
    "## One Hot Encoding\n",
    "The tree models used for feature engineering cannot take in string inputs\n",
    "Value encoding can be used to change teams to int values, but then the model will read this as distance i.e. the team with value 1 will be read as being closer to the team with value 2 than the team with value 18. \n",
    "One Hot Encoding creates a bool variable for each team which is 1 when the team is playing.\n",
    "\n",
    "# TODO\n",
    "See if the model performs better with the simple label encoding. \n",
    "One hot encoding creates an issue with decision trees as it creates lots of \"empty\" splits, there will now be 34 variables which the model will split on 0, which can skew the model."
   ]
  },
  {
   "cell_type": "code",
   "execution_count": 96,
   "metadata": {},
   "outputs": [],
   "source": [
    "# One Hot Encoding Teams\n",
    "encoding = LabelEncoder()\n",
    "encoding.fit(all_games[\"homeTeam\"].values)\n",
    "\n",
    "def OHE_Teams(games):\n",
    "    home_teams = encoding.transform(games[\"homeTeam\"].values)\n",
    "    away_teams = encoding.transform(games[\"awayTeam\"].values)\n",
    "\n",
    "    all_teams = np.vstack([home_teams, away_teams]).T\n",
    " \n",
    "    oneHot = OneHotEncoder()\n",
    "    X_teams = oneHot.fit_transform(all_teams).todense()\n",
    "    X_teams = pd.DataFrame(X_teams)\n",
    "    games = pd.concat([games, pd.DataFrame(X_teams)],axis=1)\n",
    "    return games\n",
    "\n",
    "games_2012 = OHE_Teams(games_2012)\n",
    "games_2013 = OHE_Teams(games_2013)\n",
    "games_2014 = OHE_Teams(games_2014)\n",
    "games_2015 = OHE_Teams(games_2015)\n",
    "games_2016 = OHE_Teams(games_2016)\n",
    "games_2017 = OHE_Teams(games_2017)\n",
    "games_2018 = OHE_Teams(games_2018)\n",
    "games_2019 = OHE_Teams(games_2019)\n",
    "games_2020 = OHE_Teams(games_2020)\n",
    "games_2021 = OHE_Teams(games_2021)"
   ]
  },
  {
   "cell_type": "markdown",
   "metadata": {},
   "source": [
    "## One Hot Encoding Venues\n",
    "Same issues as above, but simplified slightly as there are only 23 stadiums"
   ]
  },
  {
   "cell_type": "code",
   "execution_count": 97,
   "metadata": {},
   "outputs": [],
   "source": [
    "# One Hot Encoding Venues\n",
    "encoding = LabelEncoder()\n",
    "encoding.fit(all_games[\"venue\"].values)\n",
    "all_venues = all_games[\"venue\"].values\n",
    "all_venues = all_venues.reshape(-1,1)\n",
    "\n",
    "def OHE_Venues(games):\n",
    "    venues = games['venue'].values\n",
    "    # all_venues = all_venues.reshape(-1,1)\n",
    "    \n",
    "    venues = venues.reshape(-1,1)\n",
    "\n",
    "    oneHot = OneHotEncoder()\n",
    "\n",
    "    oneHot.fit(all_venues)\n",
    "    X_venues = oneHot.transform(venues).toarray()\n",
    "    X_venues = pd.DataFrame(X_venues, columns=oneHot.categories_[0])\n",
    "    games = pd.concat([games, X_venues], axis=1)\n",
    "    return games\n",
    "\n",
    "games_2012 = OHE_Venues(games_2012)\n",
    "games_2013 = OHE_Venues(games_2013)\n",
    "games_2014 = OHE_Venues(games_2014)\n",
    "games_2015 = OHE_Venues(games_2015)\n",
    "games_2016 = OHE_Venues(games_2016)\n",
    "games_2017 = OHE_Venues(games_2017)\n",
    "games_2018 = OHE_Venues(games_2018)\n",
    "games_2019 = OHE_Venues(games_2019)\n",
    "games_2020 = OHE_Venues(games_2020)\n",
    "games_2021 = OHE_Venues(games_2021)"
   ]
  },
  {
   "cell_type": "code",
   "execution_count": 98,
   "metadata": {},
   "outputs": [],
   "source": [
    "def show_dtypes(df):\n",
    "    for index in range(len(df.dtypes)):\n",
    "        print(f'{df.columns[index]} -> {df.dtypes[index]}' )"
   ]
  },
  {
   "cell_type": "code",
   "execution_count": 99,
   "metadata": {},
   "outputs": [],
   "source": [
    "# Remove Variables\n",
    "drop_values = ['gameId', 'venue', 'homeTeam', 'homeWin','awayTeam', 'year','date','startTime', 'attendance', 'homeTeamScore', 'awayTeamScore']\n",
    "X_2012 = games_2012.drop(drop_values,axis=1)\n",
    "X_2013 = games_2013.drop(drop_values,axis=1)\n",
    "X_2014 = games_2014.drop(drop_values,axis=1)\n",
    "X_2015 = games_2015.drop(drop_values,axis=1)\n",
    "X_2016 = games_2016.drop(drop_values,axis=1)\n",
    "X_2017 = games_2017.drop(drop_values,axis=1)\n",
    "X_2018 = games_2018.drop(drop_values,axis=1)\n",
    "X_2019 = games_2019.drop(drop_values,axis=1)\n",
    "X_2020 = games_2020.drop(drop_values,axis=1)\n",
    "X_2021 = games_2021.drop(drop_values,axis=1)"
   ]
  },
  {
   "cell_type": "code",
   "execution_count": 100,
   "metadata": {},
   "outputs": [
    {
     "name": "stdout",
     "output_type": "stream",
     "text": [
      "round                  int64\n",
      "rainfall             float64\n",
      "homeTeamLastWin        int64\n",
      "awayTeamLastWin        int64\n",
      "awayTravel             int64\n",
      "                      ...   \n",
      "Subiaco              float64\n",
      "Sydney Showground    float64\n",
      "Traeger Park         float64\n",
      "Wellington           float64\n",
      "York Park            float64\n",
      "Length: 79, dtype: object\n"
     ]
    }
   ],
   "source": [
    "# print(X_2012.dtypes)\n",
    "def bool_to_int(row):\n",
    "    if str(row['homeTeamLastWin']) == \"True\":\n",
    "        row['homeTeamLastWin'] = 1\n",
    "    else:\n",
    "        row['homeTeamLastWin'] = 0\n",
    "    if str(row['awayTeamLastWin']) == \"True\":\n",
    "        row['awayTeamLastWin'] = 1\n",
    "    else:\n",
    "        row['awayTeamLastWin'] = 0\n",
    "    return row\n",
    "X_2012 = X_2012.apply(bool_to_int, axis = 1)\n",
    "X_2013 = X_2013.apply(bool_to_int, axis = 1)\n",
    "X_2014 = X_2014.apply(bool_to_int, axis = 1)\n",
    "X_2015 = X_2015.apply(bool_to_int, axis = 1)\n",
    "X_2016 = X_2016.apply(bool_to_int, axis = 1)\n",
    "X_2017 = X_2017.apply(bool_to_int, axis = 1)\n",
    "X_2018 = X_2018.apply(bool_to_int, axis = 1)\n",
    "X_2019 = X_2019.apply(bool_to_int, axis = 1)\n",
    "X_2020 = X_2020.apply(bool_to_int, axis = 1)\n",
    "X_2021 = X_2021.apply(bool_to_int, axis = 1)\n",
    "print(X_2012.dtypes)\n",
    "    "
   ]
  },
  {
   "cell_type": "code",
   "execution_count": 101,
   "metadata": {},
   "outputs": [],
   "source": [
    "X_2012.columns = X_2012.columns.astype(str) \n",
    "X_2013.columns = X_2013.columns.astype(str) \n",
    "X_2014.columns = X_2014.columns.astype(str) \n",
    "X_2015.columns = X_2015.columns.astype(str) \n",
    "X_2016.columns = X_2016.columns.astype(str) \n",
    "X_2017.columns = X_2017.columns.astype(str) \n",
    "X_2018.columns = X_2018.columns.astype(str) \n",
    "X_2019.columns = X_2019.columns.astype(str) \n",
    "X_2020.columns = X_2020.columns.astype(str) \n",
    "X_2021.columns = X_2021.columns.astype(str) "
   ]
  },
  {
   "attachments": {},
   "cell_type": "markdown",
   "metadata": {},
   "source": [
    "## Decision Tree Classifier\n",
    "\n",
    "For each season I will create a different classifier, so that each season can be assessed individually\n",
    "These models will not include the 2021 season, even though the final model will be separate to the models created here the feature engineering means that information will possibly be extracted from the data. As such I will leave the final season out of feature engineering "
   ]
  },
  {
   "cell_type": "code",
   "execution_count": 105,
   "metadata": {},
   "outputs": [
    {
     "name": "stdout",
     "output_type": "stream",
     "text": [
      "0 0 0 0 0 0 0 0 0 0\n"
     ]
    }
   ],
   "source": [
    "print(X_2012.isnull().sum().sum(),\n",
    "X_2013.isnull().sum().sum(),\n",
    "X_2014.isnull().sum().sum(),\n",
    "X_2015.isnull().sum().sum(),\n",
    "X_2016.isnull().sum().sum(),\n",
    "X_2017.isnull().sum().sum(),\n",
    "X_2018.isnull().sum().sum(),\n",
    "X_2019.isnull().sum().sum(),\n",
    "X_2020.isnull().sum().sum(),\n",
    "X_2021.isnull().sum().sum() )"
   ]
  },
  {
   "cell_type": "code",
   "execution_count": 106,
   "metadata": {},
   "outputs": [
    {
     "name": "stdout",
     "output_type": "stream",
     "text": [
      "{'2012': 0.613472706155633}\n",
      "{'2012': 0.613472706155633, '2013': 0.6186991869918699}\n"
     ]
    },
    {
     "name": "stderr",
     "output_type": "stream",
     "text": [
      "c:\\Users\\Craig\\Documents\\Thesis\\venv\\lib\\site-packages\\sklearn\\model_selection\\_split.py:700: UserWarning: The least populated class in y has only 1 members, which is less than n_splits=5.\n",
      "  warnings.warn(\n",
      "c:\\Users\\Craig\\Documents\\Thesis\\venv\\lib\\site-packages\\sklearn\\model_selection\\_split.py:700: UserWarning: The least populated class in y has only 1 members, which is less than n_splits=5.\n",
      "  warnings.warn(\n"
     ]
    }
   ],
   "source": [
    "from sklearn.tree import DecisionTreeClassifier\n",
    "from sklearn.model_selection import cross_val_score\n",
    "\n",
    "scores = {}\n",
    "def build_dec_tree_scores(X, y, year):\n",
    "    clf = DecisionTreeClassifier(random_state=26)\n",
    "    scores_raw = clf.fit(X, y)\n",
    "    scores_raw = cross_val_score(clf, X, y)\n",
    "    scores[year] = np.mean(scores_raw)\n",
    "\n",
    "build_dec_tree_scores(X_2012, y_true_2012, '2012')\n",
    "build_dec_tree_scores(X_2013, y_true_2013, '2013')\n",
    "build_dec_tree_scores(X_2012, y_true_2012, '2014')\n",
    "build_dec_tree_scores(X_2013, y_true_2013, '2015')\n",
    "build_dec_tree_scores(X_2012, y_true_2012, '2016')\n",
    "build_dec_tree_scores(X_2013, y_true_2013, '2017')\n",
    "build_dec_tree_scores(X_2012, y_true_2012, '2018')\n",
    "build_dec_tree_scores(X_2013, y_true_2013, '2019')\n",
    "build_dec_tree_scores(X_2012, y_true_2012, '2020')\n",
    "build_dec_tree_scores(X_2013, y_true_2013, '2021')\n",
    "\n",
    "print(scores)\n",
    "# print(\"F1: {0:0.4f}\".format(np.mean(scores)))"
   ]
  },
  {
   "cell_type": "code",
   "execution_count": 16,
   "metadata": {},
   "outputs": [
    {
     "data": {
      "text/plain": [
       "0.9806763285024155"
      ]
     },
     "execution_count": 16,
     "metadata": {},
     "output_type": "execute_result"
    }
   ],
   "source": [
    "# Exploratory classifier on the original training set\n",
    "from sklearn.ensemble import RandomForestClassifier\n",
    "from sklearn.metrics import confusion_matrix, ConfusionMatrixDisplay\n",
    "m = RandomForestClassifier(n_estimators=10, n_jobs=-1)\n",
    "m.fit(X_2012, y_true_2012)\n",
    "m.score(X_2012, y_true_2012)\n",
    "\n",
    "# m.score(X_train_orig, y_train_orig)"
   ]
  },
  {
   "cell_type": "code",
   "execution_count": 17,
   "metadata": {},
   "outputs": [],
   "source": [
    "x_train_2012 = X_2012[:171]\n",
    "y_train_2012 = y_true_2012[:171]\n",
    "x_valid_2012 = X_2012[171:]\n",
    "y_valid_2012 = y_true_2012[171:]\n",
    "\n",
    "x_train_2013 = X_2013[:171]\n",
    "y_train_2013 = y_true_2013[:171]\n",
    "x_valid_2013 = X_2013[171:]\n",
    "y_valid_2013 = y_true_2013[171:]\n",
    "\n",
    "x_train_2014 = X_2014[:171]\n",
    "y_train_2014 = y_true_2014[:171]\n",
    "x_valid_2014 = X_2014[171:]\n",
    "y_valid_2014 = y_true_2014[171:]\n",
    "\n",
    "x_train_2015 = X_2015[:171]\n",
    "y_train_2015 = y_true_2015[:171]\n",
    "x_valid_2015 = X_2015[171:]\n",
    "y_valid_2015 = y_true_2015[171:]\n",
    "\n",
    "x_train_2016 = X_2016[:171]\n",
    "y_train_2016 = y_true_2016[:171]\n",
    "x_valid_2016 = X_2016[171:]\n",
    "y_valid_2016 = y_true_2016[171:]\n",
    "\n",
    "x_train_2017 = X_2017[:171]\n",
    "y_train_2017 = y_true_2017[:171]\n",
    "x_valid_2017 = X_2017[171:]\n",
    "y_valid_2017 = y_true_2017[171:]\n",
    "\n",
    "x_train_2018 = X_2018[:171]\n",
    "y_train_2018 = y_true_2018[:171]\n",
    "x_valid_2018 = X_2018[171:]\n",
    "y_valid_2018 = y_true_2018[171:]\n",
    "\n",
    "x_train_2019 = X_2019[:171]\n",
    "y_train_2019 = y_true_2019[:171]\n",
    "x_valid_2019 = X_2019[171:]\n",
    "y_valid_2019 = y_true_2019[171:]\n",
    "\n",
    "x_train_2020 = X_2020[:171]\n",
    "y_train_2020 = y_true_2020[:171]\n",
    "x_valid_2020 = X_2020[171:]\n",
    "y_valid_2020 = y_true_2020[171:]\n",
    "\n",
    "x_train_2021 = X_2021[:171]\n",
    "y_train_2021 = y_true_2021[:171]\n",
    "x_valid_2021 = X_2021[171:]\n",
    "y_valid_2021 = y_true_2021[171:]"
   ]
  },
  {
   "cell_type": "code",
   "execution_count": 29,
   "metadata": {},
   "outputs": [],
   "source": [
    "def print_score(m, train, valid, test=None):\n",
    "    # if test == None:\n",
    "        print([m.score(train, y_train_2012), m.score(valid, y_valid_2012)])\n",
    "        pred = m.predict(valid)\n",
    "        c_train = confusion_matrix(y_valid_2012, pred)\n",
    "        disp = ConfusionMatrixDisplay(c_train)\n",
    "        disp.plot()\n",
    "        plt.show()\n",
    "        # ConfusionMatrixDisplay(m, valid, y_valid_2012)\n",
    "        \n",
    "    # else:\n",
    "    #     print(m.score(X_test, y_test))\n",
    "    #     plot_confusion_matrix(m, X_test, y_test)"
   ]
  },
  {
   "cell_type": "code",
   "execution_count": 35,
   "metadata": {},
   "outputs": [
    {
     "name": "stdout",
     "output_type": "stream",
     "text": [
      "[1.0, 0.6944444444444444]\n"
     ]
    },
    {
     "data": {
      "image/png": "[encoded data removed]",
      "text/plain": [
       "<Figure size 640x480 with 2 Axes>"
      ]
     },
     "metadata": {},
     "output_type": "display_data"
    }
   ],
   "source": [
    "model_1 = RandomForestClassifier(n_estimators=100, n_jobs=-1)\n",
    "model_1.fit(x_train_2012, y_train_2012)\n",
    "print_score(model_1, x_train_2012, x_valid_2012)"
   ]
  },
  {
   "cell_type": "code",
   "execution_count": 17,
   "metadata": {},
   "outputs": [
    {
     "name": "stdout",
     "output_type": "stream",
     "text": [
      "Fitting 4 folds for each of 100 candidates, totalling 400 fits\n",
      "[0.7953216374269005, 0.6111111111111112]\n"
     ]
    },
    {
     "data": {
      "image/png": "[encoded data removed]",
      "text/plain": [
       "<Figure size 432x288 with 2 Axes>"
      ]
     },
     "metadata": {
      "needs_background": "light"
     },
     "output_type": "display_data"
    },
    {
     "data": {
      "image/png": "[encoded data removed]",
      "text/plain": [
       "<Figure size 432x288 with 2 Axes>"
      ]
     },
     "metadata": {
      "needs_background": "light"
     },
     "output_type": "display_data"
    }
   ],
   "source": [
    "from sklearn.model_selection import RandomizedSearchCV\n",
    "grid={\n",
    "    'criterion':        ['entropy','gini'],\n",
    "    'min_samples_split':[3, 5, 7, 9, 10],\n",
    "    'min_samples_leaf': [8, 9, 10, 11, 12],\n",
    "    'max_features':     [0.5, \"sqrt\", \"log2\", 0.8],\n",
    "    'n_estimators':     [10, 20, 40],\n",
    "}\n",
    "\n",
    "model_2 = RandomizedSearchCV(estimator=RandomForestClassifier(),\n",
    "                       param_distributions=grid,\n",
    "                       n_iter=100,\n",
    "                       cv=4,\n",
    "                       verbose=1,\n",
    "                       n_jobs=-1,\n",
    "                       random_state=42)\n",
    "\n",
    "model_2.fit(x_train_2012, y_train_2012)\n",
    "print_score(model_2, x_train_2012, x_valid_2012)"
   ]
  },
  {
   "cell_type": "code",
   "execution_count": 18,
   "metadata": {},
   "outputs": [
    {
     "name": "stdout",
     "output_type": "stream",
     "text": [
      "CPU times: total: 46.9 ms\n",
      "Wall time: 46 ms\n",
      "[0.8304093567251462, 0.6111111111111112]\n"
     ]
    },
    {
     "data": {
      "image/png": "[encoded data removed]",
      "text/plain": [
       "<Figure size 432x288 with 2 Axes>"
      ]
     },
     "metadata": {
      "needs_background": "light"
     },
     "output_type": "display_data"
    },
    {
     "data": {
      "image/png": "[encoded data removed]",
      "text/plain": [
       "<Figure size 432x288 with 2 Axes>"
      ]
     },
     "metadata": {
      "needs_background": "light"
     },
     "output_type": "display_data"
    }
   ],
   "source": [
    "model_2.best_estimator_\n",
    "bag_model = model_2.best_estimator_\n",
    "%time bag_model.fit(x_train_2012, y_train_2012)\n",
    "# print(bag_model)\n",
    "print_score(bag_model, x_train_2012, x_valid_2012)\n"
   ]
  },
  {
   "cell_type": "code",
   "execution_count": 19,
   "metadata": {},
   "outputs": [
    {
     "data": {
      "text/plain": [
       "(20, 36)"
      ]
     },
     "execution_count": 19,
     "metadata": {},
     "output_type": "execute_result"
    }
   ],
   "source": [
    "from sklearn import metrics\n",
    "import matplotlib.pyplot as plt\n",
    "preds = np.stack([tree.predict(x_valid_2012) for tree in bag_model.estimators_])\n",
    "preds.shape\n",
    "\n",
    "\n",
    "# plt.plot([metrics.auc(y_valid_2012, np.mean(preds[:i+1], axis=0)) for i in range(20)])"
   ]
  },
  {
   "cell_type": "code",
   "execution_count": 21,
   "metadata": {},
   "outputs": [
    {
     "data": {
      "text/plain": [
       "array([[ 1. ,  0. ,  0. , ...,  0. ,  0. ,  0. ],\n",
       "       [ 1. ,  0. ,  0. , ...,  0. ,  0. ,  0. ],\n",
       "       [ 1. ,  0. ,  0. , ...,  0. ,  0. ,  0. ],\n",
       "       ...,\n",
       "       [20. ,  0.2,  0. , ...,  0. ,  0. ,  1. ],\n",
       "       [20. ,  0.6,  1. , ...,  0. ,  0. ,  0. ],\n",
       "       [20. ,  0.6,  0. , ...,  0. ,  0. ,  0. ]])"
      ]
     },
     "execution_count": 21,
     "metadata": {},
     "output_type": "execute_result"
    }
   ],
   "source": [
    "a_2012_ohe = np.hstack([x_train_2012])\n",
    "a_valid = np.hstack([x_valid_2012])\n",
    "\n",
    "a_2012_ohe"
   ]
  },
  {
   "cell_type": "code",
   "execution_count": 31,
   "metadata": {},
   "outputs": [
    {
     "name": "stdout",
     "output_type": "stream",
     "text": [
      "CPU times: total: 62.5 ms\n",
      "Wall time: 54 ms\n",
      "[0.8011695906432749, 0.6666666666666666]\n"
     ]
    },
    {
     "data": {
      "image/png": "[encoded data removed]",
      "text/plain": [
       "<Figure size 432x288 with 2 Axes>"
      ]
     },
     "metadata": {
      "needs_background": "light"
     },
     "output_type": "display_data"
    },
    {
     "data": {
      "image/png": "[encoded data removed]",
      "text/plain": [
       "<Figure size 432x288 with 2 Axes>"
      ]
     },
     "metadata": {
      "needs_background": "light"
     },
     "output_type": "display_data"
    }
   ],
   "source": [
    "model_2.best_estimator_\n",
    "s_model = model_2.best_estimator_\n",
    "%time s_model.fit(a_2012_ohe, y_train_2012)\n",
    "# print(bag_model)\n",
    "print_score(bag_model, a_2012_ohe, a_valid)"
   ]
  },
  {
   "cell_type": "code",
   "execution_count": 36,
   "metadata": {},
   "outputs": [],
   "source": [
    "\n",
    "import seaborn as sns\n",
    "y_proba = model_2.predict_proba(x_valid_2012)\n"
   ]
  },
  {
   "cell_type": "code",
   "execution_count": 29,
   "metadata": {},
   "outputs": [],
   "source": [
    "from treeinterpreter import treeinterpreter as ti"
   ]
  },
  {
   "cell_type": "code",
   "execution_count": 236,
   "metadata": {},
   "outputs": [
    {
     "data": {
      "text/plain": [
       "array([[  21.        ,    4.        ,    0.        ,    1.        ,\n",
       "           0.        ,    1.        ,    5.        ,    3.        ,\n",
       "        -654.        , -122.        ,  -31.05780303,  -12.30631313,\n",
       "          70.54545455,   78.79545455,   76.75340909,   74.60189394,\n",
       "          77.03858717,   74.92258953,    0.        ,    0.        ,\n",
       "           0.        ,    0.        ,    0.        ,    0.        ,\n",
       "           1.        ,    0.        ,    0.        ,    0.        ,\n",
       "           0.        ,    0.        ,    0.        ,    0.        ,\n",
       "           0.        ,    0.        ,    0.        ,    0.        ,\n",
       "           0.        ,    0.        ,    0.        ,    0.        ,\n",
       "           0.        ,    0.        ,    0.        ,    0.        ,\n",
       "           0.        ,    0.        ,    0.        ,    0.        ,\n",
       "           0.        ,    0.        ,    1.        ,    0.        ,\n",
       "           0.        ,    0.        ,    0.        ,    0.        ,\n",
       "           0.        ,    0.        ,    0.        ,    1.        ,\n",
       "           0.        ,    0.        ,    0.        ,    0.        ,\n",
       "           0.        ,    0.        ,    0.        ,    0.        ,\n",
       "           0.        ,    0.        ,    0.        ,    0.        ,\n",
       "           0.        ,    0.        ,    0.        ,    0.        ,\n",
       "           0.        ]])"
      ]
     },
     "execution_count": 236,
     "metadata": {},
     "output_type": "execute_result"
    }
   ],
   "source": [
    "row = x_valid_2012.values[None,0]\n",
    "row"
   ]
  },
  {
   "cell_type": "code",
   "execution_count": 30,
   "metadata": {},
   "outputs": [],
   "source": [
    "# fastai\n",
    "def rf_feat_importance(m, df):\n",
    "    return pd.DataFrame({'cols':df.columns, 'imp':m.feature_importances_}\n",
    "                       ).sort_values('imp', ascending=False)"
   ]
  },
  {
   "cell_type": "code",
   "execution_count": 31,
   "metadata": {},
   "outputs": [
    {
     "data": {
      "text/plain": [
       "<AxesSubplot: xlabel='cols'>"
      ]
     },
     "execution_count": 31,
     "metadata": {},
     "output_type": "execute_result"
    },
    {
     "data": {
      "image/png": "[encoded data removed]",
      "text/plain": [
       "<Figure size 720x432 with 1 Axes>"
      ]
     },
     "metadata": {
      "needs_background": "light"
     },
     "output_type": "display_data"
    }
   ],
   "source": [
    "fi = rf_feat_importance(bag_model , x_train_2012)\n",
    "fi.plot('cols', 'imp', 'bar', figsize=(10,6))"
   ]
  },
  {
   "cell_type": "code",
   "execution_count": 32,
   "metadata": {},
   "outputs": [
    {
     "data": {
      "text/html": [
       "<div>\n",
       "<style scoped>\n",
       "    .dataframe tbody tr th:only-of-type {\n",
       "        vertical-align: middle;\n",
       "    }\n",
       "\n",
       "    .dataframe tbody tr th {\n",
       "        vertical-align: top;\n",
       "    }\n",
       "\n",
       "    .dataframe thead th {\n",
       "        text-align: right;\n",
       "    }\n",
       "</style>\n",
       "<table border=\"1\" class=\"dataframe\">\n",
       "  <thead>\n",
       "    <tr style=\"text-align: right;\">\n",
       "      <th></th>\n",
       "      <th>cols</th>\n",
       "      <th>imp</th>\n",
       "    </tr>\n",
       "  </thead>\n",
       "  <tbody>\n",
       "    <tr>\n",
       "      <th>14</th>\n",
       "      <td>homeTeamImportanceLastFiveGames</td>\n",
       "      <td>0.136748</td>\n",
       "    </tr>\n",
       "    <tr>\n",
       "      <th>16</th>\n",
       "      <td>homeTeamImportanceSeasonAverage</td>\n",
       "      <td>0.134038</td>\n",
       "    </tr>\n",
       "    <tr>\n",
       "      <th>17</th>\n",
       "      <td>awayTeamImportanceSeasonAverage</td>\n",
       "      <td>0.129754</td>\n",
       "    </tr>\n",
       "    <tr>\n",
       "      <th>19</th>\n",
       "      <td>awayLadderPosition</td>\n",
       "      <td>0.103170</td>\n",
       "    </tr>\n",
       "    <tr>\n",
       "      <th>18</th>\n",
       "      <td>homeLadderPosition</td>\n",
       "      <td>0.099590</td>\n",
       "    </tr>\n",
       "    <tr>\n",
       "      <th>15</th>\n",
       "      <td>awayTeamImportanceLastFiveGames</td>\n",
       "      <td>0.063920</td>\n",
       "    </tr>\n",
       "    <tr>\n",
       "      <th>12</th>\n",
       "      <td>homeTeamImportanceLastGame</td>\n",
       "      <td>0.060180</td>\n",
       "    </tr>\n",
       "    <tr>\n",
       "      <th>13</th>\n",
       "      <td>awayTeamImportanceLastGame</td>\n",
       "      <td>0.057374</td>\n",
       "    </tr>\n",
       "    <tr>\n",
       "      <th>9</th>\n",
       "      <td>awayGameDifference</td>\n",
       "      <td>0.034523</td>\n",
       "    </tr>\n",
       "    <tr>\n",
       "      <th>2</th>\n",
       "      <td>homeTeamLastWin</td>\n",
       "      <td>0.028725</td>\n",
       "    </tr>\n",
       "    <tr>\n",
       "      <th>11</th>\n",
       "      <td>awayTeamImportanceDifference</td>\n",
       "      <td>0.021362</td>\n",
       "    </tr>\n",
       "    <tr>\n",
       "      <th>0</th>\n",
       "      <td>round</td>\n",
       "      <td>0.020947</td>\n",
       "    </tr>\n",
       "    <tr>\n",
       "      <th>1</th>\n",
       "      <td>rainfall</td>\n",
       "      <td>0.018789</td>\n",
       "    </tr>\n",
       "    <tr>\n",
       "      <th>7</th>\n",
       "      <td>awayTeamChanges</td>\n",
       "      <td>0.017311</td>\n",
       "    </tr>\n",
       "    <tr>\n",
       "      <th>8</th>\n",
       "      <td>homeGameDifference</td>\n",
       "      <td>0.016634</td>\n",
       "    </tr>\n",
       "  </tbody>\n",
       "</table>\n",
       "</div>"
      ],
      "text/plain": [
       "                               cols       imp\n",
       "14  homeTeamImportanceLastFiveGames  0.136748\n",
       "16  homeTeamImportanceSeasonAverage  0.134038\n",
       "17  awayTeamImportanceSeasonAverage  0.129754\n",
       "19               awayLadderPosition  0.103170\n",
       "18               homeLadderPosition  0.099590\n",
       "15  awayTeamImportanceLastFiveGames  0.063920\n",
       "12       homeTeamImportanceLastGame  0.060180\n",
       "13       awayTeamImportanceLastGame  0.057374\n",
       "9                awayGameDifference  0.034523\n",
       "2                   homeTeamLastWin  0.028725\n",
       "11     awayTeamImportanceDifference  0.021362\n",
       "0                             round  0.020947\n",
       "1                          rainfall  0.018789\n",
       "7                   awayTeamChanges  0.017311\n",
       "8                homeGameDifference  0.016634"
      ]
     },
     "execution_count": 32,
     "metadata": {},
     "output_type": "execute_result"
    }
   ],
   "source": [
    "fi[:15]"
   ]
  },
  {
   "cell_type": "code",
   "execution_count": 264,
   "metadata": {},
   "outputs": [],
   "source": [
    "f = fi[:15].cols\n",
    "cut_train_2012 = x_train_2012[f]\n",
    "cut_valid_2012 = x_valid_2012[f]"
   ]
  },
  {
   "cell_type": "code",
   "execution_count": 269,
   "metadata": {},
   "outputs": [
    {
     "name": "stdout",
     "output_type": "stream",
     "text": [
      "CPU times: total: 46.9 ms\n",
      "Wall time: 37 ms\n",
      "[0.7543859649122807, 0.5277777777777778]\n"
     ]
    },
    {
     "data": {
      "image/png": "[encoded data removed]",
      "text/plain": [
       "<Figure size 432x288 with 2 Axes>"
      ]
     },
     "metadata": {
      "needs_background": "light"
     },
     "output_type": "display_data"
    },
    {
     "data": {
      "image/png": "[encoded data removed]",
      "text/plain": [
       "<Figure size 432x288 with 2 Axes>"
      ]
     },
     "metadata": {
      "needs_background": "light"
     },
     "output_type": "display_data"
    }
   ],
   "source": [
    "model_3 = model_2.best_estimator_\n",
    "%time model_3.fit(cut_train_2012, y_train_2012)\n",
    "print_score(model_3, cut_train_2012, cut_valid_2012)"
   ]
  },
  {
   "cell_type": "code",
   "execution_count": 270,
   "metadata": {},
   "outputs": [
    {
     "data": {
      "text/plain": [
       "<AxesSubplot: xlabel='cols'>"
      ]
     },
     "execution_count": 270,
     "metadata": {},
     "output_type": "execute_result"
    },
    {
     "data": {
      "image/png": "[encoded data removed]",
      "text/plain": [
       "<Figure size 720x432 with 1 Axes>"
      ]
     },
     "metadata": {
      "needs_background": "light"
     },
     "output_type": "display_data"
    }
   ],
   "source": [
    "fi2 = rf_feat_importance(model_3 , cut_train_2012)\n",
    "fi2.plot('cols', 'imp', 'bar', figsize=(10,6))"
   ]
  },
  {
   "cell_type": "code",
   "execution_count": 273,
   "metadata": {},
   "outputs": [
    {
     "data": {
      "text/plain": [
       "(                               cols       imp\n",
       " 0   homeTeamImportanceSeasonAverage  0.217392\n",
       " 5        homeTeamImportanceLastGame  0.192673\n",
       " 2   homeTeamImportanceLastFiveGames  0.183161\n",
       " 4   awayTeamImportanceLastFiveGames  0.079573\n",
       " 3        awayTeamImportanceLastGame  0.078027\n",
       " 1   awayTeamImportanceSeasonAverage  0.063340\n",
       " 9                          rainfall  0.042061\n",
       " 12                       awayTravel  0.029928\n",
       " 11                  homeTeamChanges  0.026768\n",
       " 6      awayTeamImportanceDifference  0.022361\n",
       " 10                            round  0.021075\n",
       " 8      homeTeamImportanceDifference  0.020518\n",
       " 7                homeGameDifference  0.014190\n",
       " 14                  awayTeamChanges  0.008933\n",
       " 13                           M.C.G.  0.000000,\n",
       "                                cols       imp\n",
       " 16  homeTeamImportanceSeasonAverage  0.249332\n",
       " 17  awayTeamImportanceSeasonAverage  0.148865\n",
       " 14  homeTeamImportanceLastFiveGames  0.141792\n",
       " 13       awayTeamImportanceLastGame  0.139611\n",
       " 15  awayTeamImportanceLastFiveGames  0.128556\n",
       " 12       homeTeamImportanceLastGame  0.050749\n",
       " 11     awayTeamImportanceDifference  0.041677\n",
       " 8                homeGameDifference  0.032314\n",
       " 10     homeTeamImportanceDifference  0.017549\n",
       " 1                          rainfall  0.016405\n",
       " 0                             round  0.014454\n",
       " 6                   homeTeamChanges  0.005622\n",
       " 4                        awayTravel  0.005601\n",
       " 65                           M.C.G.  0.004817\n",
       " 7                   awayTeamChanges  0.002656)"
      ]
     },
     "execution_count": 273,
     "metadata": {},
     "output_type": "execute_result"
    }
   ],
   "source": [
    "fi2, fi[:15]"
   ]
  },
  {
   "cell_type": "code",
   "execution_count": 239,
   "metadata": {},
   "outputs": [
    {
     "data": {
      "text/plain": [
       "(0.09999999999999999, 0.4420289855072464)"
      ]
     },
     "execution_count": 239,
     "metadata": {},
     "output_type": "execute_result"
    }
   ],
   "source": [
    "prediction, bias, contributions = ti.predict(m, row)\n",
    "prediction[0][0], bias[0][0]"
   ]
  },
  {
   "cell_type": "code",
   "execution_count": 240,
   "metadata": {},
   "outputs": [
    {
     "data": {
      "text/plain": [
       "array([[[-2.06721140e-02,  0.00000000e+00,  2.06721140e-02],\n",
       "        [ 3.14857825e-03,  1.43673172e-04, -3.29225142e-03],\n",
       "        [-2.50000000e-02,  0.00000000e+00,  2.50000000e-02],\n",
       "        [ 9.85252988e-03, -4.83091787e-04, -9.36943809e-03],\n",
       "        [-1.02007470e-02,  0.00000000e+00,  1.02007470e-02],\n",
       "        [ 0.00000000e+00,  0.00000000e+00,  0.00000000e+00],\n",
       "        [ 1.79219378e-02, -1.94174757e-03, -1.59801903e-02],\n",
       "        [ 7.72347131e-03,  3.89488913e-04, -8.11296022e-03],\n",
       "        [ 2.40086384e-02, -2.27272727e-03, -2.17359111e-02],\n",
       "        [-5.12266569e-03,  1.27425566e-03,  3.84841003e-03],\n",
       "        [-5.73416972e-02,  6.29185326e-04,  5.67125119e-02],\n",
       "        [-2.31609503e-02,  0.00000000e+00,  2.31609503e-02],\n",
       "        [-6.61863085e-02, -1.61122254e-03,  6.77975311e-02],\n",
       "        [ 4.20972895e-02,  1.28374805e-04, -4.22256644e-02],\n",
       "        [-7.03868449e-02,  1.06418109e-03,  6.93226638e-02],\n",
       "        [-6.37841823e-02, -1.28205128e-03,  6.50662336e-02],\n",
       "        [-2.88293640e-02,  5.21406127e-04,  2.83079579e-02],\n",
       "        [-8.42874682e-02,  0.00000000e+00,  8.42874682e-02],\n",
       "        [ 0.00000000e+00,  0.00000000e+00,  0.00000000e+00],\n",
       "        [-2.84900285e-03,  0.00000000e+00,  2.84900285e-03],\n",
       "        [-4.06250000e-03,  0.00000000e+00,  4.06250000e-03],\n",
       "        [ 0.00000000e+00,  0.00000000e+00,  0.00000000e+00],\n",
       "        [ 0.00000000e+00,  0.00000000e+00,  0.00000000e+00],\n",
       "        [ 0.00000000e+00,  0.00000000e+00,  0.00000000e+00],\n",
       "        [ 0.00000000e+00,  0.00000000e+00,  0.00000000e+00],\n",
       "        [ 0.00000000e+00,  0.00000000e+00,  0.00000000e+00],\n",
       "        [ 0.00000000e+00,  0.00000000e+00,  0.00000000e+00],\n",
       "        [ 4.93101686e-03,  0.00000000e+00, -4.93101686e-03],\n",
       "        [-6.55954664e-03,  3.23721301e-05,  6.52717451e-03],\n",
       "        [ 9.28032610e-03,  0.00000000e+00, -9.28032610e-03],\n",
       "        [-2.33333333e-03,  0.00000000e+00,  2.33333333e-03],\n",
       "        [-1.68498168e-03, -1.28205128e-03,  2.96703297e-03],\n",
       "        [-3.53513357e-03,  0.00000000e+00,  3.53513357e-03],\n",
       "        [-5.04347826e-03,  0.00000000e+00,  5.04347826e-03],\n",
       "        [ 0.00000000e+00,  0.00000000e+00,  0.00000000e+00],\n",
       "        [-6.87823156e-03,  1.52636481e-04,  6.72559508e-03],\n",
       "        [ 0.00000000e+00,  0.00000000e+00,  0.00000000e+00],\n",
       "        [-5.71428571e-03,  0.00000000e+00,  5.71428571e-03],\n",
       "        [-2.48203055e-03,  0.00000000e+00,  2.48203055e-03],\n",
       "        [ 0.00000000e+00,  0.00000000e+00,  0.00000000e+00],\n",
       "        [ 0.00000000e+00,  0.00000000e+00,  0.00000000e+00],\n",
       "        [ 0.00000000e+00,  0.00000000e+00,  0.00000000e+00],\n",
       "        [ 1.66666667e-02,  0.00000000e+00, -1.66666667e-02],\n",
       "        [ 7.72336886e-03,  4.31953004e-05, -7.76656416e-03],\n",
       "        [ 0.00000000e+00,  0.00000000e+00,  0.00000000e+00],\n",
       "        [-9.56572298e-03,  1.66246433e-05,  9.54909833e-03],\n",
       "        [ 0.00000000e+00,  0.00000000e+00,  0.00000000e+00],\n",
       "        [ 0.00000000e+00,  0.00000000e+00,  0.00000000e+00],\n",
       "        [ 0.00000000e+00,  0.00000000e+00,  0.00000000e+00],\n",
       "        [ 0.00000000e+00,  0.00000000e+00,  0.00000000e+00],\n",
       "        [ 0.00000000e+00,  0.00000000e+00,  0.00000000e+00],\n",
       "        [ 0.00000000e+00,  0.00000000e+00,  0.00000000e+00],\n",
       "        [ 0.00000000e+00,  0.00000000e+00,  0.00000000e+00],\n",
       "        [ 2.88075261e-03,  1.29672006e-04, -3.01042461e-03],\n",
       "        [ 0.00000000e+00,  0.00000000e+00,  0.00000000e+00],\n",
       "        [ 0.00000000e+00,  0.00000000e+00,  0.00000000e+00],\n",
       "        [ 0.00000000e+00,  0.00000000e+00,  0.00000000e+00],\n",
       "        [ 0.00000000e+00,  0.00000000e+00,  0.00000000e+00],\n",
       "        [ 0.00000000e+00,  0.00000000e+00,  0.00000000e+00],\n",
       "        [-3.33333333e-02,  0.00000000e+00,  3.33333333e-02],\n",
       "        [ 0.00000000e+00,  0.00000000e+00,  0.00000000e+00],\n",
       "        [-3.53535354e-03,  0.00000000e+00,  3.53535354e-03],\n",
       "        [ 0.00000000e+00,  0.00000000e+00,  0.00000000e+00],\n",
       "        [ 0.00000000e+00,  0.00000000e+00,  0.00000000e+00],\n",
       "        [ 0.00000000e+00,  0.00000000e+00,  0.00000000e+00],\n",
       "        [ 0.00000000e+00,  0.00000000e+00,  0.00000000e+00],\n",
       "        [ 0.00000000e+00,  0.00000000e+00,  0.00000000e+00],\n",
       "        [ 0.00000000e+00,  0.00000000e+00,  0.00000000e+00],\n",
       "        [ 0.00000000e+00,  0.00000000e+00,  0.00000000e+00],\n",
       "        [ 0.00000000e+00,  0.00000000e+00,  0.00000000e+00],\n",
       "        [ 0.00000000e+00,  0.00000000e+00,  0.00000000e+00],\n",
       "        [ 0.00000000e+00,  0.00000000e+00,  0.00000000e+00],\n",
       "        [ 5.42857143e-02,  0.00000000e+00, -5.42857143e-02],\n",
       "        [ 0.00000000e+00,  0.00000000e+00,  0.00000000e+00],\n",
       "        [ 0.00000000e+00,  0.00000000e+00,  0.00000000e+00],\n",
       "        [ 0.00000000e+00,  0.00000000e+00,  0.00000000e+00],\n",
       "        [ 0.00000000e+00,  0.00000000e+00,  0.00000000e+00]]])"
      ]
     },
     "execution_count": 240,
     "metadata": {},
     "output_type": "execute_result"
    }
   ],
   "source": [
    "contributions"
   ]
  },
  {
   "cell_type": "code",
   "execution_count": 241,
   "metadata": {},
   "outputs": [
    {
     "data": {
      "text/plain": [
       "array([17, 14, 12, 15, 10, 59, 16,  2, 11,  0,  4, 45, 35, 28, 37,  9, 33,\n",
       "       20, 61, 32, 19, 38, 30, 31, 22, 50, 51, 52, 54, 55, 56, 57, 58, 60,\n",
       "       62, 64, 21, 65, 66, 67, 68, 69, 70, 71, 73, 74, 63, 48, 49, 46, 23,\n",
       "       24, 25, 26, 18, 34, 47, 75, 36, 76,  5, 40, 41, 44, 39, 53,  1, 27,\n",
       "       43,  7, 29,  3, 42,  6,  8, 13, 72], dtype=int64)"
      ]
     },
     "execution_count": 241,
     "metadata": {},
     "output_type": "execute_result"
    }
   ],
   "source": [
    "idxs = np.argsort(contributions[0][:,0])\n",
    "idxs"
   ]
  },
  {
   "cell_type": "code",
   "execution_count": 243,
   "metadata": {},
   "outputs": [
    {
     "ename": "KeyError",
     "evalue": "'[59, 45, 37, 61, 38, 50, 51, 52, 54, 55, 56, 57, 58, 60, 62, 64, 65, 66, 67, 68, 69, 70, 71, 73, 74, 63, 48, 49, 46, 47, 75, 36, 76, 40, 41, 44, 39, 53, 43, 42, 72] not in index'",
     "output_type": "error",
     "traceback": [
      "\u001b[1;31m---------------------------------------------------------------------------\u001b[0m",
      "\u001b[1;31mKeyError\u001b[0m                                  Traceback (most recent call last)",
      "\u001b[1;32mc:\\Users\\Craig\\Documents\\Thesis\\Thomas_Gallagher_Thesis\\Data\\AFL_Stats\\FeatureEngineering.ipynb Cell 33\u001b[0m in \u001b[0;36m<cell line: 1>\u001b[1;34m()\u001b[0m\n\u001b[1;32m----> <a href='vscode-notebook-cell:/c%3A/Users/Craig/Documents/Thesis/Thomas_Gallagher_Thesis/Data/AFL_Stats/FeatureEngineering.ipynb#Y120sZmlsZQ%3D%3D?line=0'>1</a>\u001b[0m pd\u001b[39m.\u001b[39mDataFrame( [o \u001b[39mfor\u001b[39;00m o \u001b[39min\u001b[39;00m \u001b[39mzip\u001b[39m(x_valid_2012\u001b[39m.\u001b[39mcolumns[idxs], x_valid_2012\u001b[39m.\u001b[39;49miloc[\u001b[39m0\u001b[39;49m][idxs], contributions[\u001b[39m0\u001b[39m][:,\u001b[39m0\u001b[39m][idxs])] )\n",
      "File \u001b[1;32m~\\AppData\\Local\\Packages\\PythonSoftwareFoundation.Python.3.9_qbz5n2kfra8p0\\LocalCache\\local-packages\\Python39\\site-packages\\pandas\\core\\series.py:984\u001b[0m, in \u001b[0;36mSeries.__getitem__\u001b[1;34m(self, key)\u001b[0m\n\u001b[0;32m    981\u001b[0m     key \u001b[39m=\u001b[39m np\u001b[39m.\u001b[39masarray(key, dtype\u001b[39m=\u001b[39m\u001b[39mbool\u001b[39m)\n\u001b[0;32m    982\u001b[0m     \u001b[39mreturn\u001b[39;00m \u001b[39mself\u001b[39m\u001b[39m.\u001b[39m_get_values(key)\n\u001b[1;32m--> 984\u001b[0m \u001b[39mreturn\u001b[39;00m \u001b[39mself\u001b[39;49m\u001b[39m.\u001b[39;49m_get_with(key)\n",
      "File \u001b[1;32m~\\AppData\\Local\\Packages\\PythonSoftwareFoundation.Python.3.9_qbz5n2kfra8p0\\LocalCache\\local-packages\\Python39\\site-packages\\pandas\\core\\series.py:1019\u001b[0m, in \u001b[0;36mSeries._get_with\u001b[1;34m(self, key)\u001b[0m\n\u001b[0;32m   1015\u001b[0m \u001b[39mif\u001b[39;00m key_type \u001b[39m==\u001b[39m \u001b[39m\"\u001b[39m\u001b[39minteger\u001b[39m\u001b[39m\"\u001b[39m:\n\u001b[0;32m   1016\u001b[0m     \u001b[39m# We need to decide whether to treat this as a positional indexer\u001b[39;00m\n\u001b[0;32m   1017\u001b[0m     \u001b[39m#  (i.e. self.iloc) or label-based (i.e. self.loc)\u001b[39;00m\n\u001b[0;32m   1018\u001b[0m     \u001b[39mif\u001b[39;00m \u001b[39mnot\u001b[39;00m \u001b[39mself\u001b[39m\u001b[39m.\u001b[39mindex\u001b[39m.\u001b[39m_should_fallback_to_positional:\n\u001b[1;32m-> 1019\u001b[0m         \u001b[39mreturn\u001b[39;00m \u001b[39mself\u001b[39;49m\u001b[39m.\u001b[39;49mloc[key]\n\u001b[0;32m   1020\u001b[0m     \u001b[39melse\u001b[39;00m:\n\u001b[0;32m   1021\u001b[0m         \u001b[39mreturn\u001b[39;00m \u001b[39mself\u001b[39m\u001b[39m.\u001b[39miloc[key]\n",
      "File \u001b[1;32m~\\AppData\\Local\\Packages\\PythonSoftwareFoundation.Python.3.9_qbz5n2kfra8p0\\LocalCache\\local-packages\\Python39\\site-packages\\pandas\\core\\indexing.py:967\u001b[0m, in \u001b[0;36m_LocationIndexer.__getitem__\u001b[1;34m(self, key)\u001b[0m\n\u001b[0;32m    964\u001b[0m axis \u001b[39m=\u001b[39m \u001b[39mself\u001b[39m\u001b[39m.\u001b[39maxis \u001b[39mor\u001b[39;00m \u001b[39m0\u001b[39m\n\u001b[0;32m    966\u001b[0m maybe_callable \u001b[39m=\u001b[39m com\u001b[39m.\u001b[39mapply_if_callable(key, \u001b[39mself\u001b[39m\u001b[39m.\u001b[39mobj)\n\u001b[1;32m--> 967\u001b[0m \u001b[39mreturn\u001b[39;00m \u001b[39mself\u001b[39;49m\u001b[39m.\u001b[39;49m_getitem_axis(maybe_callable, axis\u001b[39m=\u001b[39;49maxis)\n",
      "File \u001b[1;32m~\\AppData\\Local\\Packages\\PythonSoftwareFoundation.Python.3.9_qbz5n2kfra8p0\\LocalCache\\local-packages\\Python39\\site-packages\\pandas\\core\\indexing.py:1191\u001b[0m, in \u001b[0;36m_LocIndexer._getitem_axis\u001b[1;34m(self, key, axis)\u001b[0m\n\u001b[0;32m   1188\u001b[0m     \u001b[39mif\u001b[39;00m \u001b[39mhasattr\u001b[39m(key, \u001b[39m\"\u001b[39m\u001b[39mndim\u001b[39m\u001b[39m\"\u001b[39m) \u001b[39mand\u001b[39;00m key\u001b[39m.\u001b[39mndim \u001b[39m>\u001b[39m \u001b[39m1\u001b[39m:\n\u001b[0;32m   1189\u001b[0m         \u001b[39mraise\u001b[39;00m \u001b[39mValueError\u001b[39;00m(\u001b[39m\"\u001b[39m\u001b[39mCannot index with multidimensional key\u001b[39m\u001b[39m\"\u001b[39m)\n\u001b[1;32m-> 1191\u001b[0m     \u001b[39mreturn\u001b[39;00m \u001b[39mself\u001b[39;49m\u001b[39m.\u001b[39;49m_getitem_iterable(key, axis\u001b[39m=\u001b[39;49maxis)\n\u001b[0;32m   1193\u001b[0m \u001b[39m# nested tuple slicing\u001b[39;00m\n\u001b[0;32m   1194\u001b[0m \u001b[39mif\u001b[39;00m is_nested_tuple(key, labels):\n",
      "File \u001b[1;32m~\\AppData\\Local\\Packages\\PythonSoftwareFoundation.Python.3.9_qbz5n2kfra8p0\\LocalCache\\local-packages\\Python39\\site-packages\\pandas\\core\\indexing.py:1132\u001b[0m, in \u001b[0;36m_LocIndexer._getitem_iterable\u001b[1;34m(self, key, axis)\u001b[0m\n\u001b[0;32m   1129\u001b[0m \u001b[39mself\u001b[39m\u001b[39m.\u001b[39m_validate_key(key, axis)\n\u001b[0;32m   1131\u001b[0m \u001b[39m# A collection of keys\u001b[39;00m\n\u001b[1;32m-> 1132\u001b[0m keyarr, indexer \u001b[39m=\u001b[39m \u001b[39mself\u001b[39;49m\u001b[39m.\u001b[39;49m_get_listlike_indexer(key, axis)\n\u001b[0;32m   1133\u001b[0m \u001b[39mreturn\u001b[39;00m \u001b[39mself\u001b[39m\u001b[39m.\u001b[39mobj\u001b[39m.\u001b[39m_reindex_with_indexers(\n\u001b[0;32m   1134\u001b[0m     {axis: [keyarr, indexer]}, copy\u001b[39m=\u001b[39m\u001b[39mTrue\u001b[39;00m, allow_dups\u001b[39m=\u001b[39m\u001b[39mTrue\u001b[39;00m\n\u001b[0;32m   1135\u001b[0m )\n",
      "File \u001b[1;32m~\\AppData\\Local\\Packages\\PythonSoftwareFoundation.Python.3.9_qbz5n2kfra8p0\\LocalCache\\local-packages\\Python39\\site-packages\\pandas\\core\\indexing.py:1327\u001b[0m, in \u001b[0;36m_LocIndexer._get_listlike_indexer\u001b[1;34m(self, key, axis)\u001b[0m\n\u001b[0;32m   1324\u001b[0m ax \u001b[39m=\u001b[39m \u001b[39mself\u001b[39m\u001b[39m.\u001b[39mobj\u001b[39m.\u001b[39m_get_axis(axis)\n\u001b[0;32m   1325\u001b[0m axis_name \u001b[39m=\u001b[39m \u001b[39mself\u001b[39m\u001b[39m.\u001b[39mobj\u001b[39m.\u001b[39m_get_axis_name(axis)\n\u001b[1;32m-> 1327\u001b[0m keyarr, indexer \u001b[39m=\u001b[39m ax\u001b[39m.\u001b[39;49m_get_indexer_strict(key, axis_name)\n\u001b[0;32m   1329\u001b[0m \u001b[39mreturn\u001b[39;00m keyarr, indexer\n",
      "File \u001b[1;32m~\\AppData\\Local\\Packages\\PythonSoftwareFoundation.Python.3.9_qbz5n2kfra8p0\\LocalCache\\local-packages\\Python39\\site-packages\\pandas\\core\\indexes\\base.py:5782\u001b[0m, in \u001b[0;36mIndex._get_indexer_strict\u001b[1;34m(self, key, axis_name)\u001b[0m\n\u001b[0;32m   5779\u001b[0m \u001b[39melse\u001b[39;00m:\n\u001b[0;32m   5780\u001b[0m     keyarr, indexer, new_indexer \u001b[39m=\u001b[39m \u001b[39mself\u001b[39m\u001b[39m.\u001b[39m_reindex_non_unique(keyarr)\n\u001b[1;32m-> 5782\u001b[0m \u001b[39mself\u001b[39;49m\u001b[39m.\u001b[39;49m_raise_if_missing(keyarr, indexer, axis_name)\n\u001b[0;32m   5784\u001b[0m keyarr \u001b[39m=\u001b[39m \u001b[39mself\u001b[39m\u001b[39m.\u001b[39mtake(indexer)\n\u001b[0;32m   5785\u001b[0m \u001b[39mif\u001b[39;00m \u001b[39misinstance\u001b[39m(key, Index):\n\u001b[0;32m   5786\u001b[0m     \u001b[39m# GH 42790 - Preserve name from an Index\u001b[39;00m\n",
      "File \u001b[1;32m~\\AppData\\Local\\Packages\\PythonSoftwareFoundation.Python.3.9_qbz5n2kfra8p0\\LocalCache\\local-packages\\Python39\\site-packages\\pandas\\core\\indexes\\base.py:5845\u001b[0m, in \u001b[0;36mIndex._raise_if_missing\u001b[1;34m(self, key, indexer, axis_name)\u001b[0m\n\u001b[0;32m   5842\u001b[0m     \u001b[39mraise\u001b[39;00m \u001b[39mKeyError\u001b[39;00m(\u001b[39mf\u001b[39m\u001b[39m\"\u001b[39m\u001b[39mNone of [\u001b[39m\u001b[39m{\u001b[39;00mkey\u001b[39m}\u001b[39;00m\u001b[39m] are in the [\u001b[39m\u001b[39m{\u001b[39;00maxis_name\u001b[39m}\u001b[39;00m\u001b[39m]\u001b[39m\u001b[39m\"\u001b[39m)\n\u001b[0;32m   5844\u001b[0m not_found \u001b[39m=\u001b[39m \u001b[39mlist\u001b[39m(ensure_index(key)[missing_mask\u001b[39m.\u001b[39mnonzero()[\u001b[39m0\u001b[39m]]\u001b[39m.\u001b[39munique())\n\u001b[1;32m-> 5845\u001b[0m \u001b[39mraise\u001b[39;00m \u001b[39mKeyError\u001b[39;00m(\u001b[39mf\u001b[39m\u001b[39m\"\u001b[39m\u001b[39m{\u001b[39;00mnot_found\u001b[39m}\u001b[39;00m\u001b[39m not in index\u001b[39m\u001b[39m\"\u001b[39m)\n",
      "\u001b[1;31mKeyError\u001b[0m: '[59, 45, 37, 61, 38, 50, 51, 52, 54, 55, 56, 57, 58, 60, 62, 64, 65, 66, 67, 68, 69, 70, 71, 73, 74, 63, 48, 49, 46, 47, 75, 36, 76, 40, 41, 44, 39, 53, 43, 42, 72] not in index'"
     ]
    }
   ],
   "source": [
    "pd.DataFrame( [o for o in zip(x_valid_2012.columns[idxs], x_valid_2012.iloc[0][idxs], contributions[0][:,0][idxs])] )"
   ]
  },
  {
   "attachments": {},
   "cell_type": "markdown",
   "metadata": {},
   "source": []
  }
 ],
 "metadata": {
  "kernelspec": {
   "display_name": "venv",
   "language": "python",
   "name": "python3"
  },
  "language_info": {
   "codemirror_mode": {
    "name": "ipython",
    "version": 3
   },
   "file_extension": ".py",
   "mimetype": "text/x-python",
   "name": "python",
   "nbconvert_exporter": "python",
   "pygments_lexer": "ipython3",
   "version": "3.9.13"
  },
  "orig_nbformat": 4,
  "vscode": {
   "interpreter": {
    "hash": "afd8bbf76cc8f66cb6213c8ab916f8a134e63b6f70cbd0f147b7ecd8cc749dd8"
   }
  }
 },
 "nbformat": 4,
 "nbformat_minor": 2
}
