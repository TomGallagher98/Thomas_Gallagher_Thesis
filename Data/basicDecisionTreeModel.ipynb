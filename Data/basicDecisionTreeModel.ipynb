{
 "cells": [
  {
   "cell_type": "code",
   "execution_count": 1,
   "metadata": {},
   "outputs": [
    {
     "name": "stdout",
     "output_type": "stream",
     "text": [
      "Activating ipynb\n",
      "C:/Users/Craig/Documents/Thesis/Thomas_Gallagher_Thesis/Data/AFL_Stats_sorted/games_sorted.csv\n"
     ]
    }
   ],
   "source": [
    "print(\"Activating ipynb\")\n",
    "import os \n",
    "import numpy as np\n",
    "import pandas as pd\n",
    "\n",
    "games_folder_path = \"C:/Users/Craig/Documents/Thesis/Thomas_Gallagher_Thesis/Data/AFL_Stats_sorted/Year/Games/\"\n",
    "years = [x for x in range(2012,2022)]\n",
    "for year in years:\n",
    "    exec(f'games_filename_{year} = \"C:/Users/Craig/Documents/Thesis/Thomas_Gallagher_Thesis/Data/AFL_Stats_sorted/Year/Games/{year}.csv\"')\n",
    "    # exec(f'games_filename_{year} = {os.path.join(games_folder_path, f\"{year}.csv\")}')\n",
    "all_games = os.path.join(\"C:/Users/Craig/Documents/Thesis/Thomas_Gallagher_Thesis/Data/AFL_Stats_sorted/games_sorted.csv\")\n",
    "all_stats = \"C:/Users/Craig/Documents/Thesis/Thomas_Gallagher_Thesis/Data/AFL_Stats_sorted/stats_sorted.csv\"\n",
    "print(all_games)"
   ]
  },
  {
   "attachments": {},
   "cell_type": "markdown",
   "metadata": {},
   "source": [
    "https://www.youtube.com/watch?v=k7hSD_-gWMw"
   ]
  },
  {
   "cell_type": "code",
   "execution_count": 2,
   "metadata": {},
   "outputs": [],
   "source": [
    "for year in years:\n",
    "    exec(f'results_{year} = pd.read_csv(games_filename_{year}, index_col = False)')\n",
    "    \n",
    "all_results_raw = pd.read_csv(all_games)\n",
    "all_stats_raw = pd.read_csv(all_stats)\n",
    "all_results = all_results_raw"
   ]
  },
  {
   "cell_type": "code",
   "execution_count": 3,
   "metadata": {},
   "outputs": [
    {
     "data": {
      "text/html": [
       "<div>\n",
       "<style scoped>\n",
       "    .dataframe tbody tr th:only-of-type {\n",
       "        vertical-align: middle;\n",
       "    }\n",
       "\n",
       "    .dataframe tbody tr th {\n",
       "        vertical-align: top;\n",
       "    }\n",
       "\n",
       "    .dataframe thead th {\n",
       "        text-align: right;\n",
       "    }\n",
       "</style>\n",
       "<table border=\"1\" class=\"dataframe\">\n",
       "  <thead>\n",
       "    <tr style=\"text-align: right;\">\n",
       "      <th></th>\n",
       "      <th>gameId</th>\n",
       "      <th>year</th>\n",
       "      <th>round</th>\n",
       "      <th>date</th>\n",
       "      <th>venue</th>\n",
       "      <th>startTime</th>\n",
       "      <th>attendance</th>\n",
       "      <th>homeTeam</th>\n",
       "      <th>homeTeamScore</th>\n",
       "      <th>awayTeam</th>\n",
       "      <th>awayTeamScore</th>\n",
       "      <th>rainfall</th>\n",
       "      <th>homeWin</th>\n",
       "    </tr>\n",
       "  </thead>\n",
       "  <tbody>\n",
       "    <tr>\n",
       "      <th>0</th>\n",
       "      <td>2012R101</td>\n",
       "      <td>2012</td>\n",
       "      <td>R1</td>\n",
       "      <td>24-Mar-12</td>\n",
       "      <td>Stadium Australia</td>\n",
       "      <td>7:20 PM</td>\n",
       "      <td>38203</td>\n",
       "      <td>Greater Western Sydney</td>\n",
       "      <td>37</td>\n",
       "      <td>Sydney</td>\n",
       "      <td>100</td>\n",
       "      <td>0.0</td>\n",
       "      <td>False</td>\n",
       "    </tr>\n",
       "    <tr>\n",
       "      <th>1</th>\n",
       "      <td>2012R102</td>\n",
       "      <td>2012</td>\n",
       "      <td>R1</td>\n",
       "      <td>29-Mar-12</td>\n",
       "      <td>M.C.G.</td>\n",
       "      <td>7:45 PM</td>\n",
       "      <td>78285</td>\n",
       "      <td>Richmond</td>\n",
       "      <td>81</td>\n",
       "      <td>Carlton</td>\n",
       "      <td>125</td>\n",
       "      <td>0.0</td>\n",
       "      <td>False</td>\n",
       "    </tr>\n",
       "    <tr>\n",
       "      <th>2</th>\n",
       "      <td>2012R103</td>\n",
       "      <td>2012</td>\n",
       "      <td>R1</td>\n",
       "      <td>30-Mar-12</td>\n",
       "      <td>M.C.G.</td>\n",
       "      <td>7:50 PM</td>\n",
       "      <td>78466</td>\n",
       "      <td>Hawthorn</td>\n",
       "      <td>137</td>\n",
       "      <td>Collingwood</td>\n",
       "      <td>115</td>\n",
       "      <td>0.0</td>\n",
       "      <td>True</td>\n",
       "    </tr>\n",
       "    <tr>\n",
       "      <th>3</th>\n",
       "      <td>2012R104</td>\n",
       "      <td>2012</td>\n",
       "      <td>R1</td>\n",
       "      <td>31-Mar-12</td>\n",
       "      <td>M.C.G.</td>\n",
       "      <td>1:45 PM</td>\n",
       "      <td>33473</td>\n",
       "      <td>Melbourne</td>\n",
       "      <td>78</td>\n",
       "      <td>Brisbane Lions</td>\n",
       "      <td>119</td>\n",
       "      <td>0.6</td>\n",
       "      <td>False</td>\n",
       "    </tr>\n",
       "    <tr>\n",
       "      <th>4</th>\n",
       "      <td>2012R105</td>\n",
       "      <td>2012</td>\n",
       "      <td>R1</td>\n",
       "      <td>31-Mar-12</td>\n",
       "      <td>Carrara</td>\n",
       "      <td>3:45 PM</td>\n",
       "      <td>12790</td>\n",
       "      <td>Gold Coast</td>\n",
       "      <td>68</td>\n",
       "      <td>Adelaide</td>\n",
       "      <td>137</td>\n",
       "      <td>0.0</td>\n",
       "      <td>False</td>\n",
       "    </tr>\n",
       "  </tbody>\n",
       "</table>\n",
       "</div>"
      ],
      "text/plain": [
       "     gameId  year round       date              venue startTime  attendance  \\\n",
       "0  2012R101  2012    R1  24-Mar-12  Stadium Australia   7:20 PM       38203   \n",
       "1  2012R102  2012    R1  29-Mar-12             M.C.G.   7:45 PM       78285   \n",
       "2  2012R103  2012    R1  30-Mar-12             M.C.G.   7:50 PM       78466   \n",
       "3  2012R104  2012    R1  31-Mar-12             M.C.G.   1:45 PM       33473   \n",
       "4  2012R105  2012    R1  31-Mar-12            Carrara   3:45 PM       12790   \n",
       "\n",
       "                 homeTeam  homeTeamScore        awayTeam  awayTeamScore  \\\n",
       "0  Greater Western Sydney             37          Sydney            100   \n",
       "1                Richmond             81         Carlton            125   \n",
       "2                Hawthorn            137     Collingwood            115   \n",
       "3               Melbourne             78  Brisbane Lions            119   \n",
       "4              Gold Coast             68        Adelaide            137   \n",
       "\n",
       "   rainfall  homeWin  \n",
       "0       0.0    False  \n",
       "1       0.0    False  \n",
       "2       0.0     True  \n",
       "3       0.6    False  \n",
       "4       0.0    False  "
      ]
     },
     "execution_count": 3,
     "metadata": {},
     "output_type": "execute_result"
    }
   ],
   "source": [
    "for year in years:\n",
    "    exec(f'results_{year}[\"homeWin\"] = results_{year}[\"homeTeamScore\"] > results_{year}[\"awayTeamScore\"]')\n",
    "    exec(f'y_true_{year} = results_{year}[\"homeWin\"].values')  \n",
    "\n",
    "all_results['homeWin'] = all_results['homeTeamScore'] > all_results['awayTeamScore']\n",
    "y_true_all = all_results['homeWin'].values\n",
    "all_results[:5]"
   ]
  },
  {
   "attachments": {},
   "cell_type": "markdown",
   "metadata": {},
   "source": [
    "## Feature Building  \n",
    "HomeTeam, AwayTeam, Venue, Rainfall, Travel, TeamChangeNumber, TeamChangeGames, LastWeekResult, LastEncounterResult, WinStreak\n",
    "Form(Last5Games), TeamPlayerTotalRankingScore, BreakBetweenGames, LadderPosition"
   ]
  },
  {
   "cell_type": "code",
   "execution_count": 9,
   "metadata": {},
   "outputs": [
    {
     "data": {
      "text/html": [
       "<div>\n",
       "<style scoped>\n",
       "    .dataframe tbody tr th:only-of-type {\n",
       "        vertical-align: middle;\n",
       "    }\n",
       "\n",
       "    .dataframe tbody tr th {\n",
       "        vertical-align: top;\n",
       "    }\n",
       "\n",
       "    .dataframe thead th {\n",
       "        text-align: right;\n",
       "    }\n",
       "</style>\n",
       "<table border=\"1\" class=\"dataframe\">\n",
       "  <thead>\n",
       "    <tr style=\"text-align: right;\">\n",
       "      <th></th>\n",
       "      <th>year</th>\n",
       "      <th>attendance</th>\n",
       "      <th>homeTeamScore</th>\n",
       "      <th>awayTeamScore</th>\n",
       "      <th>rainfall</th>\n",
       "    </tr>\n",
       "  </thead>\n",
       "  <tbody>\n",
       "    <tr>\n",
       "      <th>count</th>\n",
       "      <td>207.0</td>\n",
       "      <td>207.000000</td>\n",
       "      <td>207.000000</td>\n",
       "      <td>207.000000</td>\n",
       "      <td>207.000000</td>\n",
       "    </tr>\n",
       "    <tr>\n",
       "      <th>mean</th>\n",
       "      <td>2012.0</td>\n",
       "      <td>32747.942029</td>\n",
       "      <td>96.376812</td>\n",
       "      <td>87.347826</td>\n",
       "      <td>2.252174</td>\n",
       "    </tr>\n",
       "    <tr>\n",
       "      <th>std</th>\n",
       "      <td>0.0</td>\n",
       "      <td>18335.613605</td>\n",
       "      <td>30.488149</td>\n",
       "      <td>29.316564</td>\n",
       "      <td>5.400394</td>\n",
       "    </tr>\n",
       "    <tr>\n",
       "      <th>min</th>\n",
       "      <td>2012.0</td>\n",
       "      <td>6696.000000</td>\n",
       "      <td>37.000000</td>\n",
       "      <td>31.000000</td>\n",
       "      <td>0.000000</td>\n",
       "    </tr>\n",
       "    <tr>\n",
       "      <th>25%</th>\n",
       "      <td>2012.0</td>\n",
       "      <td>18922.500000</td>\n",
       "      <td>77.000000</td>\n",
       "      <td>65.500000</td>\n",
       "      <td>0.000000</td>\n",
       "    </tr>\n",
       "    <tr>\n",
       "      <th>50%</th>\n",
       "      <td>2012.0</td>\n",
       "      <td>30172.000000</td>\n",
       "      <td>94.000000</td>\n",
       "      <td>86.000000</td>\n",
       "      <td>0.200000</td>\n",
       "    </tr>\n",
       "    <tr>\n",
       "      <th>75%</th>\n",
       "      <td>2012.0</td>\n",
       "      <td>41277.000000</td>\n",
       "      <td>114.000000</td>\n",
       "      <td>105.000000</td>\n",
       "      <td>2.000000</td>\n",
       "    </tr>\n",
       "    <tr>\n",
       "      <th>max</th>\n",
       "      <td>2012.0</td>\n",
       "      <td>99683.000000</td>\n",
       "      <td>193.000000</td>\n",
       "      <td>180.000000</td>\n",
       "      <td>38.400000</td>\n",
       "    </tr>\n",
       "  </tbody>\n",
       "</table>\n",
       "</div>"
      ],
      "text/plain": [
       "         year    attendance  homeTeamScore  awayTeamScore    rainfall\n",
       "count   207.0    207.000000     207.000000     207.000000  207.000000\n",
       "mean   2012.0  32747.942029      96.376812      87.347826    2.252174\n",
       "std       0.0  18335.613605      30.488149      29.316564    5.400394\n",
       "min    2012.0   6696.000000      37.000000      31.000000    0.000000\n",
       "25%    2012.0  18922.500000      77.000000      65.500000    0.000000\n",
       "50%    2012.0  30172.000000      94.000000      86.000000    0.200000\n",
       "75%    2012.0  41277.000000     114.000000     105.000000    2.000000\n",
       "max    2012.0  99683.000000     193.000000     180.000000   38.400000"
      ]
     },
     "execution_count": 9,
     "metadata": {},
     "output_type": "execute_result"
    }
   ],
   "source": [
    "## Remove uneeded fields\n",
    "results_clean_2012 = results_2012\n",
    "results_clean_2012.describe()"
   ]
  },
  {
   "cell_type": "code",
   "execution_count": 7,
   "metadata": {},
   "outputs": [],
   "source": [
    "results_clean_2012 = results_2012\n",
    "results_clean_2012.columns\n",
    "results_clean_2012 = results_clean_2012.drop(['year', 'date', 'startTime', 'attendance'], axis=1)\n",
    "results_clean_2012.columns\n",
    "\n",
    "a_2012 = results_clean_2012"
   ]
  },
  {
   "attachments": {},
   "cell_type": "markdown",
   "metadata": {},
   "source": [
    "## Build Y value \n",
    "Result of game based on Home Team (Win = 2, Draw = 1, Lose = 0)"
   ]
  },
  {
   "cell_type": "code",
   "execution_count": 8,
   "metadata": {},
   "outputs": [],
   "source": [
    "def homeWin(row):\n",
    "    homeScore = row[\"homeTeamScore\"]\n",
    "    awayScore = row[\"awayTeamScore\"]\n",
    "    row['homeWin'] = 2 if homeScore > awayScore else 0 if homeScore < awayScore else 1 \n",
    "        \n",
    "    return row\n",
    "  \n",
    "a_2012 = a_2012.apply(homeWin, axis=1)\n",
    "y_true_2012 = a_2012['homeWin']\n"
   ]
  },
  {
   "cell_type": "code",
   "execution_count": 33,
   "metadata": {},
   "outputs": [
    {
     "name": "stdout",
     "output_type": "stream",
     "text": [
      "gameId -> object\n",
      "round -> object\n",
      "venue -> object\n",
      "homeTeam -> object\n",
      "homeTeamScore -> int64\n",
      "awayTeam -> object\n",
      "awayTeamScore -> int64\n",
      "rainfall -> float64\n",
      "homeWin -> int64\n"
     ]
    },
    {
     "data": {
      "text/plain": [
       "gameId           0\n",
       "round            0\n",
       "venue            0\n",
       "homeTeam         0\n",
       "homeTeamScore    0\n",
       "awayTeam         0\n",
       "awayTeamScore    0\n",
       "rainfall         0\n",
       "homeWin          0\n",
       "dtype: int64"
      ]
     },
     "execution_count": 33,
     "metadata": {},
     "output_type": "execute_result"
    }
   ],
   "source": [
    "def show_dtypes(df):\n",
    "    for index in range(len(df.dtypes)):\n",
    "        print(f'{df.columns[index]} -> {df.dtypes[index]}' )\n",
    "\n",
    "show_dtypes(a_2012)\n",
    "a_2012.isnull().sum()"
   ]
  },
  {
   "attachments": {},
   "cell_type": "markdown",
   "metadata": {},
   "source": [
    "## Add Previous Game Result\n",
    "Set default dict to store results for each team\n",
    "Only a boolean value, draws only account for ~1% of all games \n",
    "Default to false\n",
    "If the last game was a win set to true\n",
    "# TODO \n",
    "add draws in and see if there is a difference"
   ]
  },
  {
   "cell_type": "code",
   "execution_count": 34,
   "metadata": {},
   "outputs": [],
   "source": [
    "a_2012[\"homeTeamLastWin\"] = False\n",
    "a_2012[\"awayTeamLastWin\"] = False\n",
    "\n",
    "from collections import defaultdict\n",
    "won_last = defaultdict(bool)\n",
    "\n",
    "def teamLastWin(row):\n",
    "    home_team = row[\"homeTeam\"]\n",
    "    away_team = row[\"awayTeam\"]\n",
    "    row[\"homeTeamLastWin\"] = won_last[home_team]\n",
    "    row[\"awayTeamLastWin\"] = won_last[away_team]\n",
    "    \n",
    "    won_last[home_team] = row[\"homeWin\"] == \"Win\"\n",
    "    won_last[away_team] = row[\"homeWin\"] == \"Loss\"\n",
    "    \n",
    "    return row\n",
    "  \n",
    "a_2012 = a_2012.apply(teamLastWin, axis=1)"
   ]
  },
  {
   "attachments": {},
   "cell_type": "markdown",
   "metadata": {},
   "source": [
    "## One Hot Encoding\n",
    "The tree models used for feature engineering cannot take in string inputs\n",
    "Value encoding can be used to change teams to int values, but then the model will read this as distance i.e. the team with value 1 will be read as being closer to the team with value 2 than the team with value 18. \n",
    "One Hot Encoding creates a bool variable for each team which is 1 when the team is playing.\n",
    "\n",
    "# TODO\n",
    "See if the model performs better with the simple label encoding. \n",
    "One hot encoding creates an issue with decision trees as it creates lots of \"empty\" splits, there will now be 34 variables which the model will split on 0, which can skew the model."
   ]
  },
  {
   "cell_type": "code",
   "execution_count": 35,
   "metadata": {},
   "outputs": [
    {
     "data": {
      "text/plain": [
       "(207, 36)"
      ]
     },
     "execution_count": 35,
     "metadata": {},
     "output_type": "execute_result"
    }
   ],
   "source": [
    "# One Hot Encoding Teams\n",
    "from sklearn.preprocessing import LabelEncoder, OneHotEncoder\n",
    "encoding = LabelEncoder()\n",
    "encoding.fit(all_results[\"homeTeam\"].values)\n",
    "\n",
    "home_teams_2012 = encoding.transform(a_2012[\"homeTeam\"].values)\n",
    "away_teams_2012 = encoding.transform(a_2012[\"awayTeam\"].values)\n",
    "\n",
    "all_teams_2012 = np.vstack([home_teams_2012, away_teams_2012]).T\n",
    "all_teams_2012[:5], all_teams_2012.shape\n",
    "\n",
    "oneHot = OneHotEncoder()\n",
    "X_teams_2012 = oneHot.fit_transform(all_teams_2012).todense()\n",
    "X_teams_2012.shape"
   ]
  },
  {
   "attachments": {},
   "cell_type": "markdown",
   "metadata": {},
   "source": [
    "## One Hot Encoding Venues\n",
    "Same issues as above, but simplified slightly as there are only 23 stadiums"
   ]
  },
  {
   "cell_type": "code",
   "execution_count": 36,
   "metadata": {},
   "outputs": [
    {
     "data": {
      "text/plain": [
       "(207, 16)"
      ]
     },
     "execution_count": 36,
     "metadata": {},
     "output_type": "execute_result"
    }
   ],
   "source": [
    "# One Hot Encoding Venues\n",
    "encoding = LabelEncoder()\n",
    "encoding.fit(all_results[\"venue\"].values)\n",
    "venues = encoding.transform(a_2012['venue'].values)\n",
    "\n",
    "all_venues = np.vstack(venues).T\n",
    "venues = venues.reshape(-1,1)\n",
    "venues[:5], venues.shape\n",
    "\n",
    "oneHot = OneHotEncoder()\n",
    "X_venues = oneHot.fit_transform(venues).todense()\n",
    "X_venues = np.asarray(X_venues)\n",
    "X_venues.shape"
   ]
  },
  {
   "attachments": {},
   "cell_type": "markdown",
   "metadata": {},
   "source": [
    "Computed Variables\n",
    "These variables did not appear in the original data set but were added later\n",
    "Travel Data: Used to determine the impact of travel on teams\n",
    "             Determined by comparing the venue of the upcoming match to the teams home location\n",
    "Break: Finds the break between a teams last and next game\n",
    "Team Changes: The number of players that are different in the from the previous match\n",
    "              The number of games lost/gained from these changes\n",
    "              The expected score lost/gained from the incoming players\n",
    "              # TODO split games out and games in into separate variables\n",
    "Team Composition: The average/total score of all the selected players\n",
    "                  Done this way to reduce number of features\n",
    "Previous 5 games result: Totals each teams previous games results\n",
    "\n",
    "             "
   ]
  },
  {
   "cell_type": "code",
   "execution_count": 37,
   "metadata": {},
   "outputs": [
    {
     "data": {
      "text/html": [
       "<div>\n",
       "<style scoped>\n",
       "    .dataframe tbody tr th:only-of-type {\n",
       "        vertical-align: middle;\n",
       "    }\n",
       "\n",
       "    .dataframe tbody tr th {\n",
       "        vertical-align: top;\n",
       "    }\n",
       "\n",
       "    .dataframe thead th {\n",
       "        text-align: right;\n",
       "    }\n",
       "</style>\n",
       "<table border=\"1\" class=\"dataframe\">\n",
       "  <thead>\n",
       "    <tr style=\"text-align: right;\">\n",
       "      <th></th>\n",
       "      <th>gameId</th>\n",
       "      <th>round</th>\n",
       "      <th>venue</th>\n",
       "      <th>homeTeam</th>\n",
       "      <th>homeTeamScore</th>\n",
       "      <th>awayTeam</th>\n",
       "      <th>awayTeamScore</th>\n",
       "      <th>rainfall</th>\n",
       "      <th>homeWin</th>\n",
       "      <th>homeTeamLastWin</th>\n",
       "      <th>awayTeamLastWin</th>\n",
       "      <th>awayTravel</th>\n",
       "      <th>homeTravel</th>\n",
       "    </tr>\n",
       "  </thead>\n",
       "  <tbody>\n",
       "    <tr>\n",
       "      <th>0</th>\n",
       "      <td>2012R101</td>\n",
       "      <td>R1</td>\n",
       "      <td>Stadium Australia</td>\n",
       "      <td>Greater Western Sydney</td>\n",
       "      <td>37</td>\n",
       "      <td>Sydney</td>\n",
       "      <td>100</td>\n",
       "      <td>0.0</td>\n",
       "      <td>0</td>\n",
       "      <td>False</td>\n",
       "      <td>False</td>\n",
       "      <td>0</td>\n",
       "      <td>0</td>\n",
       "    </tr>\n",
       "    <tr>\n",
       "      <th>1</th>\n",
       "      <td>2012R102</td>\n",
       "      <td>R1</td>\n",
       "      <td>M.C.G.</td>\n",
       "      <td>Richmond</td>\n",
       "      <td>81</td>\n",
       "      <td>Carlton</td>\n",
       "      <td>125</td>\n",
       "      <td>0.0</td>\n",
       "      <td>0</td>\n",
       "      <td>False</td>\n",
       "      <td>False</td>\n",
       "      <td>0</td>\n",
       "      <td>0</td>\n",
       "    </tr>\n",
       "    <tr>\n",
       "      <th>2</th>\n",
       "      <td>2012R103</td>\n",
       "      <td>R1</td>\n",
       "      <td>M.C.G.</td>\n",
       "      <td>Hawthorn</td>\n",
       "      <td>137</td>\n",
       "      <td>Collingwood</td>\n",
       "      <td>115</td>\n",
       "      <td>0.0</td>\n",
       "      <td>2</td>\n",
       "      <td>False</td>\n",
       "      <td>False</td>\n",
       "      <td>0</td>\n",
       "      <td>0</td>\n",
       "    </tr>\n",
       "    <tr>\n",
       "      <th>3</th>\n",
       "      <td>2012R104</td>\n",
       "      <td>R1</td>\n",
       "      <td>M.C.G.</td>\n",
       "      <td>Melbourne</td>\n",
       "      <td>78</td>\n",
       "      <td>Brisbane Lions</td>\n",
       "      <td>119</td>\n",
       "      <td>0.6</td>\n",
       "      <td>0</td>\n",
       "      <td>False</td>\n",
       "      <td>False</td>\n",
       "      <td>0</td>\n",
       "      <td>0</td>\n",
       "    </tr>\n",
       "    <tr>\n",
       "      <th>4</th>\n",
       "      <td>2012R105</td>\n",
       "      <td>R1</td>\n",
       "      <td>Carrara</td>\n",
       "      <td>Gold Coast</td>\n",
       "      <td>68</td>\n",
       "      <td>Adelaide</td>\n",
       "      <td>137</td>\n",
       "      <td>0.0</td>\n",
       "      <td>0</td>\n",
       "      <td>False</td>\n",
       "      <td>False</td>\n",
       "      <td>3</td>\n",
       "      <td>0</td>\n",
       "    </tr>\n",
       "    <tr>\n",
       "      <th>5</th>\n",
       "      <td>2012R106</td>\n",
       "      <td>R1</td>\n",
       "      <td>Subiaco</td>\n",
       "      <td>Fremantle</td>\n",
       "      <td>105</td>\n",
       "      <td>Geelong</td>\n",
       "      <td>101</td>\n",
       "      <td>0.0</td>\n",
       "      <td>2</td>\n",
       "      <td>False</td>\n",
       "      <td>False</td>\n",
       "      <td>3</td>\n",
       "      <td>0</td>\n",
       "    </tr>\n",
       "    <tr>\n",
       "      <th>6</th>\n",
       "      <td>2012R107</td>\n",
       "      <td>R1</td>\n",
       "      <td>Docklands</td>\n",
       "      <td>North Melbourne</td>\n",
       "      <td>102</td>\n",
       "      <td>Essendon</td>\n",
       "      <td>104</td>\n",
       "      <td>0.6</td>\n",
       "      <td>0</td>\n",
       "      <td>False</td>\n",
       "      <td>False</td>\n",
       "      <td>0</td>\n",
       "      <td>0</td>\n",
       "    </tr>\n",
       "    <tr>\n",
       "      <th>7</th>\n",
       "      <td>2012R108</td>\n",
       "      <td>R1</td>\n",
       "      <td>Docklands</td>\n",
       "      <td>Western Bulldogs</td>\n",
       "      <td>87</td>\n",
       "      <td>West Coast</td>\n",
       "      <td>136</td>\n",
       "      <td>0.0</td>\n",
       "      <td>0</td>\n",
       "      <td>False</td>\n",
       "      <td>False</td>\n",
       "      <td>4</td>\n",
       "      <td>0</td>\n",
       "    </tr>\n",
       "    <tr>\n",
       "      <th>8</th>\n",
       "      <td>2012R109</td>\n",
       "      <td>R1</td>\n",
       "      <td>Football Park</td>\n",
       "      <td>Port Adelaide</td>\n",
       "      <td>89</td>\n",
       "      <td>St Kilda</td>\n",
       "      <td>85</td>\n",
       "      <td>0.0</td>\n",
       "      <td>2</td>\n",
       "      <td>False</td>\n",
       "      <td>False</td>\n",
       "      <td>2</td>\n",
       "      <td>0</td>\n",
       "    </tr>\n",
       "    <tr>\n",
       "      <th>9</th>\n",
       "      <td>2012R201</td>\n",
       "      <td>R2</td>\n",
       "      <td>Gabba</td>\n",
       "      <td>Brisbane Lions</td>\n",
       "      <td>63</td>\n",
       "      <td>Carlton</td>\n",
       "      <td>154</td>\n",
       "      <td>0.0</td>\n",
       "      <td>0</td>\n",
       "      <td>False</td>\n",
       "      <td>False</td>\n",
       "      <td>3</td>\n",
       "      <td>0</td>\n",
       "    </tr>\n",
       "  </tbody>\n",
       "</table>\n",
       "</div>"
      ],
      "text/plain": [
       "     gameId round              venue                homeTeam  homeTeamScore  \\\n",
       "0  2012R101    R1  Stadium Australia  Greater Western Sydney             37   \n",
       "1  2012R102    R1             M.C.G.                Richmond             81   \n",
       "2  2012R103    R1             M.C.G.                Hawthorn            137   \n",
       "3  2012R104    R1             M.C.G.               Melbourne             78   \n",
       "4  2012R105    R1            Carrara              Gold Coast             68   \n",
       "5  2012R106    R1            Subiaco               Fremantle            105   \n",
       "6  2012R107    R1          Docklands         North Melbourne            102   \n",
       "7  2012R108    R1          Docklands        Western Bulldogs             87   \n",
       "8  2012R109    R1      Football Park           Port Adelaide             89   \n",
       "9  2012R201    R2              Gabba          Brisbane Lions             63   \n",
       "\n",
       "         awayTeam  awayTeamScore  rainfall  homeWin  homeTeamLastWin  \\\n",
       "0          Sydney            100       0.0        0            False   \n",
       "1         Carlton            125       0.0        0            False   \n",
       "2     Collingwood            115       0.0        2            False   \n",
       "3  Brisbane Lions            119       0.6        0            False   \n",
       "4        Adelaide            137       0.0        0            False   \n",
       "5         Geelong            101       0.0        2            False   \n",
       "6        Essendon            104       0.6        0            False   \n",
       "7      West Coast            136       0.0        0            False   \n",
       "8        St Kilda             85       0.0        2            False   \n",
       "9         Carlton            154       0.0        0            False   \n",
       "\n",
       "   awayTeamLastWin  awayTravel  homeTravel  \n",
       "0            False           0           0  \n",
       "1            False           0           0  \n",
       "2            False           0           0  \n",
       "3            False           0           0  \n",
       "4            False           3           0  \n",
       "5            False           3           0  \n",
       "6            False           0           0  \n",
       "7            False           4           0  \n",
       "8            False           2           0  \n",
       "9            False           3           0  "
      ]
     },
     "execution_count": 37,
     "metadata": {},
     "output_type": "execute_result"
    }
   ],
   "source": [
    "import AFL_Stats.afl_stats as st\n",
    "def travel(row):\n",
    "    row['awayTravel'] = st.team_travel(row['awayTeam'], row['venue'])\n",
    "    row['homeTravel'] = st.team_travel(row['homeTeam'], row['venue'])\n",
    "    return row\n",
    "a_2012 = a_2012.apply(travel, axis=1)\n",
    "\n",
    "a_2012[:10]"
   ]
  },
  {
   "cell_type": "code",
   "execution_count": null,
   "metadata": {},
   "outputs": [],
   "source": []
  },
  {
   "cell_type": "code",
   "execution_count": 29,
   "metadata": {},
   "outputs": [
    {
     "data": {
      "text/plain": [
       "matrix([[0.0, False, False, ..., 0.0, 0.0, 0.0],\n",
       "        [0.0, False, False, ..., 0.0, 0.0, 0.0],\n",
       "        [0.0, False, False, ..., 0.0, 0.0, 0.0],\n",
       "        ...,\n",
       "        [0.0, False, False, ..., 0.0, 0.0, 0.0],\n",
       "        [1.0, False, False, ..., 0.0, 0.0, 0.0],\n",
       "        [8.4, False, False, ..., 0.0, 0.0, 0.0]], dtype=object)"
      ]
     },
     "execution_count": 29,
     "metadata": {},
     "output_type": "execute_result"
    }
   ],
   "source": [
    "# Replace Teams and venues with OHE values\n",
    "a_2012_ohe = a_2012.drop(['homeTeam','awayTeam','venue','homeWin', 'homeTeamScore','awayTeamScore', 'round'], axis=1)\n",
    "a_2012_ohe.columns\n",
    "a_2012_ohe = np.hstack([a_2012_ohe, X_teams_2012, X_venues])\n",
    "\n",
    "a_2012_ohe"
   ]
  },
  {
   "cell_type": "code",
   "execution_count": 30,
   "metadata": {},
   "outputs": [
    {
     "name": "stdout",
     "output_type": "stream",
     "text": [
      "F1: 0.6333\n"
     ]
    },
    {
     "name": "stderr",
     "output_type": "stream",
     "text": [
      "C:\\Users\\Craig\\AppData\\Local\\Packages\\PythonSoftwareFoundation.Python.3.9_qbz5n2kfra8p0\\LocalCache\\local-packages\\Python39\\site-packages\\sklearn\\model_selection\\_split.py:676: UserWarning: The least populated class in y has only 1 members, which is less than n_splits=5.\n",
      "  warnings.warn(\n"
     ]
    }
   ],
   "source": [
    "from sklearn.tree import DecisionTreeClassifier\n",
    "from sklearn.model_selection import cross_val_score\n",
    "\n",
    "clf = DecisionTreeClassifier(random_state=26)\n",
    "y_true_2012 = np.asarray(y_true_2012)\n",
    "a_2012_ohe_in = np.asarray(a_2012_ohe)\n",
    "scores = cross_val_score(clf, a_2012_ohe_in, y_true_2012)\n",
    "\n",
    "print(\"F1: {0:0.4f}\".format(np.mean(scores)))"
   ]
  },
  {
   "attachments": {},
   "cell_type": "markdown",
   "metadata": {},
   "source": [
    "# Baseline\n",
    "Home team wins"
   ]
  },
  {
   "cell_type": "code",
   "execution_count": 4,
   "metadata": {},
   "outputs": [
    {
     "name": "stdout",
     "output_type": "stream",
     "text": [
      "55.55555555555556\n",
      "55.55555555555556\n",
      "56.52173913043478\n",
      "52.42718446601942\n",
      "59.42028985507246\n",
      "58.454106280193244\n",
      "54.589371980676326\n",
      "57.00483091787439\n",
      "56.17283950617284\n",
      "51.690821256038646\n",
      "Homewins percentage total: 55.7%\n"
     ]
    }
   ],
   "source": [
    "for year in years:\n",
    "    exec(f'n_games_{year} = results_{year}[\"homeWin\"].count()')\n",
    "    exec(f'n_homewins_{year} = results_{year}[\"homeWin\"].sum()')\n",
    "    exec(f'win_percentage_{year} = (n_homewins_{year} / n_games_{year}) * 100')\n",
    "    exec(f'win_percentage = (n_homewins_{year} / n_games_{year}) * 100')\n",
    "\n",
    "    # print(f'Homewins in {year}: {win_percentage}:')\n",
    "    exec(f'print(win_percentage)')\n",
    "\n",
    "n_games_total = all_results['homeWin'].count()\n",
    "n_homewins_total = all_results['homeWin'].sum()\n",
    "win_percentage_total = (n_homewins_total / n_games_total) * 100\n",
    "\n",
    "print(\"Homewins percentage total: {0:.1f}%\".format(win_percentage_total))\n"
   ]
  },
  {
   "cell_type": "code",
   "execution_count": 5,
   "metadata": {},
   "outputs": [
    {
     "name": "stdout",
     "output_type": "stream",
     "text": [
      "F1 Score 2012: 0.3968\n",
      "F1 Score 2013: 0.3968\n",
      "F1 Score 2014: 0.4082\n",
      "F1 Score 2015: 0.3606\n",
      "F1 Score 2016: 0.4430\n",
      "F1 Score 2017: 0.4313\n",
      "F1 Score 2018: 0.3855\n",
      "F1 Score 2019: 0.4139\n",
      "F1 Score 2020: 0.4041\n",
      "F1 Score 2021: 0.3523\n",
      "F1 Score Total: 0.3989\n"
     ]
    }
   ],
   "source": [
    "from sklearn.metrics import f1_score\n",
    "for year in years:\n",
    "    exec(f'y_pred_{year} = [1] * len(y_true_{year})')\n",
    "y_pred_all = [1] * len(y_true_all)\n",
    "\n",
    "print(\"F1 Score 2012: {:.4f}\".format(f1_score(y_true_2012, y_pred_2012, pos_label=None, average='weighted')))\n",
    "print(\"F1 Score 2013: {:.4f}\".format(f1_score(y_true_2013, y_pred_2013, pos_label=None, average='weighted')))\n",
    "print(\"F1 Score 2014: {:.4f}\".format(f1_score(y_true_2014, y_pred_2014, pos_label=None, average='weighted')))\n",
    "print(\"F1 Score 2015: {:.4f}\".format(f1_score(y_true_2015, y_pred_2015, pos_label=None, average='weighted')))\n",
    "print(\"F1 Score 2016: {:.4f}\".format(f1_score(y_true_2016, y_pred_2016, pos_label=None, average='weighted')))\n",
    "print(\"F1 Score 2017: {:.4f}\".format(f1_score(y_true_2017, y_pred_2017, pos_label=None, average='weighted')))\n",
    "print(\"F1 Score 2018: {:.4f}\".format(f1_score(y_true_2018, y_pred_2018, pos_label=None, average='weighted')))\n",
    "print(\"F1 Score 2019: {:.4f}\".format(f1_score(y_true_2019, y_pred_2019, pos_label=None, average='weighted')))\n",
    "print(\"F1 Score 2020: {:.4f}\".format(f1_score(y_true_2020, y_pred_2020, pos_label=None, average='weighted')))\n",
    "print(\"F1 Score 2021: {:.4f}\".format(f1_score(y_true_2021, y_pred_2021, pos_label=None, average='weighted')))\n",
    "print(\"F1 Score Total: {:.4f}\".format(f1_score(y_true_all, y_pred_all, pos_label=None, average='weighted')))"
   ]
  },
  {
   "cell_type": "code",
   "execution_count": 7,
   "metadata": {},
   "outputs": [
    {
     "name": "stdout",
     "output_type": "stream",
     "text": [
      "F1: 0.5796\n"
     ]
    }
   ],
   "source": [
    "from sklearn.tree import DecisionTreeClassifier\n",
    "from sklearn.model_selection import cross_val_score\n",
    "\n",
    "clf = DecisionTreeClassifier(random_state=26)\n",
    "\n",
    "X_prevWins = a_2012[[\"homeTeamLastWin\", \"awayTeamLastWin\"]].values\n",
    "scores = cross_val_score(clf, X_prevWins, y_true_2012)\n",
    "\n",
    "print(\"F1: {0:0.4f}\".format(np.mean(scores)))"
   ]
  },
  {
   "cell_type": "code",
   "execution_count": 12,
   "metadata": {},
   "outputs": [],
   "source": [
    "## need to look at previous years games\n",
    "\n",
    "last_winner = defaultdict(bool)\n",
    "\n",
    "def last_encounter_winner(row):\n",
    "    home_team = row['homeTeam']\n",
    "    away_team = row['awayTeam']\n",
    "\n",
    "    teams = tuple(sorted([home_team, away_team]))\n",
    "    result = True if last_winner[teams] == row['homeTeam'] else False\n",
    "\n",
    "    winner = row['homeTeam'] if row['homeWin'] else row['awayTeam']\n",
    "    last_winner[teams] = winner\n",
    "\n",
    "    row[\"homeTeamWonLast\"] = result\n",
    "    return row\n",
    "\n",
    "results_2012 = results_2012.apply(last_encounter_winner, axis=1)"
   ]
  },
  {
   "cell_type": "code",
   "execution_count": 82,
   "metadata": {},
   "outputs": [
    {
     "data": {
      "text/plain": [
       "matrix([[0., 0., 0., ..., 1., 0., 0.],\n",
       "        [0., 0., 0., ..., 0., 0., 0.],\n",
       "        [0., 0., 0., ..., 0., 0., 0.],\n",
       "        ...,\n",
       "        [0., 0., 0., ..., 0., 0., 0.],\n",
       "        [0., 0., 0., ..., 0., 0., 0.],\n",
       "        [0., 0., 0., ..., 1., 0., 0.]])"
      ]
     },
     "execution_count": 82,
     "metadata": {},
     "output_type": "execute_result"
    }
   ],
   "source": [
    "# One Hot Encoding Teams\n",
    "from sklearn.preprocessing import LabelEncoder, OneHotEncoder\n",
    "encoding = LabelEncoder()\n",
    "encoding.fit(all_results[\"homeTeam\"].values)\n",
    "\n",
    "\n",
    "home_teams_2012 = encoding.transform(results_2012[\"homeTeam\"].values)\n",
    "away_teams_2012 = encoding.transform(results_2012[\"awayTeam\"].values)\n",
    "\n",
    "all_teams_2012 = np.vstack([home_teams_2012, away_teams_2012]).T\n",
    "all_teams_2012[:5], all_teams_2012.shape\n",
    "\n",
    "oneHot = OneHotEncoder()\n",
    "X_teams_2012 = oneHot.fit_transform(all_teams_2012).todense()\n",
    "X_teams_2012.shape"
   ]
  },
  {
   "cell_type": "code",
   "execution_count": 127,
   "metadata": {},
   "outputs": [
    {
     "data": {
      "text/plain": [
       "(207, 16)"
      ]
     },
     "execution_count": 127,
     "metadata": {},
     "output_type": "execute_result"
    }
   ],
   "source": [
    "# One Hot Encoding Venues\n",
    "encoding = LabelEncoder()\n",
    "encoding.fit(all_results[\"venue\"].values)\n",
    "\n",
    "venues = encoding.transform(results_2012['venue'].values)\n",
    "\n",
    "all_venues = np.vstack(venues).T\n",
    "venues = venues.reshape(-1,1)\n",
    "venues[:5], venues.shape\n",
    "\n",
    "oneHot = OneHotEncoder()\n",
    "X_venues = oneHot.fit_transform(venues).todense()\n",
    "X_venues = np.asarray(X_venues)\n",
    "X_venues.shape"
   ]
  },
  {
   "cell_type": "code",
   "execution_count": 133,
   "metadata": {},
   "outputs": [
    {
     "name": "stdout",
     "output_type": "stream",
     "text": [
      "[nan nan nan nan nan]\n",
      "F1: nan\n"
     ]
    },
    {
     "name": "stderr",
     "output_type": "stream",
     "text": [
      "C:\\Users\\Craig\\AppData\\Local\\Packages\\PythonSoftwareFoundation.Python.3.9_qbz5n2kfra8p0\\LocalCache\\local-packages\\Python39\\site-packages\\sklearn\\model_selection\\_validation.py:372: FitFailedWarning: \n",
      "5 fits failed out of a total of 5.\n",
      "The score on these train-test partitions for these parameters will be set to nan.\n",
      "If these failures are not expected, you can try to debug them by setting error_score='raise'.\n",
      "\n",
      "Below are more details about the failures:\n",
      "--------------------------------------------------------------------------------\n",
      "1 fits failed with the following error:\n",
      "Traceback (most recent call last):\n",
      "  File \"C:\\Users\\Craig\\AppData\\Local\\Packages\\PythonSoftwareFoundation.Python.3.9_qbz5n2kfra8p0\\LocalCache\\local-packages\\Python39\\site-packages\\sklearn\\model_selection\\_validation.py\", line 680, in _fit_and_score\n",
      "    estimator.fit(X_train, y_train, **fit_params)\n",
      "  File \"C:\\Users\\Craig\\AppData\\Local\\Packages\\PythonSoftwareFoundation.Python.3.9_qbz5n2kfra8p0\\LocalCache\\local-packages\\Python39\\site-packages\\sklearn\\tree\\_classes.py\", line 937, in fit\n",
      "    super().fit(\n",
      "  File \"C:\\Users\\Craig\\AppData\\Local\\Packages\\PythonSoftwareFoundation.Python.3.9_qbz5n2kfra8p0\\LocalCache\\local-packages\\Python39\\site-packages\\sklearn\\tree\\_classes.py\", line 165, in fit\n",
      "    X, y = self._validate_data(\n",
      "  File \"C:\\Users\\Craig\\AppData\\Local\\Packages\\PythonSoftwareFoundation.Python.3.9_qbz5n2kfra8p0\\LocalCache\\local-packages\\Python39\\site-packages\\sklearn\\base.py\", line 578, in _validate_data\n",
      "    X = check_array(X, **check_X_params)\n",
      "  File \"C:\\Users\\Craig\\AppData\\Local\\Packages\\PythonSoftwareFoundation.Python.3.9_qbz5n2kfra8p0\\LocalCache\\local-packages\\Python39\\site-packages\\sklearn\\utils\\validation.py\", line 769, in check_array\n",
      "    raise ValueError(\n",
      "ValueError: Expected 2D array, got 1D array instead:\n",
      "array=[ 0.   1.6  0.   4.   0.   0.   0.   0.   0.   1.6  0.  10.4  1.8  0.\n",
      "  0.   0.2  0.   0.2  3.6  0.   6.2  0.   3.   3.2  0.   0.   1.8  0.\n",
      "  0.2  0.   4.  28.   8.2 28.   7.2  0.2  4.6  4.6  0.   0.   0.   0.\n",
      "  0.   0.   0.  26.4 30.8  0.8  0.   6.2  0.4  6.2  0.   0.   0.4  0.\n",
      "  0.   0.   1.   1.   0.   3.2  3.2  0.   0.   0.   0.   2.2  6.   0.\n",
      "  2.2  0.   1.2  0.   0.8  0.   0.   0.   2.8  0.   0.   0.   0.   0.2\n",
      "  3.6  0.4  8.6  0.8  0.4 12.   0.   2.8  0.   0.   0.2  0.2  0.   0.\n",
      "  0.2  2.   0.   0.   2.   2.6 13.6  0.  13.6  0.   0.   5.4  0.   0.8\n",
      "  1.4  0.   1.8  1.4  0.   0.   0.   0.6  0.   3.   0.   0.   3.   0.2\n",
      "  0.2  0.6  0.6  4.   4.  16.6  0.   0.   4.   0.4  1.6  1.6  2.6  0.6\n",
      "  2.2  0.   0.   0.   1.6  0.6  0.6  8.2  0.2  0.   0.2  1.2  0.   0.\n",
      "  0.   0.  10.6  0.2  0.8  0.   0.   2.   0.   1.   8.4].\n",
      "Reshape your data either using array.reshape(-1, 1) if your data has a single feature or array.reshape(1, -1) if it contains a single sample.\n",
      "\n",
      "--------------------------------------------------------------------------------\n",
      "1 fits failed with the following error:\n",
      "Traceback (most recent call last):\n",
      "  File \"C:\\Users\\Craig\\AppData\\Local\\Packages\\PythonSoftwareFoundation.Python.3.9_qbz5n2kfra8p0\\LocalCache\\local-packages\\Python39\\site-packages\\sklearn\\model_selection\\_validation.py\", line 680, in _fit_and_score\n",
      "    estimator.fit(X_train, y_train, **fit_params)\n",
      "  File \"C:\\Users\\Craig\\AppData\\Local\\Packages\\PythonSoftwareFoundation.Python.3.9_qbz5n2kfra8p0\\LocalCache\\local-packages\\Python39\\site-packages\\sklearn\\tree\\_classes.py\", line 937, in fit\n",
      "    super().fit(\n",
      "  File \"C:\\Users\\Craig\\AppData\\Local\\Packages\\PythonSoftwareFoundation.Python.3.9_qbz5n2kfra8p0\\LocalCache\\local-packages\\Python39\\site-packages\\sklearn\\tree\\_classes.py\", line 165, in fit\n",
      "    X, y = self._validate_data(\n",
      "  File \"C:\\Users\\Craig\\AppData\\Local\\Packages\\PythonSoftwareFoundation.Python.3.9_qbz5n2kfra8p0\\LocalCache\\local-packages\\Python39\\site-packages\\sklearn\\base.py\", line 578, in _validate_data\n",
      "    X = check_array(X, **check_X_params)\n",
      "  File \"C:\\Users\\Craig\\AppData\\Local\\Packages\\PythonSoftwareFoundation.Python.3.9_qbz5n2kfra8p0\\LocalCache\\local-packages\\Python39\\site-packages\\sklearn\\utils\\validation.py\", line 769, in check_array\n",
      "    raise ValueError(\n",
      "ValueError: Expected 2D array, got 1D array instead:\n",
      "array=[ 0.   0.   0.   0.6  0.   0.   0.6  0.   0.   0.   3.6  0.   0.   0.\n",
      "  3.6  0.4  0.   1.4  0.4  0.   0.   0.   9.2  0.   0.   0.   0.   2.4\n",
      "  2.6  2.6  0.   0.   0.   7.2  0.   1.4 19.   0.   0.   0.  38.4  0.\n",
      "  4.6  0.   0.   0.   0.  26.4 30.8  0.8  0.4  6.2  0.   0.   0.4  0.\n",
      "  0.   0.   1.   1.   0.   3.2  3.2  0.   0.   0.   0.   2.2  6.   0.\n",
      "  2.2  0.   1.2  0.   0.8  0.   0.   0.   2.8  0.   0.   0.   0.   0.2\n",
      "  3.6  0.4  8.6  0.8  0.4 12.   0.   2.8  0.   0.   0.2  0.2  0.   0.\n",
      "  0.2  2.   0.   0.   2.   2.6 13.6  0.  13.6  0.   0.   5.4  0.   0.8\n",
      "  1.4  0.   1.8  1.4  0.   0.   0.   0.6  0.   3.   0.   0.   3.   0.2\n",
      "  0.2  0.6  0.6  4.   4.  16.6  0.   0.   4.   0.4  1.6  1.6  2.6  0.6\n",
      "  2.2  0.   0.   0.   1.6  0.6  0.6  8.2  0.2  0.   0.2  1.2  0.   0.\n",
      "  0.   0.  10.6  0.2  0.8  0.   0.   2.   0.   1.   8.4].\n",
      "Reshape your data either using array.reshape(-1, 1) if your data has a single feature or array.reshape(1, -1) if it contains a single sample.\n",
      "\n",
      "--------------------------------------------------------------------------------\n",
      "1 fits failed with the following error:\n",
      "Traceback (most recent call last):\n",
      "  File \"C:\\Users\\Craig\\AppData\\Local\\Packages\\PythonSoftwareFoundation.Python.3.9_qbz5n2kfra8p0\\LocalCache\\local-packages\\Python39\\site-packages\\sklearn\\model_selection\\_validation.py\", line 680, in _fit_and_score\n",
      "    estimator.fit(X_train, y_train, **fit_params)\n",
      "  File \"C:\\Users\\Craig\\AppData\\Local\\Packages\\PythonSoftwareFoundation.Python.3.9_qbz5n2kfra8p0\\LocalCache\\local-packages\\Python39\\site-packages\\sklearn\\tree\\_classes.py\", line 937, in fit\n",
      "    super().fit(\n",
      "  File \"C:\\Users\\Craig\\AppData\\Local\\Packages\\PythonSoftwareFoundation.Python.3.9_qbz5n2kfra8p0\\LocalCache\\local-packages\\Python39\\site-packages\\sklearn\\tree\\_classes.py\", line 165, in fit\n",
      "    X, y = self._validate_data(\n",
      "  File \"C:\\Users\\Craig\\AppData\\Local\\Packages\\PythonSoftwareFoundation.Python.3.9_qbz5n2kfra8p0\\LocalCache\\local-packages\\Python39\\site-packages\\sklearn\\base.py\", line 578, in _validate_data\n",
      "    X = check_array(X, **check_X_params)\n",
      "  File \"C:\\Users\\Craig\\AppData\\Local\\Packages\\PythonSoftwareFoundation.Python.3.9_qbz5n2kfra8p0\\LocalCache\\local-packages\\Python39\\site-packages\\sklearn\\utils\\validation.py\", line 769, in check_array\n",
      "    raise ValueError(\n",
      "ValueError: Expected 2D array, got 1D array instead:\n",
      "array=[ 0.   0.   0.   0.6  0.   0.   0.6  0.   0.   0.   3.6  0.   0.   0.\n",
      "  3.6  0.4  0.   1.4  0.4  0.   0.   0.   9.2  0.   0.   0.   0.   2.4\n",
      "  2.6  2.6  0.   0.   0.   7.2  0.   1.4 19.   0.   0.   0.   0.  38.4\n",
      "  0.   1.6  0.   4.   0.   0.   0.   0.   0.   1.6  0.  10.4  1.8  0.\n",
      "  0.   0.2  0.   0.2  3.6  0.   6.2  0.   3.   3.2  0.   0.   1.8  0.\n",
      "  0.2  0.   4.  28.   8.2 28.   7.2  0.2  4.6  0.   0.   0.   0.   6.2\n",
      "  2.8  0.   0.   0.2  3.6  0.4 12.   0.   2.8  0.   0.   0.2  0.2  0.\n",
      "  0.   0.2  2.   0.   0.   2.   2.6 13.6  0.  13.6  0.   0.   5.4  0.\n",
      "  0.8  1.4  0.   1.8  1.4  0.   0.   0.   0.6  0.   3.   0.   0.   3.\n",
      "  0.2  0.2  0.6  0.6  4.   4.  16.6  0.   0.   4.   0.4  1.6  1.6  2.6\n",
      "  0.6  2.2  0.   0.   0.   1.6  0.6  0.6  8.2  0.2  0.   0.2  1.2  0.\n",
      "  0.   0.   0.  10.6  0.2  0.8  0.   0.   2.   0.   1.   8.4].\n",
      "Reshape your data either using array.reshape(-1, 1) if your data has a single feature or array.reshape(1, -1) if it contains a single sample.\n",
      "\n",
      "--------------------------------------------------------------------------------\n",
      "1 fits failed with the following error:\n",
      "Traceback (most recent call last):\n",
      "  File \"C:\\Users\\Craig\\AppData\\Local\\Packages\\PythonSoftwareFoundation.Python.3.9_qbz5n2kfra8p0\\LocalCache\\local-packages\\Python39\\site-packages\\sklearn\\model_selection\\_validation.py\", line 680, in _fit_and_score\n",
      "    estimator.fit(X_train, y_train, **fit_params)\n",
      "  File \"C:\\Users\\Craig\\AppData\\Local\\Packages\\PythonSoftwareFoundation.Python.3.9_qbz5n2kfra8p0\\LocalCache\\local-packages\\Python39\\site-packages\\sklearn\\tree\\_classes.py\", line 937, in fit\n",
      "    super().fit(\n",
      "  File \"C:\\Users\\Craig\\AppData\\Local\\Packages\\PythonSoftwareFoundation.Python.3.9_qbz5n2kfra8p0\\LocalCache\\local-packages\\Python39\\site-packages\\sklearn\\tree\\_classes.py\", line 165, in fit\n",
      "    X, y = self._validate_data(\n",
      "  File \"C:\\Users\\Craig\\AppData\\Local\\Packages\\PythonSoftwareFoundation.Python.3.9_qbz5n2kfra8p0\\LocalCache\\local-packages\\Python39\\site-packages\\sklearn\\base.py\", line 578, in _validate_data\n",
      "    X = check_array(X, **check_X_params)\n",
      "  File \"C:\\Users\\Craig\\AppData\\Local\\Packages\\PythonSoftwareFoundation.Python.3.9_qbz5n2kfra8p0\\LocalCache\\local-packages\\Python39\\site-packages\\sklearn\\utils\\validation.py\", line 769, in check_array\n",
      "    raise ValueError(\n",
      "ValueError: Expected 2D array, got 1D array instead:\n",
      "array=[ 0.   0.   0.   0.6  0.   0.   0.6  0.   0.   0.   3.6  0.   0.   0.\n",
      "  3.6  0.4  0.   1.4  0.4  0.   0.   0.   9.2  0.   0.   0.   0.   2.4\n",
      "  2.6  2.6  0.   0.   0.   7.2  0.   1.4 19.   0.   0.   0.   0.  38.4\n",
      "  0.   1.6  0.   4.   0.   0.   0.   0.   0.   1.6  0.  10.4  1.8  0.\n",
      "  0.   0.2  0.   0.2  3.6  0.   6.2  0.   3.   3.2  0.   0.   1.8  0.\n",
      "  0.2  0.   4.  28.   8.2 28.   7.2  0.2  4.6  4.6  0.   0.   0.   0.\n",
      "  0.   0.   0.  26.4 30.8  0.8  0.   6.2  0.4  6.2  0.   0.   0.4  0.\n",
      "  0.   0.   1.   1.   0.   3.2  3.2  0.   0.   0.   0.   2.2  6.   0.\n",
      "  2.2  0.   1.2  0.   0.8  0.   0.   0.   0.   0.   0.4  8.6  0.8  3.\n",
      "  0.2  0.2  0.6  0.6  4.   4.  16.6  0.   0.   4.   0.4  1.6  1.6  2.6\n",
      "  0.6  2.2  0.   0.   0.   1.6  0.6  0.6  8.2  0.2  0.   0.2  1.2  0.\n",
      "  0.   0.   0.  10.6  0.2  0.8  0.   0.   2.   0.   1.   8.4].\n",
      "Reshape your data either using array.reshape(-1, 1) if your data has a single feature or array.reshape(1, -1) if it contains a single sample.\n",
      "\n",
      "--------------------------------------------------------------------------------\n",
      "1 fits failed with the following error:\n",
      "Traceback (most recent call last):\n",
      "  File \"C:\\Users\\Craig\\AppData\\Local\\Packages\\PythonSoftwareFoundation.Python.3.9_qbz5n2kfra8p0\\LocalCache\\local-packages\\Python39\\site-packages\\sklearn\\model_selection\\_validation.py\", line 680, in _fit_and_score\n",
      "    estimator.fit(X_train, y_train, **fit_params)\n",
      "  File \"C:\\Users\\Craig\\AppData\\Local\\Packages\\PythonSoftwareFoundation.Python.3.9_qbz5n2kfra8p0\\LocalCache\\local-packages\\Python39\\site-packages\\sklearn\\tree\\_classes.py\", line 937, in fit\n",
      "    super().fit(\n",
      "  File \"C:\\Users\\Craig\\AppData\\Local\\Packages\\PythonSoftwareFoundation.Python.3.9_qbz5n2kfra8p0\\LocalCache\\local-packages\\Python39\\site-packages\\sklearn\\tree\\_classes.py\", line 165, in fit\n",
      "    X, y = self._validate_data(\n",
      "  File \"C:\\Users\\Craig\\AppData\\Local\\Packages\\PythonSoftwareFoundation.Python.3.9_qbz5n2kfra8p0\\LocalCache\\local-packages\\Python39\\site-packages\\sklearn\\base.py\", line 578, in _validate_data\n",
      "    X = check_array(X, **check_X_params)\n",
      "  File \"C:\\Users\\Craig\\AppData\\Local\\Packages\\PythonSoftwareFoundation.Python.3.9_qbz5n2kfra8p0\\LocalCache\\local-packages\\Python39\\site-packages\\sklearn\\utils\\validation.py\", line 769, in check_array\n",
      "    raise ValueError(\n",
      "ValueError: Expected 2D array, got 1D array instead:\n",
      "array=[ 0.   0.   0.   0.6  0.   0.   0.6  0.   0.   0.   3.6  0.   0.   0.\n",
      "  3.6  0.4  0.   1.4  0.4  0.   0.   0.   9.2  0.   0.   0.   0.   2.4\n",
      "  2.6  2.6  0.   0.   0.   7.2  0.   1.4 19.   0.   0.   0.   0.  38.4\n",
      "  0.   1.6  0.   4.   0.   0.   0.   0.   0.   1.6  0.  10.4  1.8  0.\n",
      "  0.   0.2  0.   0.2  3.6  0.   6.2  0.   3.   3.2  0.   0.   1.8  0.\n",
      "  0.2  0.   4.  28.   8.2 28.   7.2  0.2  4.6  4.6  0.   0.   0.   0.\n",
      "  0.   0.   0.  26.4 30.8  0.8  0.   6.2  0.4  6.2  0.   0.   0.4  0.\n",
      "  0.   0.   1.   1.   0.   3.2  3.2  0.   0.   0.   0.   2.2  6.   0.\n",
      "  2.2  0.   1.2  0.   0.8  0.   0.   0.   2.8  0.   0.   0.   0.   0.2\n",
      "  3.6  0.4  8.6  0.8  0.4 12.   0.   2.8  0.   0.   0.2  0.2  0.   0.\n",
      "  0.2  2.   0.   0.   2.   2.6 13.6  0.  13.6  0.   0.   5.4  0.   0.8\n",
      "  1.4  0.   1.8  1.4  0.   0.   0.   0.6  0.   3.   0.   0. ].\n",
      "Reshape your data either using array.reshape(-1, 1) if your data has a single feature or array.reshape(1, -1) if it contains a single sample.\n",
      "\n",
      "  warnings.warn(some_fits_failed_message, FitFailedWarning)\n"
     ]
    }
   ],
   "source": [
    "clf = DecisionTreeClassifier()\n",
    "scores_venues = cross_val_score(clf, results_2012[\"rainfall\"], y_true_2012)\n",
    "print(scores_venues)\n",
    "print(\"F1: {0:0.4f}\".format(np.mean(scores_venues)))"
   ]
  },
  {
   "cell_type": "code",
   "execution_count": 96,
   "metadata": {},
   "outputs": [
    {
     "name": "stdout",
     "output_type": "stream",
     "text": [
      "Home: [0. 0. 0. 0. 0. 0. 0. 0. 1. 0. 0. 0. 0. 0. 0. 0. 0. 0.]\n",
      "Away [0. 0. 0. 0. 0. 0. 0. 0. 0. 0. 0. 0. 0. 0. 0. 1. 0. 0.]\n"
     ]
    }
   ],
   "source": [
    "X_teams_2012.shape\n",
    "X_teams_2012 = np.asarray(X_teams_2012)\n",
    "print(\"Home:\", X_teams_2012[0,:18])\n",
    "print(\"Away\", X_teams_2012[0,18:])"
   ]
  },
  {
   "cell_type": "code",
   "execution_count": 76,
   "metadata": {},
   "outputs": [],
   "source": [
    "X_2012 = np.hstack"
   ]
  },
  {
   "cell_type": "code",
   "execution_count": 97,
   "metadata": {},
   "outputs": [
    {
     "name": "stdout",
     "output_type": "stream",
     "text": [
      "F1: 0.6619\n"
     ]
    }
   ],
   "source": [
    "clf_t = DecisionTreeClassifier(random_state=26)\n",
    "scores_teams = cross_val_score(clf_t, X_teams_2012, y_true_2012)\n",
    "\n",
    "print(\"F1: {0:0.4f}\".format(np.mean(scores_teams)))"
   ]
  },
  {
   "cell_type": "code",
   "execution_count": 100,
   "metadata": {},
   "outputs": [
    {
     "name": "stdout",
     "output_type": "stream",
     "text": [
      "F1: 0.7152\n",
      "RandomForestClassifier(criterion='entropy', max_features=10, n_estimators=50,\n",
      "                       random_state=26)\n"
     ]
    },
    {
     "name": "stderr",
     "output_type": "stream",
     "text": [
      "C:\\Users\\Craig\\AppData\\Local\\Packages\\PythonSoftwareFoundation.Python.3.9_qbz5n2kfra8p0\\LocalCache\\local-packages\\Python39\\site-packages\\sklearn\\model_selection\\_validation.py:372: FitFailedWarning: \n",
      "120 fits failed out of a total of 480.\n",
      "The score on these train-test partitions for these parameters will be set to nan.\n",
      "If these failures are not expected, you can try to debug them by setting error_score='raise'.\n",
      "\n",
      "Below are more details about the failures:\n",
      "--------------------------------------------------------------------------------\n",
      "120 fits failed with the following error:\n",
      "Traceback (most recent call last):\n",
      "  File \"C:\\Users\\Craig\\AppData\\Local\\Packages\\PythonSoftwareFoundation.Python.3.9_qbz5n2kfra8p0\\LocalCache\\local-packages\\Python39\\site-packages\\sklearn\\model_selection\\_validation.py\", line 680, in _fit_and_score\n",
      "    estimator.fit(X_train, y_train, **fit_params)\n",
      "  File \"C:\\Users\\Craig\\AppData\\Local\\Packages\\PythonSoftwareFoundation.Python.3.9_qbz5n2kfra8p0\\LocalCache\\local-packages\\Python39\\site-packages\\sklearn\\ensemble\\_forest.py\", line 450, in fit\n",
      "    trees = Parallel(\n",
      "  File \"C:\\Users\\Craig\\AppData\\Local\\Packages\\PythonSoftwareFoundation.Python.3.9_qbz5n2kfra8p0\\LocalCache\\local-packages\\Python39\\site-packages\\joblib\\parallel.py\", line 1043, in __call__\n",
      "    if self.dispatch_one_batch(iterator):\n",
      "  File \"C:\\Users\\Craig\\AppData\\Local\\Packages\\PythonSoftwareFoundation.Python.3.9_qbz5n2kfra8p0\\LocalCache\\local-packages\\Python39\\site-packages\\joblib\\parallel.py\", line 861, in dispatch_one_batch\n",
      "    self._dispatch(tasks)\n",
      "  File \"C:\\Users\\Craig\\AppData\\Local\\Packages\\PythonSoftwareFoundation.Python.3.9_qbz5n2kfra8p0\\LocalCache\\local-packages\\Python39\\site-packages\\joblib\\parallel.py\", line 779, in _dispatch\n",
      "    job = self._backend.apply_async(batch, callback=cb)\n",
      "  File \"C:\\Users\\Craig\\AppData\\Local\\Packages\\PythonSoftwareFoundation.Python.3.9_qbz5n2kfra8p0\\LocalCache\\local-packages\\Python39\\site-packages\\joblib\\_parallel_backends.py\", line 208, in apply_async\n",
      "    result = ImmediateResult(func)\n",
      "  File \"C:\\Users\\Craig\\AppData\\Local\\Packages\\PythonSoftwareFoundation.Python.3.9_qbz5n2kfra8p0\\LocalCache\\local-packages\\Python39\\site-packages\\joblib\\_parallel_backends.py\", line 572, in __init__\n",
      "    self.results = batch()\n",
      "  File \"C:\\Users\\Craig\\AppData\\Local\\Packages\\PythonSoftwareFoundation.Python.3.9_qbz5n2kfra8p0\\LocalCache\\local-packages\\Python39\\site-packages\\joblib\\parallel.py\", line 262, in __call__\n",
      "    return [func(*args, **kwargs)\n",
      "  File \"C:\\Users\\Craig\\AppData\\Local\\Packages\\PythonSoftwareFoundation.Python.3.9_qbz5n2kfra8p0\\LocalCache\\local-packages\\Python39\\site-packages\\joblib\\parallel.py\", line 262, in <listcomp>\n",
      "    return [func(*args, **kwargs)\n",
      "  File \"C:\\Users\\Craig\\AppData\\Local\\Packages\\PythonSoftwareFoundation.Python.3.9_qbz5n2kfra8p0\\LocalCache\\local-packages\\Python39\\site-packages\\sklearn\\utils\\fixes.py\", line 216, in __call__\n",
      "    return self.function(*args, **kwargs)\n",
      "  File \"C:\\Users\\Craig\\AppData\\Local\\Packages\\PythonSoftwareFoundation.Python.3.9_qbz5n2kfra8p0\\LocalCache\\local-packages\\Python39\\site-packages\\sklearn\\ensemble\\_forest.py\", line 185, in _parallel_build_trees\n",
      "    tree.fit(X, y, sample_weight=curr_sample_weight, check_input=False)\n",
      "  File \"C:\\Users\\Craig\\AppData\\Local\\Packages\\PythonSoftwareFoundation.Python.3.9_qbz5n2kfra8p0\\LocalCache\\local-packages\\Python39\\site-packages\\sklearn\\tree\\_classes.py\", line 937, in fit\n",
      "    super().fit(\n",
      "  File \"C:\\Users\\Craig\\AppData\\Local\\Packages\\PythonSoftwareFoundation.Python.3.9_qbz5n2kfra8p0\\LocalCache\\local-packages\\Python39\\site-packages\\sklearn\\tree\\_classes.py\", line 308, in fit\n",
      "    raise ValueError(\"max_features must be in (0, n_features]\")\n",
      "ValueError: max_features must be in (0, n_features]\n",
      "\n",
      "  warnings.warn(some_fits_failed_message, FitFailedWarning)\n",
      "C:\\Users\\Craig\\AppData\\Local\\Packages\\PythonSoftwareFoundation.Python.3.9_qbz5n2kfra8p0\\LocalCache\\local-packages\\Python39\\site-packages\\sklearn\\model_selection\\_search.py:969: UserWarning: One or more of the test scores are non-finite: [0.69639954 0.7010453  0.69152149 0.69651568 0.69140534 0.68675958\n",
      " 0.69616725 0.67688734 0.6960511  0.56527294 0.57026713 0.56051103\n",
      " 0.69117305 0.67665505 0.69581882 0.67200929 0.68629501 0.69581882\n",
      " 0.69593496 0.67688734 0.6815331  0.67235772 0.67723577 0.67723577\n",
      "        nan        nan        nan        nan        nan        nan\n",
      "        nan        nan        nan        nan        nan        nan\n",
      " 0.6960511  0.69117305 0.69117305 0.67653891 0.69593496 0.69593496\n",
      " 0.69117305 0.69117305 0.69140534 0.67224158 0.67200929 0.66724739\n",
      " 0.7010453  0.68675958 0.69152149 0.68199768 0.68664344 0.68199768\n",
      " 0.68675958 0.67688734 0.68652729 0.56527294 0.57502904 0.56051103\n",
      " 0.71521487 0.69117305 0.70557491 0.69593496 0.69105691 0.68629501\n",
      " 0.6767712  0.68664344 0.671777   0.67224158 0.68211382 0.67247387\n",
      "        nan        nan        nan        nan        nan        nan\n",
      "        nan        nan        nan        nan        nan        nan\n",
      " 0.70557491 0.69117305 0.71521487 0.67665505 0.69105691 0.69581882\n",
      " 0.69117305 0.69616725 0.6815331  0.68199768 0.66736353 0.66736353]\n",
      "  warnings.warn(\n"
     ]
    }
   ],
   "source": [
    "from sklearn.ensemble import RandomForestClassifier\n",
    "from sklearn.model_selection import GridSearchCV\n",
    "parameter_space = {\n",
    "    \"max_features\": [2,10,50,'auto'],\n",
    "    \"n_estimators\": [50,100,200],\n",
    "    \"criterion\": [\"gini\", \"entropy\"],\n",
    "    \"min_samples_leaf\": [1,2,4,6]\n",
    "}\n",
    "\n",
    "rf = RandomForestClassifier(random_state=26)\n",
    "grid = GridSearchCV(rf, parameter_space)\n",
    "grid.fit(X_teams_2012, y_true_2012)\n",
    "# scores_rf_teams = cross_val_score(rf, X_teams_2012, y_true_2012)\n",
    "print(\"F1: {0:0.4f}\".format(np.mean(grid.best_score_)))\n",
    "# print(grid.best_estimator_)"
   ]
  },
  {
   "cell_type": "code",
   "execution_count": 51,
   "metadata": {},
   "outputs": [
    {
     "data": {
      "text/plain": [
       "(207, 46)"
      ]
     },
     "execution_count": 51,
     "metadata": {},
     "output_type": "execute_result"
    }
   ],
   "source": [
    "mod_2012_results = a_2012[[\"homeTeamLastWin\", \"awayTeamLastWin\"]]\n",
    "X_2012_ref = np.hstack([a_2012, X_teams_2012])\n",
    "X_2012_ref.shape    "
   ]
  },
  {
   "cell_type": "code",
   "execution_count": 109,
   "metadata": {},
   "outputs": [
    {
     "name": "stdout",
     "output_type": "stream",
     "text": [
      "F1: 0.7055\n"
     ]
    }
   ],
   "source": [
    "cl = DecisionTreeClassifier(random_state=26)\n",
    "scores_all = cross_val_score(cl, X_2012_ref, y_true_2012)\n",
    "\n",
    "print(\"F1: {0:0.4f}\".format(np.mean(scores_all)))"
   ]
  }
 ],
 "metadata": {
  "kernelspec": {
   "display_name": "Python 3",
   "language": "python",
   "name": "python3"
  },
  "language_info": {
   "codemirror_mode": {
    "name": "ipython",
    "version": 3
   },
   "file_extension": ".py",
   "mimetype": "text/x-python",
   "name": "python",
   "nbconvert_exporter": "python",
   "pygments_lexer": "ipython3",
   "version": "3.9.13"
  },
  "orig_nbformat": 4,
  "vscode": {
   "interpreter": {
    "hash": "c107136c80d3013e96d4a2731fbe56196242e646bfe8344cadd1c966a2471f66"
   }
  }
 },
 "nbformat": 4,
 "nbformat_minor": 2
}
