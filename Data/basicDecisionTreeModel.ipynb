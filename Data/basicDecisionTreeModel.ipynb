{
 "cells": [
  {
   "cell_type": "code",
   "execution_count": 1,
   "metadata": {},
   "outputs": [
    {
     "name": "stdout",
     "output_type": "stream",
     "text": [
      "Activating ipynb\n",
      "C:/Users/Craig/Documents/Thesis/Thomas_Gallagher_Thesis/Data/AFL_Stats_sorted/games_sorted.csv\n"
     ]
    }
   ],
   "source": [
    "print(\"Activating ipynb\")\n",
    "import os \n",
    "import numpy as np\n",
    "import pandas as pd\n",
    "\n",
    "games_folder_path = \"C:/Users/Craig/Documents/Thesis/Thomas_Gallagher_Thesis/Data/AFL_Stats_sorted/Year/Games/\"\n",
    "years = [x for x in range(2012,2022)]\n",
    "for year in years:\n",
    "    exec(f'games_filename_{year} = \"C:/Users/Craig/Documents/Thesis/Thomas_Gallagher_Thesis/Data/AFL_Stats_sorted/Year/Games/{year}.csv\"')\n",
    "    # exec(f'games_filename_{year} = {os.path.join(games_folder_path, f\"{year}.csv\")}')\n",
    "all_games = os.path.join(\"C:/Users/Craig/Documents/Thesis/Thomas_Gallagher_Thesis/Data/AFL_Stats_sorted/games_sorted.csv\")\n",
    "\n",
    "print(all_games)"
   ]
  },
  {
   "attachments": {},
   "cell_type": "markdown",
   "metadata": {},
   "source": [
    "https://www.youtube.com/watch?v=k7hSD_-gWMw"
   ]
  },
  {
   "cell_type": "code",
   "execution_count": 2,
   "metadata": {},
   "outputs": [],
   "source": [
    "for year in years:\n",
    "    exec(f'results_{year} = pd.read_csv(games_filename_{year})')\n",
    "    \n",
    "all_results_raw = pd.read_csv(all_games)\n",
    "all_results = all_results_raw\n",
    "\n",
    "\n"
   ]
  },
  {
   "cell_type": "code",
   "execution_count": 3,
   "metadata": {},
   "outputs": [
    {
     "data": {
      "text/html": [
       "<div>\n",
       "<style scoped>\n",
       "    .dataframe tbody tr th:only-of-type {\n",
       "        vertical-align: middle;\n",
       "    }\n",
       "\n",
       "    .dataframe tbody tr th {\n",
       "        vertical-align: top;\n",
       "    }\n",
       "\n",
       "    .dataframe thead th {\n",
       "        text-align: right;\n",
       "    }\n",
       "</style>\n",
       "<table border=\"1\" class=\"dataframe\">\n",
       "  <thead>\n",
       "    <tr style=\"text-align: right;\">\n",
       "      <th></th>\n",
       "      <th>gameId</th>\n",
       "      <th>year</th>\n",
       "      <th>round</th>\n",
       "      <th>date</th>\n",
       "      <th>venue</th>\n",
       "      <th>startTime</th>\n",
       "      <th>attendance</th>\n",
       "      <th>homeTeam</th>\n",
       "      <th>homeTeamScore</th>\n",
       "      <th>awayTeam</th>\n",
       "      <th>awayTeamScore</th>\n",
       "      <th>rainfall</th>\n",
       "      <th>homeWin</th>\n",
       "    </tr>\n",
       "  </thead>\n",
       "  <tbody>\n",
       "    <tr>\n",
       "      <th>0</th>\n",
       "      <td>2012R101</td>\n",
       "      <td>2012</td>\n",
       "      <td>R1</td>\n",
       "      <td>24-Mar-12</td>\n",
       "      <td>Stadium Australia</td>\n",
       "      <td>7:20 PM</td>\n",
       "      <td>38203</td>\n",
       "      <td>Greater Western Sydney</td>\n",
       "      <td>37</td>\n",
       "      <td>Sydney</td>\n",
       "      <td>100</td>\n",
       "      <td>0.0</td>\n",
       "      <td>False</td>\n",
       "    </tr>\n",
       "    <tr>\n",
       "      <th>1</th>\n",
       "      <td>2012R102</td>\n",
       "      <td>2012</td>\n",
       "      <td>R1</td>\n",
       "      <td>29-Mar-12</td>\n",
       "      <td>M.C.G.</td>\n",
       "      <td>7:45 PM</td>\n",
       "      <td>78285</td>\n",
       "      <td>Richmond</td>\n",
       "      <td>81</td>\n",
       "      <td>Carlton</td>\n",
       "      <td>125</td>\n",
       "      <td>0.0</td>\n",
       "      <td>False</td>\n",
       "    </tr>\n",
       "    <tr>\n",
       "      <th>2</th>\n",
       "      <td>2012R103</td>\n",
       "      <td>2012</td>\n",
       "      <td>R1</td>\n",
       "      <td>30-Mar-12</td>\n",
       "      <td>M.C.G.</td>\n",
       "      <td>7:50 PM</td>\n",
       "      <td>78466</td>\n",
       "      <td>Hawthorn</td>\n",
       "      <td>137</td>\n",
       "      <td>Collingwood</td>\n",
       "      <td>115</td>\n",
       "      <td>0.0</td>\n",
       "      <td>True</td>\n",
       "    </tr>\n",
       "    <tr>\n",
       "      <th>3</th>\n",
       "      <td>2012R104</td>\n",
       "      <td>2012</td>\n",
       "      <td>R1</td>\n",
       "      <td>31-Mar-12</td>\n",
       "      <td>M.C.G.</td>\n",
       "      <td>1:45 PM</td>\n",
       "      <td>33473</td>\n",
       "      <td>Melbourne</td>\n",
       "      <td>78</td>\n",
       "      <td>Brisbane Lions</td>\n",
       "      <td>119</td>\n",
       "      <td>0.6</td>\n",
       "      <td>False</td>\n",
       "    </tr>\n",
       "    <tr>\n",
       "      <th>4</th>\n",
       "      <td>2012R105</td>\n",
       "      <td>2012</td>\n",
       "      <td>R1</td>\n",
       "      <td>31-Mar-12</td>\n",
       "      <td>Carrara</td>\n",
       "      <td>3:45 PM</td>\n",
       "      <td>12790</td>\n",
       "      <td>Gold Coast</td>\n",
       "      <td>68</td>\n",
       "      <td>Adelaide</td>\n",
       "      <td>137</td>\n",
       "      <td>0.0</td>\n",
       "      <td>False</td>\n",
       "    </tr>\n",
       "  </tbody>\n",
       "</table>\n",
       "</div>"
      ],
      "text/plain": [
       "     gameId  year round       date              venue startTime  attendance  \\\n",
       "0  2012R101  2012    R1  24-Mar-12  Stadium Australia   7:20 PM       38203   \n",
       "1  2012R102  2012    R1  29-Mar-12             M.C.G.   7:45 PM       78285   \n",
       "2  2012R103  2012    R1  30-Mar-12             M.C.G.   7:50 PM       78466   \n",
       "3  2012R104  2012    R1  31-Mar-12             M.C.G.   1:45 PM       33473   \n",
       "4  2012R105  2012    R1  31-Mar-12            Carrara   3:45 PM       12790   \n",
       "\n",
       "                 homeTeam  homeTeamScore        awayTeam  awayTeamScore  \\\n",
       "0  Greater Western Sydney             37          Sydney            100   \n",
       "1                Richmond             81         Carlton            125   \n",
       "2                Hawthorn            137     Collingwood            115   \n",
       "3               Melbourne             78  Brisbane Lions            119   \n",
       "4              Gold Coast             68        Adelaide            137   \n",
       "\n",
       "   rainfall  homeWin  \n",
       "0       0.0    False  \n",
       "1       0.0    False  \n",
       "2       0.0     True  \n",
       "3       0.6    False  \n",
       "4       0.0    False  "
      ]
     },
     "execution_count": 3,
     "metadata": {},
     "output_type": "execute_result"
    }
   ],
   "source": [
    "for year in years:\n",
    "    exec(f'results_{year}[\"homeWin\"] = results_{year}[\"homeTeamScore\"] > results_{year}[\"awayTeamScore\"]')\n",
    "    exec(f'y_true_{year} = results_{year}[\"homeWin\"].values')  \n",
    "\n",
    "all_results['homeWin'] = all_results['homeTeamScore'] > all_results['awayTeamScore']\n",
    "y_true_all = all_results['homeWin'].values\n",
    "all_results[:5]"
   ]
  },
  {
   "attachments": {},
   "cell_type": "markdown",
   "metadata": {},
   "source": [
    "# Baseline\n",
    "Home team wins"
   ]
  },
  {
   "cell_type": "code",
   "execution_count": 4,
   "metadata": {},
   "outputs": [
    {
     "name": "stdout",
     "output_type": "stream",
     "text": [
      "55.55555555555556\n",
      "55.55555555555556\n",
      "56.52173913043478\n",
      "52.42718446601942\n",
      "59.42028985507246\n",
      "58.454106280193244\n",
      "54.589371980676326\n",
      "57.00483091787439\n",
      "56.17283950617284\n",
      "51.690821256038646\n",
      "Homewins percentage total: 55.7%\n"
     ]
    }
   ],
   "source": [
    "for year in years:\n",
    "    exec(f'n_games_{year} = results_{year}[\"homeWin\"].count()')\n",
    "    exec(f'n_homewins_{year} = results_{year}[\"homeWin\"].sum()')\n",
    "    exec(f'win_percentage_{year} = (n_homewins_{year} / n_games_{year}) * 100')\n",
    "    exec(f'win_percentage = (n_homewins_{year} / n_games_{year}) * 100')\n",
    "\n",
    "    # print(f'Homewins in {year}: {win_percentage}:')\n",
    "    exec(f'print(win_percentage)')\n",
    "\n",
    "n_games_total = all_results['homeWin'].count()\n",
    "n_homewins_total = all_results['homeWin'].sum()\n",
    "win_percentage_total = (n_homewins_total / n_games_total) * 100\n",
    "\n",
    "print(\"Homewins percentage total: {0:.1f}%\".format(win_percentage_total))\n"
   ]
  },
  {
   "cell_type": "code",
   "execution_count": 5,
   "metadata": {},
   "outputs": [
    {
     "name": "stdout",
     "output_type": "stream",
     "text": [
      "F1 Score 2012: 0.3968\n",
      "F1 Score 2013: 0.3968\n",
      "F1 Score 2014: 0.4082\n",
      "F1 Score 2015: 0.3606\n",
      "F1 Score 2016: 0.4430\n",
      "F1 Score 2017: 0.4313\n",
      "F1 Score 2018: 0.3855\n",
      "F1 Score 2019: 0.4139\n",
      "F1 Score 2020: 0.4041\n",
      "F1 Score 2021: 0.3523\n",
      "F1 Score Total: 0.3989\n"
     ]
    }
   ],
   "source": [
    "from sklearn.metrics import f1_score\n",
    "for year in years:\n",
    "    exec(f'y_pred_{year} = [1] * len(y_true_{year})')\n",
    "y_pred_all = [1] * len(y_true_all)\n",
    "\n",
    "print(\"F1 Score 2012: {:.4f}\".format(f1_score(y_true_2012, y_pred_2012, pos_label=None, average='weighted')))\n",
    "print(\"F1 Score 2013: {:.4f}\".format(f1_score(y_true_2013, y_pred_2013, pos_label=None, average='weighted')))\n",
    "print(\"F1 Score 2014: {:.4f}\".format(f1_score(y_true_2014, y_pred_2014, pos_label=None, average='weighted')))\n",
    "print(\"F1 Score 2015: {:.4f}\".format(f1_score(y_true_2015, y_pred_2015, pos_label=None, average='weighted')))\n",
    "print(\"F1 Score 2016: {:.4f}\".format(f1_score(y_true_2016, y_pred_2016, pos_label=None, average='weighted')))\n",
    "print(\"F1 Score 2017: {:.4f}\".format(f1_score(y_true_2017, y_pred_2017, pos_label=None, average='weighted')))\n",
    "print(\"F1 Score 2018: {:.4f}\".format(f1_score(y_true_2018, y_pred_2018, pos_label=None, average='weighted')))\n",
    "print(\"F1 Score 2019: {:.4f}\".format(f1_score(y_true_2019, y_pred_2019, pos_label=None, average='weighted')))\n",
    "print(\"F1 Score 2020: {:.4f}\".format(f1_score(y_true_2020, y_pred_2020, pos_label=None, average='weighted')))\n",
    "print(\"F1 Score 2021: {:.4f}\".format(f1_score(y_true_2021, y_pred_2021, pos_label=None, average='weighted')))\n",
    "print(\"F1 Score Total: {:.4f}\".format(f1_score(y_true_all, y_pred_all, pos_label=None, average='weighted')))"
   ]
  },
  {
   "cell_type": "code",
   "execution_count": 6,
   "metadata": {},
   "outputs": [],
   "source": [
    "# Team Wins\n",
    "results_2012[\"homeTeamLastWin\"] = False\n",
    "results_2012[\"awayTeamLastWin\"] = False\n",
    "\n",
    "from collections import defaultdict\n",
    "won_last = defaultdict(bool)\n",
    "\n",
    "for index, row in results_2012.iterrows():\n",
    "    home_team = row[\"homeTeam\"]\n",
    "    away_team = row[\"awayTeam\"]\n",
    "    row[\"homeTeamLastWin\"] = won_last[home_team]\n",
    "    row[\"awayTeamLastWin\"] = won_last[away_team]\n",
    "    results_2012.iloc[index] = row\n",
    "\n",
    "    won_last[home_team] = row[\"homeWin\"]\n",
    "    won_last[away_team] = not row[\"homeWin\"]"
   ]
  },
  {
   "cell_type": "code",
   "execution_count": 22,
   "metadata": {},
   "outputs": [
    {
     "name": "stdout",
     "output_type": "stream",
     "text": [
      "F1: 0.5796\n"
     ]
    }
   ],
   "source": [
    "from sklearn.tree import DecisionTreeClassifier\n",
    "from sklearn.model_selection import cross_val_score\n",
    "\n",
    "clf = DecisionTreeClassifier(random_state=26)\n",
    "\n",
    "X_prevWins = results_2012[[\"homeTeamLastWin\", \"awayTeamLastWin\"]].values\n",
    "scores = cross_val_score(clf, X_prevWins, y_true_2012)\n",
    "\n",
    "print(\"F1: {0:0.4f}\".format(np.mean(scores)))"
   ]
  },
  {
   "cell_type": "code",
   "execution_count": 15,
   "metadata": {},
   "outputs": [],
   "source": [
    "# Winning streaks\n",
    "results_2012[\"HomeWinStreak\"] = 0\n",
    "results_2012[\"AwayWinStreak\"] = 0\n",
    "\n",
    "win_streak = defaultdict(int)\n",
    "\n",
    "for index, row in results_2012.iterrows():\n",
    "    home_team = row[\"homeTeam\"]\n",
    "    away_team = row[\"awayTeam\"]\n",
    "    row[\"HomeWinStreak\"] = win_streak[home_team]\n",
    "    row[\"AwayWinStreak\"] = win_streak[away_team]\n",
    "    results_2012.iloc[index] = row\n",
    "\n",
    "    if row[\"homeWin\"]:\n",
    "        win_streak[home_team] += 1\n",
    "        win_streak[away_team] = 0\n",
    "    else:\n",
    "        win_streak[away_team] += 1\n",
    "        win_streak[home_team] = 0"
   ]
  },
  {
   "cell_type": "code",
   "execution_count": 23,
   "metadata": {},
   "outputs": [
    {
     "name": "stdout",
     "output_type": "stream",
     "text": [
      "F1: 0.5070\n"
     ]
    }
   ],
   "source": [
    "X_winStreak = results_2012[[\"homeTeamLastWin\", \"awayTeamLastWin\", \"HomeWinStreak\", \"AwayWinStreak\"]].values\n",
    "scores = cross_val_score(clf, X_winStreak, y_true_2012)\n",
    "\n",
    "print(\"F1: {0:0.4f}\".format(np.mean(scores)))"
   ]
  },
  {
   "cell_type": "code",
   "execution_count": 11,
   "metadata": {},
   "outputs": [
    {
     "data": {
      "text/plain": [
       "(207, 2)"
      ]
     },
     "execution_count": 11,
     "metadata": {},
     "output_type": "execute_result"
    }
   ],
   "source": [
    "# One Hot Encoding Teams\n",
    "from sklearn.preprocessing import LabelEncoder, OneHotEncoder\n",
    "encoding = LabelEncoder()\n",
    "encoding.fit(all_results[\"homeTeam\"].values)\n",
    "\n",
    "\n",
    "home_teams_2012 = encoding.transform(results_2012[\"homeTeam\"].values)\n",
    "home_teams_2012 = encoding.transform(results_2012[\"awayTeam\"].values)\n",
    "\n",
    "home_teams_2012 = np.vstack([home_teams_2012, home_teams_2012]).T\n",
    "home_teams_2012[:5], home_teams_2012.shape\n",
    "\n",
    "oneHot = OneHotEncoder()\n",
    "X_teams_2012 = oneHot.fit_transform(home_teams_2012).todense()\n",
    "home_teams_2012.shape\n",
    "\n"
   ]
  },
  {
   "cell_type": "code",
   "execution_count": 12,
   "metadata": {},
   "outputs": [],
   "source": [
    "X_2012 = np.hstack"
   ]
  },
  {
   "cell_type": "code",
   "execution_count": 13,
   "metadata": {},
   "outputs": [
    {
     "name": "stdout",
     "output_type": "stream",
     "text": [
      "Home: [15 15]\n",
      "Away []\n"
     ]
    }
   ],
   "source": [
    "print(\"Home:\", home_teams_2012[0,:18])\n",
    "print(\"Away\", home_teams_2012[0,18:])"
   ]
  }
 ],
 "metadata": {
  "kernelspec": {
   "display_name": "Python 3",
   "language": "python",
   "name": "python3"
  },
  "language_info": {
   "codemirror_mode": {
    "name": "ipython",
    "version": 3
   },
   "file_extension": ".py",
   "mimetype": "text/x-python",
   "name": "python",
   "nbconvert_exporter": "python",
   "pygments_lexer": "ipython3",
   "version": "3.9.13"
  },
  "orig_nbformat": 4,
  "vscode": {
   "interpreter": {
    "hash": "c107136c80d3013e96d4a2731fbe56196242e646bfe8344cadd1c966a2471f66"
   }
  }
 },
 "nbformat": 4,
 "nbformat_minor": 2
}
