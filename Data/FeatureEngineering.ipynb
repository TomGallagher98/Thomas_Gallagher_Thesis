{
 "cells": [
  {
   "cell_type": "code",
   "execution_count": null,
   "metadata": {},
   "outputs": [],
   "source": [
    "print(\"Activating ipynb\")\n",
    "print (\"Importing libs\")\n",
    "import os \n",
    "import numpy as np\n",
    "import pandas as pd\n",
    "\n"
   ]
  },
  {
   "cell_type": "code",
   "execution_count": null,
   "metadata": {},
   "outputs": [],
   "source": [
    "# Load Initial Data\n",
    "print(\"Loading Initial Game Data\")\n",
    "games_folder_path = \"C:/Users/Craig/Documents/Thesis/Thomas_Gallagher_Thesis/Data/AFL_Stats_sorted/Year/Games/\"\n",
    "games_raw_2012 = pd.read_csv(games_folder_path + '2012.csv', index_col=False)\n",
    "games_raw_2013 = pd.read_csv(games_folder_path + '2013.csv', index_col=False)\n",
    "games_raw_2014 = pd.read_csv(games_folder_path + '2014.csv', index_col=False)\n",
    "games_raw_2015 = pd.read_csv(games_folder_path + '2015.csv', index_col=False)\n",
    "games_raw_2016 = pd.read_csv(games_folder_path + '2016.csv', index_col=False)\n",
    "games_raw_2017 = pd.read_csv(games_folder_path + '2017.csv', index_col=False)\n",
    "games_raw_2018 = pd.read_csv(games_folder_path + '2018.csv', index_col=False)\n",
    "games_raw_2019 = pd.read_csv(games_folder_path + '2019.csv', index_col=False)\n",
    "games_raw_2020 = pd.read_csv(games_folder_path + '2020.csv', index_col=False)\n",
    "games_raw_2021 = pd.read_csv(games_folder_path + '2021.csv', index_col=False)\n",
    "\n",
    "all_games = os.path.join(\"C:/Users/Craig/Documents/Thesis/Thomas_Gallagher_Thesis/Data/AFL_Stats_sorted/games_sorted.csv\")\n",
    "all_games_raw = pd.read_csv(all_games, index_col=False)\n",
    "\n",
    "print(all_games)"
   ]
  },
  {
   "cell_type": "code",
   "execution_count": null,
   "metadata": {},
   "outputs": [],
   "source": [
    "# Load Stats\n",
    "stats_folder_path = \"C:/Users/Craig/Documents/Thesis/Thomas_Gallagher_Thesis/Data/AFL_Stats_sorted/Year/Players/\"\n",
    "stats_raw_2012 = pd.read_csv(stats_folder_path + '2012.csv', index_col=False)\n",
    "stats_raw_2013 = pd.read_csv(stats_folder_path + '2013.csv', index_col=False)\n",
    "stats_raw_2014 = pd.read_csv(stats_folder_path + '2014.csv', index_col=False)\n",
    "stats_raw_2015 = pd.read_csv(stats_folder_path + '2015.csv', index_col=False)\n",
    "stats_raw_2016 = pd.read_csv(stats_folder_path + '2016.csv', index_col=False)\n",
    "stats_raw_2017 = pd.read_csv(stats_folder_path + '2017.csv', index_col=False)\n",
    "stats_raw_2018 = pd.read_csv(stats_folder_path + '2018.csv', index_col=False)\n",
    "stats_raw_2019 = pd.read_csv(stats_folder_path + '2019.csv', index_col=False)\n",
    "stats_raw_2020 = pd.read_csv(stats_folder_path + '2020.csv', index_col=False)\n",
    "stats_raw_2021 = pd.read_csv(stats_folder_path + '2021.csv', index_col=False)\n",
    "\n",
    "all_stats = \"C:/Users/Craig/Documents/Thesis/Thomas_Gallagher_Thesis/Data/AFL_Stats_sorted/stats_sorted.csv\"\n",
    "all_stats_raw = pd.read_csv(all_stats, index_col=False)"
   ]
  },
  {
   "cell_type": "code",
   "execution_count": null,
   "metadata": {},
   "outputs": [],
   "source": []
  }
 ],
 "metadata": {
  "kernelspec": {
   "display_name": "Python 3",
   "language": "python",
   "name": "python3"
  },
  "language_info": {
   "name": "python",
   "version": "3.9.13"
  },
  "orig_nbformat": 4,
  "vscode": {
   "interpreter": {
    "hash": "c107136c80d3013e96d4a2731fbe56196242e646bfe8344cadd1c966a2471f66"
   }
  }
 },
 "nbformat": 4,
 "nbformat_minor": 2
}
